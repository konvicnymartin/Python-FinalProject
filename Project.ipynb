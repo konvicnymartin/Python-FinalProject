{
 "cells": [
  {
   "cell_type": "markdown",
   "metadata": {},
   "source": [
    "# Project"
   ]
  },
  {
   "cell_type": "markdown",
   "metadata": {},
   "source": [
    "## Packages"
   ]
  },
  {
   "cell_type": "code",
   "execution_count": 2,
   "metadata": {},
   "outputs": [],
   "source": [
    "from bs4 import BeautifulSoup # to parse external data\n",
    "import yfinance as yf\n",
    "import pandas as pd # to read CSV files\n",
    "import requests # to get data\n",
    "import spacy #to extraxt entities"
   ]
  },
  {
   "cell_type": "markdown",
   "metadata": {},
   "source": [
    "## RSS feeds"
   ]
  },
  {
   "cell_type": "code",
   "execution_count": 3,
   "metadata": {},
   "outputs": [
    {
     "data": {
      "text/plain": [
       "<Response [200]>"
      ]
     },
     "execution_count": 3,
     "metadata": {},
     "output_type": "execute_result"
    }
   ],
   "source": [
    "# Check if data from the page are downloadable\n",
    "yahoo = requests.get(\"https://finance.yahoo.com/news/rssindex\")\n",
    "yahoo"
   ]
  },
  {
   "cell_type": "code",
   "execution_count": 4,
   "metadata": {
    "scrolled": true
   },
   "outputs": [
    {
     "data": {
      "text/plain": [
       "[<title>Yahoo Finance</title>,\n",
       " <title>Yahoo Finance</title>,\n",
       " <title>Turkey’s lira leaps by more than 40% in a day after President Erdogan unveils unorthodox plan to lure Turks away from dollars</title>,\n",
       " <title>Bank Of America Names Top 11 Stock Picks For 2022</title>,\n",
       " <title>2 Big Dividend Stocks Yielding at Least 9%; RBC Says ‘Buy’</title>,\n",
       " <title>Transfer IRA Money to an HSA</title>,\n",
       " <title>Diversify your portfolio the right way ⁠— here are 5 assets with little connection to the stock market’s wild swings</title>,\n",
       " <title>Here Are Barron’s 10 Top Stocks for the New Year</title>,\n",
       " <title>Tesla is at risk of losing its market dominance: analyst</title>,\n",
       " <title>Super-Rich Americans Feel Relief as Tax Hikes Are Canceled for Now</title>,\n",
       " <title>Average Retirement Savings by Group</title>,\n",
       " <title>Analysts Say You Should Sell 9 Big Stock Winners Right Now</title>,\n",
       " <title>Flipping Houses for Beginners: Top 5 Mistakes</title>,\n",
       " <title>The Rise of the Semi-Retired Life</title>,\n",
       " <title>Germany Is Closing Half of Its Reactors at Worst Possible Time</title>,\n",
       " <title>Battery Storage Soars on U.S. Electric Grid</title>,\n",
       " <title>Cathie Wood Pours Money Into 3 “Strong Buy” Innovation Stocks</title>,\n",
       " <title>Cathie Wood says there’s a stock bubble but it’s not in tech</title>,\n",
       " <title>One Day Your Roth IRA Will Fund Itself</title>,\n",
       " <title>No, Joe Manchin, Americans aren’t using the child tax credit to buy drugs</title>,\n",
       " <title>Tesla’s Musk Wants Credit for Paying Taxes. He’s Not Going to Get It.</title>,\n",
       " <title>China Hits Top Influencer With $210 Million Fine Over Taxes</title>,\n",
       " <title>How much do I need to retire? You tell me.</title>,\n",
       " <title>Monday was an ugly one for the stock market headed to Christmas. Here’s what history says about returns on the following Tuesday.</title>,\n",
       " <title>Buy More Palantir Here or Get Out? Here's My Plan</title>,\n",
       " <title>Oracle follows Microsoft into healthcare push with Cerner — is Salesforce next?</title>,\n",
       " <title>If Biden’s Spending Package Is Toast, Then so Are These Tax Hikes</title>,\n",
       " <title>3 “Strong Buy” Stocks Raymond James Predicts Will Surge Over 50% in 2022</title>,\n",
       " <title>IRA vs. Annuity: What's the Difference?</title>,\n",
       " <title>Oracle Stock Extends Slide as Cerner Deal Spurs Worries</title>,\n",
       " <title>Cathie Wood: My Stocks Are Now 'Deep Value,' Headed for Sky</title>,\n",
       " <title>There Will Be No Student-Loan Apocalypse</title>,\n",
       " <title>One stat shows how hard it is to pick market-beating stocks</title>,\n",
       " <title>I haven’t even finished my master’s degree and already have $200K in student loans. I am ‘barely getting by’ making $35K a year and living with my ex-boyfriend. How can I tackle this debt?</title>,\n",
       " <title>Omicron variant doesn't shake Goldman Sachs' bullish 2022 stock market prediction</title>,\n",
       " <title>Chinese Estates Plunges by Record After Privatization Collapses</title>,\n",
       " <title>How Moderna Is Leading The Omicron Battle As Novavax Marks A Key Win</title>,\n",
       " <title>All About Gemini, the Winklevoss Cryptocurrency Exchange</title>,\n",
       " <title>Artificial Intelligence Stocks To Buy And Watch Span Chips, Software, Internet Plays</title>,\n",
       " <title>Dogecoin Dev Joins Elon Musk in Faulting the Us Government</title>,\n",
       " <title>GM’s Barra Dismissed Cruise CEO Ammann Over Mission, IPO</title>,\n",
       " <title>Aquestive stock falls as FDA delays decision on experimental seizure treatment</title>,\n",
       " <title>Melinda French Gates Sells Large Chunk of Canadian National Railway Stock</title>,\n",
       " <title>Cybersecurity Stocks To Buy And Watch: Demand Grows For Next-Gen Security</title>,\n",
       " <title>Is Berkshire Hathaway Suitable for an IRA?</title>,\n",
       " <title>Malls Ditch Shopping to Fill Vacant Retail Stores</title>,\n",
       " <title>Tesla Stock Vs. BYD Stock: Tesla Growing Fast, But EV Rival Is Catching Up</title>,\n",
       " <title>Nikola Stock Dips After SEC Pact Follows Delivery Milestone For Tre Electric Trucks</title>,\n",
       " <title>Tesla Stock Has Wiped Out Its Post-Hertz Gains. But Here Are 4 Catalysts to Drive Shares Higher.</title>,\n",
       " <title>How Much You Will Get From Social Security</title>,\n",
       " <title>Rivian: Ignore the Noise and Buy the Dip, Says Analyst</title>,\n",
       " <title>In the stock market, the new year may start with a bang</title>]"
      ]
     },
     "execution_count": 4,
     "metadata": {},
     "output_type": "execute_result"
    }
   ],
   "source": [
    "# Get headlines\n",
    "Tyahoo = BeautifulSoup(yahoo.content, features='xml')\n",
    "TY = Tyahoo.findAll('title')\n",
    "TY # list of titles"
   ]
  },
  {
   "cell_type": "code",
   "execution_count": 5,
   "metadata": {},
   "outputs": [
    {
     "data": {
      "text/plain": [
       "<Response [200]>"
      ]
     },
     "execution_count": 5,
     "metadata": {},
     "output_type": "execute_result"
    }
   ],
   "source": [
    "wsj = requests.get(\"https://feeds.a.dj.com/rss/RSSMarketsMain.xml?fbclid=IwAR17gY8vV2SdoTLP_35v7zGYmPireg5xIX_y1VEgPYRoXVd5jVouoKRlXAc\")\n",
    "wsj"
   ]
  },
  {
   "cell_type": "code",
   "execution_count": 6,
   "metadata": {
    "scrolled": true
   },
   "outputs": [
    {
     "data": {
      "text/plain": [
       "[<title>WSJ.com: Markets</title>,\n",
       " <title>WSJ.com: Markets</title>,\n",
       " <title>NatWest Unit Pleads Guilty to Manipulating Treasury Markets</title>,\n",
       " <title>SoftBank Finalizing $4 Billion Loan From Apollo-Led Group</title>,\n",
       " <title>Cruise Industry Keeps Calm and Sails On</title>,\n",
       " <title>Food Companies Are Having Trouble Keeping Up With Inflation</title>,\n",
       " <title>Stocks Rise, Recouping Some Losses After Selloff</title>,\n",
       " <title>Micron, Nike, BlackBerry, Braze: What to Watch in the Stock Market Today</title>,\n",
       " <title>Nikola to Pay $125 Million in SEC Settlement</title>,\n",
       " <title>Property Logistics Specialist GLP Plans IPO for Investment Arm</title>,\n",
       " <title>Turkey Rolls Out Economic Rescue Plan, Reversing Lira Spiral</title>,\n",
       " <title>China's Yuan May Have Peaked</title>,\n",
       " <title>Five Big Tech Stocks Are Driving Markets. That Worries Some Investors</title>,\n",
       " <title>Wall Street Had a Red-Hot Year, But Can It Last?</title>,\n",
       " <title>China Mobile Plans to Raise $7.64 Billion Through Shanghai Listing</title>,\n",
       " <title>Asian Insurer FWD Moves to Shelve U.S. IPO</title>,\n",
       " <title>Dow, Oil Prices Fall on New Covid-19 Curbs</title>,\n",
       " <title>Turkey's Borrowing Costs Soar as Crisis Enters New Phase</title>,\n",
       " <title>Oracle Tests Investors' Newfound Faith</title>,\n",
       " <title>Buy Now, Pay Later Is Just One Piece of the Fintech Puzzle</title>,\n",
       " <title>Oracle's Larry Ellison Targets Health Cloud With $28.3 Billion Bid for Cerner</title>,\n",
       " <title>Republican SEC Commissioner Roisman to Leave Agency</title>]"
      ]
     },
     "execution_count": 6,
     "metadata": {},
     "output_type": "execute_result"
    }
   ],
   "source": [
    "Twsj = BeautifulSoup(wsj.content, features='xml')\n",
    "TW = Twsj.findAll('title')\n",
    "TW"
   ]
  },
  {
   "cell_type": "code",
   "execution_count": 7,
   "metadata": {},
   "outputs": [
    {
     "data": {
      "text/plain": [
       "<Response [200]>"
      ]
     },
     "execution_count": 7,
     "metadata": {},
     "output_type": "execute_result"
    }
   ],
   "source": [
    "cnbc = requests.get(\"https://www.cnbc.com/id/15839135/device/rss/rss.html?fbclid=IwAR2o0zeWtmgEwZob45_F6e02pkTVo9uBGL0VI1GQv8mPyScEFY-hn9t089Y\")\n",
    "cnbc"
   ]
  },
  {
   "cell_type": "code",
   "execution_count": 8,
   "metadata": {
    "scrolled": true
   },
   "outputs": [
    {
     "data": {
      "text/plain": [
       "[<title>Earnings</title>,\n",
       " <title>Nike shares rise as earnings, sales top estimates, fueled by strong North American demand</title>,\n",
       " <title>Darden shares fall as CEO announces plans to retire; Olive Garden parent raises forecast despite planned wage hike</title>,\n",
       " <title>Adobe plunges 10% and has second-worst day in past decade on weak guidance</title>,\n",
       " <title>Lowe's says pandemic-fueled home improvement demand could cool in year ahead</title>,\n",
       " <title>Lululemon earnings top estimates, but shares fall after retailer cuts forecast for Mirror sales</title>,\n",
       " <title>Oracle swings to loss because of payment tied to dispute over former CEO Hurd's employment</title>,\n",
       " <title>GameStop shares fall as video game retailer reports widening losses in third quarter</title>,\n",
       " <title>Rent the Runway posts widening losses, as subscribers have yet to return to pre-pandemic levels</title>,\n",
       " <title>Stitch Fix shares crater as retailer cuts forecast, despite topping earnings estimates</title>,\n",
       " <title>MongoDB shares jump as revenue growth accelerates</title>,\n",
       " <title>DocuSign plunges almost 30% after e-signature company issues weak fourth-quarter guidance</title>,\n",
       " <title>Kay Jewelers parent Signet shares down as investors fear retailer will have trouble sustaining strong growth </title>,\n",
       " <title>Dollar General tested a store for wealthier shoppers. Now, it will grow to 1,000 locations</title>,\n",
       " <title>Snowflake stock soars on strong revenue and Q4 guidance</title>,\n",
       " <title>Salesforce fourth quarter guidance misses Wall Street expectations</title>,\n",
       " <title>Eco-friendly shoemaker Allbirds posts wider loss despite 33% gain in quarterly sales; shares fall</title>,\n",
       " <title>Gap shares crater 15% after retailer sees millions in lost sales from delayed product shipments, cuts its forecast</title>,\n",
       " <title>Nordstrom shares tumble more than 20% as earnings fall short, hurt by higher labor costs, weak Nordstrom Rack sales </title>,\n",
       " <title>Dick's Sporting Goods shares fall despite earnings beat and hiked outlook</title>,\n",
       " <title>Best Buy earnings top estimates but retailer's stock tumbles amid weakening demand, shipping bottlenecks</title>,\n",
       " <title>Zoom beats estimates even as revenue growth is poised to slow after pandemic</title>,\n",
       " <title>Kohl's shares jump after retailer reports 16% sales increase as shoppers buy clothes and makeup</title>,\n",
       " <title>Macy's shares surge on upbeat earnings, decision to hire AlixPartners to review business</title>,\n",
       " <title>Alibaba shares drop 11% as its slashes guidance and earnings plunge on China's slowdown</title>,\n",
       " <title>Nvidia data center sales grew 55% on demand for artificial intelligence chips</title>,\n",
       " <title>Cisco reports disappointing revenue and issues forecast that misses estimates</title>,\n",
       " <title>Lowe's tops estimates as customers invest more in bigger home projects, retailer lifts sales forecast</title>,\n",
       " <title>Target tops earnings estimates, but shares fall as retailer focuses on keeping customer prices low</title>,\n",
       " <title>Walmart tops earnings estimates, wins back grocery shoppers as inflation heats up</title>,\n",
       " <title>Home Depot earnings top estimates fueled by 9.8% jump in sales as consumers fix up homes</title>]"
      ]
     },
     "execution_count": 8,
     "metadata": {},
     "output_type": "execute_result"
    }
   ],
   "source": [
    "Tcnbc = BeautifulSoup(cnbc.content, features='xml')\n",
    "TC = Tcnbc.findAll('title')\n",
    "TC"
   ]
  },
  {
   "cell_type": "markdown",
   "metadata": {},
   "source": [
    "## Extract entities"
   ]
  },
  {
   "cell_type": "code",
   "execution_count": 14,
   "metadata": {},
   "outputs": [],
   "source": [
    "# python -m spacy download en_core_web_sm\n",
    "nlp = spacy.load(\"en_core_web_sm\") # en_core_web_sm - basic NLP task (to process extracted text data)"
   ]
  },
  {
   "cell_type": "code",
   "execution_count": 17,
   "metadata": {},
   "outputs": [
    {
     "name": "stdout",
     "output_type": "stream",
     "text": [
      "<title>Adobe plunges 10% and has second-worst day in past decade on weak guidance</title>\n",
      "Adobe ----- proper noun ----- compound\n",
      "plunges ----- noun ----- None\n",
      "10 ----- numeral ----- numeric modifier\n",
      "% ----- noun ----- noun phrase as adverbial modifier\n",
      "and ----- coordinating conjunction ----- coordinating conjunction\n",
      "has ----- verb ----- conjunct\n",
      "second ----- adverb ----- adverbial modifier\n",
      "- ----- punctuation ----- punctuation\n",
      "worst ----- adjective ----- adjectival modifier\n",
      "day ----- noun ----- direct object\n",
      "in ----- adposition ----- prepositional modifier\n",
      "past ----- adjective ----- adjectival modifier\n",
      "decade ----- noun ----- object of preposition\n",
      "on ----- adposition ----- prepositional modifier\n",
      "weak ----- adjective ----- adjectival modifier\n",
      "guidance ----- noun ----- object of preposition\n"
     ]
    }
   ],
   "source": [
    "processed_hline = nlp(TC[3].text) #Get first headline\n",
    "print(TC[3])\n",
    "for token in processed_hline:\n",
    "    print(token.text, \"-----\", spacy.explain(token.pos_),'-----', spacy.explain(token.dep_)) # tokens + tags + dependencies"
   ]
  },
  {
   "cell_type": "code",
   "execution_count": 18,
   "metadata": {},
   "outputs": [
    {
     "data": {
      "text/html": [
       "<span class=\"tex2jax_ignore\"><svg xmlns=\"http://www.w3.org/2000/svg\" xmlns:xlink=\"http://www.w3.org/1999/xlink\" xml:lang=\"en\" id=\"653e25c86f4c4368adad1e2988691a7f-0\" class=\"displacy\" width=\"1590\" height=\"412.0\" direction=\"ltr\" style=\"max-width: none; height: 412.0px; color: #000000; background: #ffffff; font-family: Arial; direction: ltr\">\n",
       "<text class=\"displacy-token\" fill=\"currentColor\" text-anchor=\"middle\" y=\"322.0\">\n",
       "    <tspan class=\"displacy-word\" fill=\"currentColor\" x=\"50\">Adobe</tspan>\n",
       "    <tspan class=\"displacy-tag\" dy=\"2em\" fill=\"currentColor\" x=\"50\">PROPN</tspan>\n",
       "</text>\n",
       "\n",
       "<text class=\"displacy-token\" fill=\"currentColor\" text-anchor=\"middle\" y=\"322.0\">\n",
       "    <tspan class=\"displacy-word\" fill=\"currentColor\" x=\"160\">plunges</tspan>\n",
       "    <tspan class=\"displacy-tag\" dy=\"2em\" fill=\"currentColor\" x=\"160\">NOUN</tspan>\n",
       "</text>\n",
       "\n",
       "<text class=\"displacy-token\" fill=\"currentColor\" text-anchor=\"middle\" y=\"322.0\">\n",
       "    <tspan class=\"displacy-word\" fill=\"currentColor\" x=\"270\">10%</tspan>\n",
       "    <tspan class=\"displacy-tag\" dy=\"2em\" fill=\"currentColor\" x=\"270\">NOUN</tspan>\n",
       "</text>\n",
       "\n",
       "<text class=\"displacy-token\" fill=\"currentColor\" text-anchor=\"middle\" y=\"322.0\">\n",
       "    <tspan class=\"displacy-word\" fill=\"currentColor\" x=\"380\">and</tspan>\n",
       "    <tspan class=\"displacy-tag\" dy=\"2em\" fill=\"currentColor\" x=\"380\">CCONJ</tspan>\n",
       "</text>\n",
       "\n",
       "<text class=\"displacy-token\" fill=\"currentColor\" text-anchor=\"middle\" y=\"322.0\">\n",
       "    <tspan class=\"displacy-word\" fill=\"currentColor\" x=\"490\">has</tspan>\n",
       "    <tspan class=\"displacy-tag\" dy=\"2em\" fill=\"currentColor\" x=\"490\">VERB</tspan>\n",
       "</text>\n",
       "\n",
       "<text class=\"displacy-token\" fill=\"currentColor\" text-anchor=\"middle\" y=\"322.0\">\n",
       "    <tspan class=\"displacy-word\" fill=\"currentColor\" x=\"600\">second-</tspan>\n",
       "    <tspan class=\"displacy-tag\" dy=\"2em\" fill=\"currentColor\" x=\"600\">ADV</tspan>\n",
       "</text>\n",
       "\n",
       "<text class=\"displacy-token\" fill=\"currentColor\" text-anchor=\"middle\" y=\"322.0\">\n",
       "    <tspan class=\"displacy-word\" fill=\"currentColor\" x=\"710\">worst</tspan>\n",
       "    <tspan class=\"displacy-tag\" dy=\"2em\" fill=\"currentColor\" x=\"710\">ADJ</tspan>\n",
       "</text>\n",
       "\n",
       "<text class=\"displacy-token\" fill=\"currentColor\" text-anchor=\"middle\" y=\"322.0\">\n",
       "    <tspan class=\"displacy-word\" fill=\"currentColor\" x=\"820\">day</tspan>\n",
       "    <tspan class=\"displacy-tag\" dy=\"2em\" fill=\"currentColor\" x=\"820\">NOUN</tspan>\n",
       "</text>\n",
       "\n",
       "<text class=\"displacy-token\" fill=\"currentColor\" text-anchor=\"middle\" y=\"322.0\">\n",
       "    <tspan class=\"displacy-word\" fill=\"currentColor\" x=\"930\">in</tspan>\n",
       "    <tspan class=\"displacy-tag\" dy=\"2em\" fill=\"currentColor\" x=\"930\">ADP</tspan>\n",
       "</text>\n",
       "\n",
       "<text class=\"displacy-token\" fill=\"currentColor\" text-anchor=\"middle\" y=\"322.0\">\n",
       "    <tspan class=\"displacy-word\" fill=\"currentColor\" x=\"1040\">past</tspan>\n",
       "    <tspan class=\"displacy-tag\" dy=\"2em\" fill=\"currentColor\" x=\"1040\">ADJ</tspan>\n",
       "</text>\n",
       "\n",
       "<text class=\"displacy-token\" fill=\"currentColor\" text-anchor=\"middle\" y=\"322.0\">\n",
       "    <tspan class=\"displacy-word\" fill=\"currentColor\" x=\"1150\">decade</tspan>\n",
       "    <tspan class=\"displacy-tag\" dy=\"2em\" fill=\"currentColor\" x=\"1150\">NOUN</tspan>\n",
       "</text>\n",
       "\n",
       "<text class=\"displacy-token\" fill=\"currentColor\" text-anchor=\"middle\" y=\"322.0\">\n",
       "    <tspan class=\"displacy-word\" fill=\"currentColor\" x=\"1260\">on</tspan>\n",
       "    <tspan class=\"displacy-tag\" dy=\"2em\" fill=\"currentColor\" x=\"1260\">ADP</tspan>\n",
       "</text>\n",
       "\n",
       "<text class=\"displacy-token\" fill=\"currentColor\" text-anchor=\"middle\" y=\"322.0\">\n",
       "    <tspan class=\"displacy-word\" fill=\"currentColor\" x=\"1370\">weak</tspan>\n",
       "    <tspan class=\"displacy-tag\" dy=\"2em\" fill=\"currentColor\" x=\"1370\">ADJ</tspan>\n",
       "</text>\n",
       "\n",
       "<text class=\"displacy-token\" fill=\"currentColor\" text-anchor=\"middle\" y=\"322.0\">\n",
       "    <tspan class=\"displacy-word\" fill=\"currentColor\" x=\"1480\">guidance</tspan>\n",
       "    <tspan class=\"displacy-tag\" dy=\"2em\" fill=\"currentColor\" x=\"1480\">NOUN</tspan>\n",
       "</text>\n",
       "\n",
       "<g class=\"displacy-arrow\">\n",
       "    <path class=\"displacy-arc\" id=\"arrow-653e25c86f4c4368adad1e2988691a7f-0-0\" stroke-width=\"2px\" d=\"M70,277.0 C70,222.0 140.0,222.0 140.0,277.0\" fill=\"none\" stroke=\"currentColor\"/>\n",
       "    <text dy=\"1.25em\" style=\"font-size: 0.8em; letter-spacing: 1px\">\n",
       "        <textPath xlink:href=\"#arrow-653e25c86f4c4368adad1e2988691a7f-0-0\" class=\"displacy-label\" startOffset=\"50%\" side=\"left\" fill=\"currentColor\" text-anchor=\"middle\">compound</textPath>\n",
       "    </text>\n",
       "    <path class=\"displacy-arrowhead\" d=\"M70,279.0 L62,267.0 78,267.0\" fill=\"currentColor\"/>\n",
       "</g>\n",
       "\n",
       "<g class=\"displacy-arrow\">\n",
       "    <path class=\"displacy-arc\" id=\"arrow-653e25c86f4c4368adad1e2988691a7f-0-1\" stroke-width=\"2px\" d=\"M180,277.0 C180,222.0 250.0,222.0 250.0,277.0\" fill=\"none\" stroke=\"currentColor\"/>\n",
       "    <text dy=\"1.25em\" style=\"font-size: 0.8em; letter-spacing: 1px\">\n",
       "        <textPath xlink:href=\"#arrow-653e25c86f4c4368adad1e2988691a7f-0-1\" class=\"displacy-label\" startOffset=\"50%\" side=\"left\" fill=\"currentColor\" text-anchor=\"middle\">npadvmod</textPath>\n",
       "    </text>\n",
       "    <path class=\"displacy-arrowhead\" d=\"M250.0,279.0 L258.0,267.0 242.0,267.0\" fill=\"currentColor\"/>\n",
       "</g>\n",
       "\n",
       "<g class=\"displacy-arrow\">\n",
       "    <path class=\"displacy-arc\" id=\"arrow-653e25c86f4c4368adad1e2988691a7f-0-2\" stroke-width=\"2px\" d=\"M180,277.0 C180,167.0 365.0,167.0 365.0,277.0\" fill=\"none\" stroke=\"currentColor\"/>\n",
       "    <text dy=\"1.25em\" style=\"font-size: 0.8em; letter-spacing: 1px\">\n",
       "        <textPath xlink:href=\"#arrow-653e25c86f4c4368adad1e2988691a7f-0-2\" class=\"displacy-label\" startOffset=\"50%\" side=\"left\" fill=\"currentColor\" text-anchor=\"middle\">cc</textPath>\n",
       "    </text>\n",
       "    <path class=\"displacy-arrowhead\" d=\"M365.0,279.0 L373.0,267.0 357.0,267.0\" fill=\"currentColor\"/>\n",
       "</g>\n",
       "\n",
       "<g class=\"displacy-arrow\">\n",
       "    <path class=\"displacy-arc\" id=\"arrow-653e25c86f4c4368adad1e2988691a7f-0-3\" stroke-width=\"2px\" d=\"M180,277.0 C180,112.0 480.0,112.0 480.0,277.0\" fill=\"none\" stroke=\"currentColor\"/>\n",
       "    <text dy=\"1.25em\" style=\"font-size: 0.8em; letter-spacing: 1px\">\n",
       "        <textPath xlink:href=\"#arrow-653e25c86f4c4368adad1e2988691a7f-0-3\" class=\"displacy-label\" startOffset=\"50%\" side=\"left\" fill=\"currentColor\" text-anchor=\"middle\">conj</textPath>\n",
       "    </text>\n",
       "    <path class=\"displacy-arrowhead\" d=\"M480.0,279.0 L488.0,267.0 472.0,267.0\" fill=\"currentColor\"/>\n",
       "</g>\n",
       "\n",
       "<g class=\"displacy-arrow\">\n",
       "    <path class=\"displacy-arc\" id=\"arrow-653e25c86f4c4368adad1e2988691a7f-0-4\" stroke-width=\"2px\" d=\"M620,277.0 C620,222.0 690.0,222.0 690.0,277.0\" fill=\"none\" stroke=\"currentColor\"/>\n",
       "    <text dy=\"1.25em\" style=\"font-size: 0.8em; letter-spacing: 1px\">\n",
       "        <textPath xlink:href=\"#arrow-653e25c86f4c4368adad1e2988691a7f-0-4\" class=\"displacy-label\" startOffset=\"50%\" side=\"left\" fill=\"currentColor\" text-anchor=\"middle\">advmod</textPath>\n",
       "    </text>\n",
       "    <path class=\"displacy-arrowhead\" d=\"M620,279.0 L612,267.0 628,267.0\" fill=\"currentColor\"/>\n",
       "</g>\n",
       "\n",
       "<g class=\"displacy-arrow\">\n",
       "    <path class=\"displacy-arc\" id=\"arrow-653e25c86f4c4368adad1e2988691a7f-0-5\" stroke-width=\"2px\" d=\"M730,277.0 C730,222.0 800.0,222.0 800.0,277.0\" fill=\"none\" stroke=\"currentColor\"/>\n",
       "    <text dy=\"1.25em\" style=\"font-size: 0.8em; letter-spacing: 1px\">\n",
       "        <textPath xlink:href=\"#arrow-653e25c86f4c4368adad1e2988691a7f-0-5\" class=\"displacy-label\" startOffset=\"50%\" side=\"left\" fill=\"currentColor\" text-anchor=\"middle\">amod</textPath>\n",
       "    </text>\n",
       "    <path class=\"displacy-arrowhead\" d=\"M730,279.0 L722,267.0 738,267.0\" fill=\"currentColor\"/>\n",
       "</g>\n",
       "\n",
       "<g class=\"displacy-arrow\">\n",
       "    <path class=\"displacy-arc\" id=\"arrow-653e25c86f4c4368adad1e2988691a7f-0-6\" stroke-width=\"2px\" d=\"M510,277.0 C510,112.0 810.0,112.0 810.0,277.0\" fill=\"none\" stroke=\"currentColor\"/>\n",
       "    <text dy=\"1.25em\" style=\"font-size: 0.8em; letter-spacing: 1px\">\n",
       "        <textPath xlink:href=\"#arrow-653e25c86f4c4368adad1e2988691a7f-0-6\" class=\"displacy-label\" startOffset=\"50%\" side=\"left\" fill=\"currentColor\" text-anchor=\"middle\">dobj</textPath>\n",
       "    </text>\n",
       "    <path class=\"displacy-arrowhead\" d=\"M810.0,279.0 L818.0,267.0 802.0,267.0\" fill=\"currentColor\"/>\n",
       "</g>\n",
       "\n",
       "<g class=\"displacy-arrow\">\n",
       "    <path class=\"displacy-arc\" id=\"arrow-653e25c86f4c4368adad1e2988691a7f-0-7\" stroke-width=\"2px\" d=\"M510,277.0 C510,57.0 925.0,57.0 925.0,277.0\" fill=\"none\" stroke=\"currentColor\"/>\n",
       "    <text dy=\"1.25em\" style=\"font-size: 0.8em; letter-spacing: 1px\">\n",
       "        <textPath xlink:href=\"#arrow-653e25c86f4c4368adad1e2988691a7f-0-7\" class=\"displacy-label\" startOffset=\"50%\" side=\"left\" fill=\"currentColor\" text-anchor=\"middle\">prep</textPath>\n",
       "    </text>\n",
       "    <path class=\"displacy-arrowhead\" d=\"M925.0,279.0 L933.0,267.0 917.0,267.0\" fill=\"currentColor\"/>\n",
       "</g>\n",
       "\n",
       "<g class=\"displacy-arrow\">\n",
       "    <path class=\"displacy-arc\" id=\"arrow-653e25c86f4c4368adad1e2988691a7f-0-8\" stroke-width=\"2px\" d=\"M1060,277.0 C1060,222.0 1130.0,222.0 1130.0,277.0\" fill=\"none\" stroke=\"currentColor\"/>\n",
       "    <text dy=\"1.25em\" style=\"font-size: 0.8em; letter-spacing: 1px\">\n",
       "        <textPath xlink:href=\"#arrow-653e25c86f4c4368adad1e2988691a7f-0-8\" class=\"displacy-label\" startOffset=\"50%\" side=\"left\" fill=\"currentColor\" text-anchor=\"middle\">amod</textPath>\n",
       "    </text>\n",
       "    <path class=\"displacy-arrowhead\" d=\"M1060,279.0 L1052,267.0 1068,267.0\" fill=\"currentColor\"/>\n",
       "</g>\n",
       "\n",
       "<g class=\"displacy-arrow\">\n",
       "    <path class=\"displacy-arc\" id=\"arrow-653e25c86f4c4368adad1e2988691a7f-0-9\" stroke-width=\"2px\" d=\"M950,277.0 C950,167.0 1135.0,167.0 1135.0,277.0\" fill=\"none\" stroke=\"currentColor\"/>\n",
       "    <text dy=\"1.25em\" style=\"font-size: 0.8em; letter-spacing: 1px\">\n",
       "        <textPath xlink:href=\"#arrow-653e25c86f4c4368adad1e2988691a7f-0-9\" class=\"displacy-label\" startOffset=\"50%\" side=\"left\" fill=\"currentColor\" text-anchor=\"middle\">pobj</textPath>\n",
       "    </text>\n",
       "    <path class=\"displacy-arrowhead\" d=\"M1135.0,279.0 L1143.0,267.0 1127.0,267.0\" fill=\"currentColor\"/>\n",
       "</g>\n",
       "\n",
       "<g class=\"displacy-arrow\">\n",
       "    <path class=\"displacy-arc\" id=\"arrow-653e25c86f4c4368adad1e2988691a7f-0-10\" stroke-width=\"2px\" d=\"M510,277.0 C510,2.0 1260.0,2.0 1260.0,277.0\" fill=\"none\" stroke=\"currentColor\"/>\n",
       "    <text dy=\"1.25em\" style=\"font-size: 0.8em; letter-spacing: 1px\">\n",
       "        <textPath xlink:href=\"#arrow-653e25c86f4c4368adad1e2988691a7f-0-10\" class=\"displacy-label\" startOffset=\"50%\" side=\"left\" fill=\"currentColor\" text-anchor=\"middle\">prep</textPath>\n",
       "    </text>\n",
       "    <path class=\"displacy-arrowhead\" d=\"M1260.0,279.0 L1268.0,267.0 1252.0,267.0\" fill=\"currentColor\"/>\n",
       "</g>\n",
       "\n",
       "<g class=\"displacy-arrow\">\n",
       "    <path class=\"displacy-arc\" id=\"arrow-653e25c86f4c4368adad1e2988691a7f-0-11\" stroke-width=\"2px\" d=\"M1390,277.0 C1390,222.0 1460.0,222.0 1460.0,277.0\" fill=\"none\" stroke=\"currentColor\"/>\n",
       "    <text dy=\"1.25em\" style=\"font-size: 0.8em; letter-spacing: 1px\">\n",
       "        <textPath xlink:href=\"#arrow-653e25c86f4c4368adad1e2988691a7f-0-11\" class=\"displacy-label\" startOffset=\"50%\" side=\"left\" fill=\"currentColor\" text-anchor=\"middle\">amod</textPath>\n",
       "    </text>\n",
       "    <path class=\"displacy-arrowhead\" d=\"M1390,279.0 L1382,267.0 1398,267.0\" fill=\"currentColor\"/>\n",
       "</g>\n",
       "\n",
       "<g class=\"displacy-arrow\">\n",
       "    <path class=\"displacy-arc\" id=\"arrow-653e25c86f4c4368adad1e2988691a7f-0-12\" stroke-width=\"2px\" d=\"M1280,277.0 C1280,167.0 1465.0,167.0 1465.0,277.0\" fill=\"none\" stroke=\"currentColor\"/>\n",
       "    <text dy=\"1.25em\" style=\"font-size: 0.8em; letter-spacing: 1px\">\n",
       "        <textPath xlink:href=\"#arrow-653e25c86f4c4368adad1e2988691a7f-0-12\" class=\"displacy-label\" startOffset=\"50%\" side=\"left\" fill=\"currentColor\" text-anchor=\"middle\">pobj</textPath>\n",
       "    </text>\n",
       "    <path class=\"displacy-arrowhead\" d=\"M1465.0,279.0 L1473.0,267.0 1457.0,267.0\" fill=\"currentColor\"/>\n",
       "</g>\n",
       "</svg></span>"
      ],
      "text/plain": [
       "<IPython.core.display.HTML object>"
      ]
     },
     "metadata": {},
     "output_type": "display_data"
    }
   ],
   "source": [
    "# See the dependencies\n",
    "spacy.displacy.render(processed_hline, style='dep', jupyter=True, options={'distance': 110}) "
   ]
  },
  {
   "cell_type": "code",
   "execution_count": 19,
   "metadata": {},
   "outputs": [
    {
     "data": {
      "text/html": [
       "<span class=\"tex2jax_ignore\"><div class=\"entities\" style=\"line-height: 2.5; direction: ltr\">Adobe plunges \n",
       "<mark class=\"entity\" style=\"background: #e4e7d2; padding: 0.45em 0.6em; margin: 0 0.25em; line-height: 1; border-radius: 0.35em;\">\n",
       "    10%\n",
       "    <span style=\"font-size: 0.8em; font-weight: bold; line-height: 1; border-radius: 0.35em; vertical-align: middle; margin-left: 0.5rem\">PERCENT</span>\n",
       "</mark>\n",
       " and has \n",
       "<mark class=\"entity\" style=\"background: #bfe1d9; padding: 0.45em 0.6em; margin: 0 0.25em; line-height: 1; border-radius: 0.35em;\">\n",
       "    second-worst day in past decade\n",
       "    <span style=\"font-size: 0.8em; font-weight: bold; line-height: 1; border-radius: 0.35em; vertical-align: middle; margin-left: 0.5rem\">DATE</span>\n",
       "</mark>\n",
       " on weak guidance</div></span>"
      ],
      "text/plain": [
       "<IPython.core.display.HTML object>"
      ]
     },
     "metadata": {},
     "output_type": "display_data"
    }
   ],
   "source": [
    "# Show important entities; tag ORG = Companies\n",
    "spacy.displacy.render(processed_hline, style='ent', jupyter=True, options={'distance': 120}) "
   ]
  },
  {
   "cell_type": "code",
   "execution_count": 20,
   "metadata": {},
   "outputs": [
    {
     "data": {
      "text/plain": [
       "['Nike',\n",
       " 'Darden',\n",
       " 'Olive Garden',\n",
       " 'Lowe',\n",
       " 'Mirror',\n",
       " 'Runway',\n",
       " 'Kay Jewelers',\n",
       " 'Nordstrom',\n",
       " \"Dick's Sporting Goods\",\n",
       " 'Macy',\n",
       " 'Lowe',\n",
       " 'Target',\n",
       " 'Home Depot']"
      ]
     },
     "execution_count": 20,
     "metadata": {},
     "output_type": "execute_result"
    }
   ],
   "source": [
    "# Extract ORG from headlines\n",
    "companies = []\n",
    "for title in TC:\n",
    "    doc = nlp(title.text)\n",
    "    for token in doc.ents:\n",
    "        if token.label_ == 'ORG':\n",
    "            companies.append(token.text)\n",
    "        else: \n",
    "            pass\n",
    "        \n",
    "companies"
   ]
  },
  {
   "cell_type": "code",
   "execution_count": null,
   "metadata": {},
   "outputs": [],
   "source": []
  }
 ],
 "metadata": {
  "kernelspec": {
   "display_name": "Python 3",
   "language": "python",
   "name": "python3"
  },
  "language_info": {
   "codemirror_mode": {
    "name": "ipython",
    "version": 3
   },
   "file_extension": ".py",
   "mimetype": "text/x-python",
   "name": "python",
   "nbconvert_exporter": "python",
   "pygments_lexer": "ipython3",
   "version": "3.8.5"
  }
 },
 "nbformat": 4,
 "nbformat_minor": 4
}
