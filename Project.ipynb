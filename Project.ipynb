{
 "cells": [
  {
   "cell_type": "markdown",
   "metadata": {},
   "source": [
    "# Project"
   ]
  },
  {
   "cell_type": "markdown",
   "metadata": {},
   "source": [
    "## Packages"
   ]
  },
  {
   "cell_type": "code",
   "execution_count": 1,
   "metadata": {},
   "outputs": [],
   "source": [
    "from bs4 import BeautifulSoup # to parse external data\n",
    "import yfinance as yf\n",
    "import pandas as pd # to read CSV files\n",
    "import requests # to get data\n",
    "import spacy #to extraxt entities\n",
    "import streamlit as st"
   ]
  },
  {
   "cell_type": "markdown",
   "metadata": {},
   "source": [
    "## RSS feeds"
   ]
  },
  {
   "cell_type": "code",
   "execution_count": 2,
   "metadata": {},
   "outputs": [
    {
     "data": {
      "text/plain": [
       "<Response [200]>"
      ]
     },
     "execution_count": 2,
     "metadata": {},
     "output_type": "execute_result"
    }
   ],
   "source": [
    "# Check if data from the page are downloadable\n",
    "yahoo = requests.get(\"https://finance.yahoo.com/news/rssindex\")\n",
    "yahoo"
   ]
  },
  {
   "cell_type": "code",
   "execution_count": 3,
   "metadata": {
    "scrolled": true
   },
   "outputs": [
    {
     "data": {
      "text/plain": [
       "[<title>Yahoo Finance</title>,\n",
       " <title>Yahoo Finance</title>,\n",
       " <title>Investors in cannabis companies burned by stock-market losses in 2021 even as the pot business grows</title>,\n",
       " <title>First, Stocks Will Plunge, Says This Market Veteran. A Huge Rally Will Follow.</title>,\n",
       " <title>Cathie Wood says stocks have corrected into ‘deep value territory’ and won’t let benchmarks ‘hold our strategies hostage’</title>,\n",
       " <title>Bill Ackman says inflation could actually be a ‘raging’ 10% — here are 3 creative ways to hedge</title>,\n",
       " <title>REITs Are Poised to Outperform Stocks Next Year. Here Are 3 Picks.</title>,\n",
       " <title>AT&amp;T Stock Has Fallen to a Multi-Decade Low. Why It Could Be an Opportune Time to Buy.</title>,\n",
       " <title>Converting an IRA to Roth After Age 60</title>,\n",
       " <title>11 neglected stocks that may rise at least 20% in 2022: BofA</title>,\n",
       " <title>Tech Stocks Face a Tough Road in 2022. Here Are the Likely Exceptions.</title>,\n",
       " <title>Avoid Overpaying Taxes on IRA Distributions</title>,\n",
       " <title>Treasuries at 3% Is the Time for Value Investors to Go All In</title>,\n",
       " <title>I just got a huge dividend payout from a mutual fund and my investment value dropped — what’s going on?</title>,\n",
       " <title>A Big Lithium-Ion Battery Order Was Just Placed. It’s Not for EVs.</title>,\n",
       " <title>Insiders Sense a Bottom in These 2 Stocks; Analysts Say ‘Buy’</title>,\n",
       " <title>Here Are Barron’s 10 Top Stocks for the New Year</title>,\n",
       " <title>Your financial planner wants to manage all your retirement assets. Is that a good idea?</title>,\n",
       " <title>Bitcoin is so 2021. Here’s why some institutions are set to bypass the No. 1 crypto and invest in Ethereum, other blockchains next year</title>,\n",
       " <title>I’m planning to give my daughter a home for Christmas. Am I making a mistake?</title>,\n",
       " <title>New ETF Adds Steady Stream of Income to Your Portfolio</title>,\n",
       " <title>Retirement expert details one of the 'main questions' she gets and her answers</title>,\n",
       " <title>Jim Cramer's Philadelphia lightning round: 3 local stocks he likes (and 2 that he doesn't)</title>,\n",
       " <title>This is the No. 1 reason Americans get denied a mortgage — and it’s not the reason you might think</title>,\n",
       " <title>Ocugen’s Covid-19 Vaccine Might Have One up on mRNA Vaccines</title>,\n",
       " <title>Is Nvidia Stock A Buy? Chip Giant Skids To Key Support After Frenzied Metaverse Rally</title>,\n",
       " <title>Is Square Stock A Buy Amid Rebranding To Block And Afterpay Acquisition?</title>,\n",
       " <title>Warren Buffett scored 3,000% gains on this electric car maker way before the Rivian frenzy — here are 3 EV stocks still flying under Wall Street's radar</title>,\n",
       " <title>Why U.S. oil production hasn’t rebounded along with crude prices</title>,\n",
       " <title>Should You Max Out Your 401(k)?</title>,\n",
       " <title>Many affluent millennials are now ‘lifestyle renting’ instead of buying homes. ‘It’s the best option for now,’ some say — but is it really?</title>,\n",
       " <title>QuantumScape CEO wins 'staggering' Elon Musk-like pay package</title>,\n",
       " <title>Cathie Wood’s ARK Funds Bought Roblox and Roku Stock. What They Sold.</title>,\n",
       " <title>3 Reasons the Stock Market Is Down — Again</title>,\n",
       " <title>2 “Strong Buy” Penny Stocks That Can Deliver Over 200% Gains Next Year</title>,\n",
       " <title>My son had no real direction. At 31, he moved in with us and now earns $40,000 a year. What type of savings should be his No. 1 priority?</title>,\n",
       " <title>Barron’s Hall of Famer Jim Stack: Preparing for a Bear Market</title>,\n",
       " <title>Adobe’s sinking stock and bright business prospects diverge — investors should take note</title>,\n",
       " <title>These Are The 5 Best EV Stocks To Buy And Watch Now</title>,\n",
       " <title>Morgan Stanley: 2 Stocks to Buy at ‘Attractive Entry Point’</title>,\n",
       " <title>The Stock Market Could Be Headed for a Boom and a Bust in 2022—Just Not in That Order</title>,\n",
       " <title>Cheap Stocks To Buy: Should You Watch These 5 Growth Stocks?</title>,\n",
       " <title>Planning to retire early? Watch out for these tax traps</title>,\n",
       " <title>Elizabeth Holmes' lawyer argues wealthy investors like DeVos family knew Theranos' risks</title>,\n",
       " <title>Rivian Tumbles to Lowest Since IPO After Production Warning</title>,\n",
       " <title>QuantumScape Announced More Business. The Stock’s Reaction Highlights a Shift.</title>,\n",
       " <title>Warren Buffett Stocks: GOOGL Stock, FB Stock Among 14 Stocks On This Screen</title>,\n",
       " <title>Oil Prices Are Rising. Look For Bigger Returns in 2022.</title>,\n",
       " <title>Don’t Expect Big Returns From the Stock Market Next Year as Interest Rates Rise</title>,\n",
       " <title>Evergrande Boss Leads $46 Billion in Lost Wealth for China’s Property Tycoons</title>,\n",
       " <title>MO Stock: Is Marlboro Maker Altria A Buy After Earnings?</title>,\n",
       " <title>Was The Move In Pfizer Stock Too Good To Last?</title>]"
      ]
     },
     "execution_count": 3,
     "metadata": {},
     "output_type": "execute_result"
    }
   ],
   "source": [
    "# Get headlines\n",
    "Tyahoo = BeautifulSoup(yahoo.content, features='xml')\n",
    "TY = Tyahoo.findAll('title')\n",
    "TY # list of titles"
   ]
  },
  {
   "cell_type": "code",
   "execution_count": 4,
   "metadata": {},
   "outputs": [
    {
     "data": {
      "text/plain": [
       "<Response [200]>"
      ]
     },
     "execution_count": 4,
     "metadata": {},
     "output_type": "execute_result"
    }
   ],
   "source": [
    "wsj = requests.get(\"https://feeds.a.dj.com/rss/RSSMarketsMain.xml?fbclid=IwAR17gY8vV2SdoTLP_35v7zGYmPireg5xIX_y1VEgPYRoXVd5jVouoKRlXAc\")\n",
    "wsj"
   ]
  },
  {
   "cell_type": "code",
   "execution_count": 5,
   "metadata": {
    "scrolled": true
   },
   "outputs": [
    {
     "data": {
      "text/plain": [
       "[<title>WSJ.com: Markets</title>,\n",
       " <title>WSJ.com: Markets</title>,\n",
       " <title>Investors Balk at Plan to Buy Coal Mines and Close Them</title>,\n",
       " <title>Crypto and Its Many Fees: What to Know About the Hidden Costs</title>,\n",
       " <title>Johnson &amp; Johnson, McDonald's, Toyota: Stocks That Defined the Week</title>,\n",
       " <title>Stocks Fall Amid Rate-Rise Worries</title>,\n",
       " <title>U.S. Regulators Raise Concern With Stablecoin Digital Currency</title>,\n",
       " <title>Turkish Lira, Stocks Sink Amid Inflation Concerns</title>,\n",
       " <title>What's Not to Like About a Fund With a 7% Yield</title>,\n",
       " <title>Holiday Tipping Guide for 2021</title>,\n",
       " <title>Chinese Broker to Conduct Review Into Short-Seller's Fraud Allegations</title>,\n",
       " <title>Rivian, FedEx, Cerner, Oracle: What to Watch in the Stock Market Today</title>,\n",
       " <title>JPMorgan Fined $200 Million Over Employees' Use Messaging Apps</title>,\n",
       " <title>HSBC Fined $85 Million for Lax Anti-Money-Laundering Controls</title>,\n",
       " <title>Family Business Deals Fuel Carvana's Explosive Growth</title>,\n",
       " <title>S&amp;P Joins Major Credit Raters in Declaring China Evergrande in Default</title>,\n",
       " <title>Will the Reddit Army Show Up for Reddit Stock?</title>,\n",
       " <title>Tornado Insurance Payouts On Track to Hit $5 Billion</title>,\n",
       " <title>Angi Is a Tale of Two Services</title>,\n",
       " <title>Hong Kong to Host SPACs From Early 2022</title>,\n",
       " <title>Mobile Commerce Platform Rezolve Reaches SPAC Deal</title>,\n",
       " <title>How Your Travel Spending Could Affect Treasury Yields</title>]"
      ]
     },
     "execution_count": 5,
     "metadata": {},
     "output_type": "execute_result"
    }
   ],
   "source": [
    "Twsj = BeautifulSoup(wsj.content, features='xml')\n",
    "TW = Twsj.findAll('title')\n",
    "TW"
   ]
  },
  {
   "cell_type": "code",
   "execution_count": 6,
   "metadata": {},
   "outputs": [
    {
     "data": {
      "text/plain": [
       "<Response [200]>"
      ]
     },
     "execution_count": 6,
     "metadata": {},
     "output_type": "execute_result"
    }
   ],
   "source": [
    "cnbc = requests.get(\"https://www.cnbc.com/id/15839135/device/rss/rss.html?fbclid=IwAR2o0zeWtmgEwZob45_F6e02pkTVo9uBGL0VI1GQv8mPyScEFY-hn9t089Y\")\n",
    "cnbc"
   ]
  },
  {
   "cell_type": "code",
   "execution_count": 7,
   "metadata": {
    "scrolled": true
   },
   "outputs": [
    {
     "data": {
      "text/plain": [
       "[<title>Earnings</title>,\n",
       " <title>Darden shares fall as CEO announces plans to retire; Olive Garden parent raises forecast despite planned wage hike</title>,\n",
       " <title>Adobe plunges 10% and has second-worst day in past decade on weak guidance</title>,\n",
       " <title>Lowe's says pandemic-fueled home improvement demand could cool in year ahead</title>,\n",
       " <title>Lululemon earnings top estimates, but shares fall after retailer cuts forecast for Mirror sales</title>,\n",
       " <title>Oracle swings to loss because of payment tied to dispute over former CEO Hurd's employment</title>,\n",
       " <title>GameStop shares fall as video game retailer reports widening losses in third quarter</title>,\n",
       " <title>Rent the Runway posts widening losses, as subscribers have yet to return to pre-pandemic levels</title>,\n",
       " <title>Stitch Fix shares crater as retailer cuts forecast, despite topping earnings estimates</title>,\n",
       " <title>MongoDB shares jump as revenue growth accelerates</title>,\n",
       " <title>DocuSign plunges almost 30% after e-signature company issues weak fourth-quarter guidance</title>,\n",
       " <title>Kay Jewelers parent Signet shares down as investors fear retailer will have trouble sustaining strong growth </title>,\n",
       " <title>Dollar General tested a store for wealthier shoppers. Now, it will grow to 1,000 locations</title>,\n",
       " <title>Snowflake stock soars on strong revenue and Q4 guidance</title>,\n",
       " <title>Salesforce fourth quarter guidance misses Wall Street expectations</title>,\n",
       " <title>Eco-friendly shoemaker Allbirds posts wider loss despite 33% gain in quarterly sales; shares fall</title>,\n",
       " <title>Gap shares crater 15% after retailer sees millions in lost sales from delayed product shipments, cuts its forecast</title>,\n",
       " <title>Nordstrom shares tumble more than 20% as earnings fall short, hurt by higher labor costs, weak Nordstrom Rack sales </title>,\n",
       " <title>Dick's Sporting Goods shares fall despite earnings beat and hiked outlook</title>,\n",
       " <title>Best Buy earnings top estimates but retailer's stock tumbles amid weakening demand, shipping bottlenecks</title>,\n",
       " <title>Zoom beats estimates even as revenue growth is poised to slow after pandemic</title>,\n",
       " <title>Kohl's shares jump after retailer reports 16% sales increase as shoppers buy clothes and makeup</title>,\n",
       " <title>Macy's shares surge on upbeat earnings, decision to hire AlixPartners to review business</title>,\n",
       " <title>Alibaba shares drop 11% as its slashes guidance and earnings plunge on China's slowdown</title>,\n",
       " <title>Nvidia data center sales grew 55% on demand for artificial intelligence chips</title>,\n",
       " <title>Cisco reports disappointing revenue and issues forecast that misses estimates</title>,\n",
       " <title>Lowe's tops estimates as customers invest more in bigger home projects, retailer lifts sales forecast</title>,\n",
       " <title>Target tops earnings estimates, but shares fall as retailer focuses on keeping customer prices low</title>,\n",
       " <title>Walmart tops earnings estimates, wins back grocery shoppers as inflation heats up</title>,\n",
       " <title>Home Depot earnings top estimates fueled by 9.8% jump in sales as consumers fix up homes</title>,\n",
       " <title>Shares of EV start-up Lucid rise after executives confirm new reservations, 2022 vehicle production</title>]"
      ]
     },
     "execution_count": 7,
     "metadata": {},
     "output_type": "execute_result"
    }
   ],
   "source": [
    "Tcnbc = BeautifulSoup(cnbc.content, features='xml')\n",
    "TC = Tcnbc.findAll('title')\n",
    "TC"
   ]
  },
  {
   "cell_type": "markdown",
   "metadata": {},
   "source": [
    "## Extract entities"
   ]
  },
  {
   "cell_type": "code",
   "execution_count": 8,
   "metadata": {},
   "outputs": [],
   "source": [
    "# python -m spacy download en_core_web_sm\n",
    "nlp = spacy.load(\"en_core_web_sm\") # en_core_web_sm - basic NLP task (to process extracted text data)"
   ]
  },
  {
   "cell_type": "code",
   "execution_count": 32,
   "metadata": {},
   "outputs": [
    {
     "name": "stdout",
     "output_type": "stream",
     "text": [
      "<title>Darden shares fall as CEO announces plans to retire; Olive Garden parent raises forecast despite planned wage hike</title>\n",
      "Darden ----- adjective ----- adjectival modifier\n",
      "shares ----- noun ----- nominal subject\n",
      "fall ----- verb ----- clausal complement\n",
      "as ----- subordinating conjunction ----- marker\n",
      "CEO ----- noun ----- nominal subject\n",
      "announces ----- verb ----- adverbial clause modifier\n",
      "plans ----- noun ----- direct object\n",
      "to ----- particle ----- auxiliary\n",
      "retire ----- verb ----- open clausal complement\n",
      "; ----- punctuation ----- punctuation\n",
      "Olive ----- proper noun ----- compound\n",
      "Garden ----- proper noun ----- compound\n",
      "parent ----- noun ----- nominal subject\n",
      "raises ----- verb ----- None\n",
      "forecast ----- noun ----- direct object\n",
      "despite ----- subordinating conjunction ----- prepositional modifier\n",
      "planned ----- verb ----- adjectival modifier\n",
      "wage ----- noun ----- compound\n",
      "hike ----- noun ----- object of preposition\n"
     ]
    }
   ],
   "source": [
    "processed_hline = nlp(TC[1].text) #Get first headline\n",
    "print(TC[1])\n",
    "for token in processed_hline:\n",
    "    print(token.text, \"-----\", spacy.explain(token.pos_),'-----', spacy.explain(token.dep_)) # tokens + tags + dependencies"
   ]
  },
  {
   "cell_type": "code",
   "execution_count": 34,
   "metadata": {},
   "outputs": [
    {
     "data": {
      "text/html": [
       "<span class=\"tex2jax_ignore\"><svg xmlns=\"http://www.w3.org/2000/svg\" xmlns:xlink=\"http://www.w3.org/1999/xlink\" xml:lang=\"en\" id=\"2a50671553474d17b997d56eea5ca23e-0\" class=\"displacy\" width=\"2030\" height=\"357.0\" direction=\"ltr\" style=\"max-width: none; height: 357.0px; color: #000000; background: #ffffff; font-family: Arial; direction: ltr\">\n",
       "<text class=\"displacy-token\" fill=\"currentColor\" text-anchor=\"middle\" y=\"267.0\">\n",
       "    <tspan class=\"displacy-word\" fill=\"currentColor\" x=\"50\">Darden</tspan>\n",
       "    <tspan class=\"displacy-tag\" dy=\"2em\" fill=\"currentColor\" x=\"50\">ADJ</tspan>\n",
       "</text>\n",
       "\n",
       "<text class=\"displacy-token\" fill=\"currentColor\" text-anchor=\"middle\" y=\"267.0\">\n",
       "    <tspan class=\"displacy-word\" fill=\"currentColor\" x=\"160\">shares</tspan>\n",
       "    <tspan class=\"displacy-tag\" dy=\"2em\" fill=\"currentColor\" x=\"160\">NOUN</tspan>\n",
       "</text>\n",
       "\n",
       "<text class=\"displacy-token\" fill=\"currentColor\" text-anchor=\"middle\" y=\"267.0\">\n",
       "    <tspan class=\"displacy-word\" fill=\"currentColor\" x=\"270\">fall</tspan>\n",
       "    <tspan class=\"displacy-tag\" dy=\"2em\" fill=\"currentColor\" x=\"270\">VERB</tspan>\n",
       "</text>\n",
       "\n",
       "<text class=\"displacy-token\" fill=\"currentColor\" text-anchor=\"middle\" y=\"267.0\">\n",
       "    <tspan class=\"displacy-word\" fill=\"currentColor\" x=\"380\">as</tspan>\n",
       "    <tspan class=\"displacy-tag\" dy=\"2em\" fill=\"currentColor\" x=\"380\">SCONJ</tspan>\n",
       "</text>\n",
       "\n",
       "<text class=\"displacy-token\" fill=\"currentColor\" text-anchor=\"middle\" y=\"267.0\">\n",
       "    <tspan class=\"displacy-word\" fill=\"currentColor\" x=\"490\">CEO</tspan>\n",
       "    <tspan class=\"displacy-tag\" dy=\"2em\" fill=\"currentColor\" x=\"490\">NOUN</tspan>\n",
       "</text>\n",
       "\n",
       "<text class=\"displacy-token\" fill=\"currentColor\" text-anchor=\"middle\" y=\"267.0\">\n",
       "    <tspan class=\"displacy-word\" fill=\"currentColor\" x=\"600\">announces</tspan>\n",
       "    <tspan class=\"displacy-tag\" dy=\"2em\" fill=\"currentColor\" x=\"600\">VERB</tspan>\n",
       "</text>\n",
       "\n",
       "<text class=\"displacy-token\" fill=\"currentColor\" text-anchor=\"middle\" y=\"267.0\">\n",
       "    <tspan class=\"displacy-word\" fill=\"currentColor\" x=\"710\">plans</tspan>\n",
       "    <tspan class=\"displacy-tag\" dy=\"2em\" fill=\"currentColor\" x=\"710\">NOUN</tspan>\n",
       "</text>\n",
       "\n",
       "<text class=\"displacy-token\" fill=\"currentColor\" text-anchor=\"middle\" y=\"267.0\">\n",
       "    <tspan class=\"displacy-word\" fill=\"currentColor\" x=\"820\">to</tspan>\n",
       "    <tspan class=\"displacy-tag\" dy=\"2em\" fill=\"currentColor\" x=\"820\">PART</tspan>\n",
       "</text>\n",
       "\n",
       "<text class=\"displacy-token\" fill=\"currentColor\" text-anchor=\"middle\" y=\"267.0\">\n",
       "    <tspan class=\"displacy-word\" fill=\"currentColor\" x=\"930\">retire;</tspan>\n",
       "    <tspan class=\"displacy-tag\" dy=\"2em\" fill=\"currentColor\" x=\"930\">VERB</tspan>\n",
       "</text>\n",
       "\n",
       "<text class=\"displacy-token\" fill=\"currentColor\" text-anchor=\"middle\" y=\"267.0\">\n",
       "    <tspan class=\"displacy-word\" fill=\"currentColor\" x=\"1040\">Olive</tspan>\n",
       "    <tspan class=\"displacy-tag\" dy=\"2em\" fill=\"currentColor\" x=\"1040\">PROPN</tspan>\n",
       "</text>\n",
       "\n",
       "<text class=\"displacy-token\" fill=\"currentColor\" text-anchor=\"middle\" y=\"267.0\">\n",
       "    <tspan class=\"displacy-word\" fill=\"currentColor\" x=\"1150\">Garden</tspan>\n",
       "    <tspan class=\"displacy-tag\" dy=\"2em\" fill=\"currentColor\" x=\"1150\">PROPN</tspan>\n",
       "</text>\n",
       "\n",
       "<text class=\"displacy-token\" fill=\"currentColor\" text-anchor=\"middle\" y=\"267.0\">\n",
       "    <tspan class=\"displacy-word\" fill=\"currentColor\" x=\"1260\">parent</tspan>\n",
       "    <tspan class=\"displacy-tag\" dy=\"2em\" fill=\"currentColor\" x=\"1260\">NOUN</tspan>\n",
       "</text>\n",
       "\n",
       "<text class=\"displacy-token\" fill=\"currentColor\" text-anchor=\"middle\" y=\"267.0\">\n",
       "    <tspan class=\"displacy-word\" fill=\"currentColor\" x=\"1370\">raises</tspan>\n",
       "    <tspan class=\"displacy-tag\" dy=\"2em\" fill=\"currentColor\" x=\"1370\">VERB</tspan>\n",
       "</text>\n",
       "\n",
       "<text class=\"displacy-token\" fill=\"currentColor\" text-anchor=\"middle\" y=\"267.0\">\n",
       "    <tspan class=\"displacy-word\" fill=\"currentColor\" x=\"1480\">forecast</tspan>\n",
       "    <tspan class=\"displacy-tag\" dy=\"2em\" fill=\"currentColor\" x=\"1480\">NOUN</tspan>\n",
       "</text>\n",
       "\n",
       "<text class=\"displacy-token\" fill=\"currentColor\" text-anchor=\"middle\" y=\"267.0\">\n",
       "    <tspan class=\"displacy-word\" fill=\"currentColor\" x=\"1590\">despite</tspan>\n",
       "    <tspan class=\"displacy-tag\" dy=\"2em\" fill=\"currentColor\" x=\"1590\">SCONJ</tspan>\n",
       "</text>\n",
       "\n",
       "<text class=\"displacy-token\" fill=\"currentColor\" text-anchor=\"middle\" y=\"267.0\">\n",
       "    <tspan class=\"displacy-word\" fill=\"currentColor\" x=\"1700\">planned</tspan>\n",
       "    <tspan class=\"displacy-tag\" dy=\"2em\" fill=\"currentColor\" x=\"1700\">VERB</tspan>\n",
       "</text>\n",
       "\n",
       "<text class=\"displacy-token\" fill=\"currentColor\" text-anchor=\"middle\" y=\"267.0\">\n",
       "    <tspan class=\"displacy-word\" fill=\"currentColor\" x=\"1810\">wage</tspan>\n",
       "    <tspan class=\"displacy-tag\" dy=\"2em\" fill=\"currentColor\" x=\"1810\">NOUN</tspan>\n",
       "</text>\n",
       "\n",
       "<text class=\"displacy-token\" fill=\"currentColor\" text-anchor=\"middle\" y=\"267.0\">\n",
       "    <tspan class=\"displacy-word\" fill=\"currentColor\" x=\"1920\">hike</tspan>\n",
       "    <tspan class=\"displacy-tag\" dy=\"2em\" fill=\"currentColor\" x=\"1920\">NOUN</tspan>\n",
       "</text>\n",
       "\n",
       "<g class=\"displacy-arrow\">\n",
       "    <path class=\"displacy-arc\" id=\"arrow-2a50671553474d17b997d56eea5ca23e-0-0\" stroke-width=\"2px\" d=\"M70,222.0 C70,167.0 145.0,167.0 145.0,222.0\" fill=\"none\" stroke=\"currentColor\"/>\n",
       "    <text dy=\"1.25em\" style=\"font-size: 0.8em; letter-spacing: 1px\">\n",
       "        <textPath xlink:href=\"#arrow-2a50671553474d17b997d56eea5ca23e-0-0\" class=\"displacy-label\" startOffset=\"50%\" side=\"left\" fill=\"currentColor\" text-anchor=\"middle\">amod</textPath>\n",
       "    </text>\n",
       "    <path class=\"displacy-arrowhead\" d=\"M70,224.0 L62,212.0 78,212.0\" fill=\"currentColor\"/>\n",
       "</g>\n",
       "\n",
       "<g class=\"displacy-arrow\">\n",
       "    <path class=\"displacy-arc\" id=\"arrow-2a50671553474d17b997d56eea5ca23e-0-1\" stroke-width=\"2px\" d=\"M180,222.0 C180,167.0 255.0,167.0 255.0,222.0\" fill=\"none\" stroke=\"currentColor\"/>\n",
       "    <text dy=\"1.25em\" style=\"font-size: 0.8em; letter-spacing: 1px\">\n",
       "        <textPath xlink:href=\"#arrow-2a50671553474d17b997d56eea5ca23e-0-1\" class=\"displacy-label\" startOffset=\"50%\" side=\"left\" fill=\"currentColor\" text-anchor=\"middle\">nsubj</textPath>\n",
       "    </text>\n",
       "    <path class=\"displacy-arrowhead\" d=\"M180,224.0 L172,212.0 188,212.0\" fill=\"currentColor\"/>\n",
       "</g>\n",
       "\n",
       "<g class=\"displacy-arrow\">\n",
       "    <path class=\"displacy-arc\" id=\"arrow-2a50671553474d17b997d56eea5ca23e-0-2\" stroke-width=\"2px\" d=\"M290,222.0 C290,2.0 1370.0,2.0 1370.0,222.0\" fill=\"none\" stroke=\"currentColor\"/>\n",
       "    <text dy=\"1.25em\" style=\"font-size: 0.8em; letter-spacing: 1px\">\n",
       "        <textPath xlink:href=\"#arrow-2a50671553474d17b997d56eea5ca23e-0-2\" class=\"displacy-label\" startOffset=\"50%\" side=\"left\" fill=\"currentColor\" text-anchor=\"middle\">ccomp</textPath>\n",
       "    </text>\n",
       "    <path class=\"displacy-arrowhead\" d=\"M290,224.0 L282,212.0 298,212.0\" fill=\"currentColor\"/>\n",
       "</g>\n",
       "\n",
       "<g class=\"displacy-arrow\">\n",
       "    <path class=\"displacy-arc\" id=\"arrow-2a50671553474d17b997d56eea5ca23e-0-3\" stroke-width=\"2px\" d=\"M400,222.0 C400,112.0 590.0,112.0 590.0,222.0\" fill=\"none\" stroke=\"currentColor\"/>\n",
       "    <text dy=\"1.25em\" style=\"font-size: 0.8em; letter-spacing: 1px\">\n",
       "        <textPath xlink:href=\"#arrow-2a50671553474d17b997d56eea5ca23e-0-3\" class=\"displacy-label\" startOffset=\"50%\" side=\"left\" fill=\"currentColor\" text-anchor=\"middle\">mark</textPath>\n",
       "    </text>\n",
       "    <path class=\"displacy-arrowhead\" d=\"M400,224.0 L392,212.0 408,212.0\" fill=\"currentColor\"/>\n",
       "</g>\n",
       "\n",
       "<g class=\"displacy-arrow\">\n",
       "    <path class=\"displacy-arc\" id=\"arrow-2a50671553474d17b997d56eea5ca23e-0-4\" stroke-width=\"2px\" d=\"M510,222.0 C510,167.0 585.0,167.0 585.0,222.0\" fill=\"none\" stroke=\"currentColor\"/>\n",
       "    <text dy=\"1.25em\" style=\"font-size: 0.8em; letter-spacing: 1px\">\n",
       "        <textPath xlink:href=\"#arrow-2a50671553474d17b997d56eea5ca23e-0-4\" class=\"displacy-label\" startOffset=\"50%\" side=\"left\" fill=\"currentColor\" text-anchor=\"middle\">nsubj</textPath>\n",
       "    </text>\n",
       "    <path class=\"displacy-arrowhead\" d=\"M510,224.0 L502,212.0 518,212.0\" fill=\"currentColor\"/>\n",
       "</g>\n",
       "\n",
       "<g class=\"displacy-arrow\">\n",
       "    <path class=\"displacy-arc\" id=\"arrow-2a50671553474d17b997d56eea5ca23e-0-5\" stroke-width=\"2px\" d=\"M290,222.0 C290,57.0 595.0,57.0 595.0,222.0\" fill=\"none\" stroke=\"currentColor\"/>\n",
       "    <text dy=\"1.25em\" style=\"font-size: 0.8em; letter-spacing: 1px\">\n",
       "        <textPath xlink:href=\"#arrow-2a50671553474d17b997d56eea5ca23e-0-5\" class=\"displacy-label\" startOffset=\"50%\" side=\"left\" fill=\"currentColor\" text-anchor=\"middle\">advcl</textPath>\n",
       "    </text>\n",
       "    <path class=\"displacy-arrowhead\" d=\"M595.0,224.0 L603.0,212.0 587.0,212.0\" fill=\"currentColor\"/>\n",
       "</g>\n",
       "\n",
       "<g class=\"displacy-arrow\">\n",
       "    <path class=\"displacy-arc\" id=\"arrow-2a50671553474d17b997d56eea5ca23e-0-6\" stroke-width=\"2px\" d=\"M620,222.0 C620,167.0 695.0,167.0 695.0,222.0\" fill=\"none\" stroke=\"currentColor\"/>\n",
       "    <text dy=\"1.25em\" style=\"font-size: 0.8em; letter-spacing: 1px\">\n",
       "        <textPath xlink:href=\"#arrow-2a50671553474d17b997d56eea5ca23e-0-6\" class=\"displacy-label\" startOffset=\"50%\" side=\"left\" fill=\"currentColor\" text-anchor=\"middle\">dobj</textPath>\n",
       "    </text>\n",
       "    <path class=\"displacy-arrowhead\" d=\"M695.0,224.0 L703.0,212.0 687.0,212.0\" fill=\"currentColor\"/>\n",
       "</g>\n",
       "\n",
       "<g class=\"displacy-arrow\">\n",
       "    <path class=\"displacy-arc\" id=\"arrow-2a50671553474d17b997d56eea5ca23e-0-7\" stroke-width=\"2px\" d=\"M840,222.0 C840,167.0 915.0,167.0 915.0,222.0\" fill=\"none\" stroke=\"currentColor\"/>\n",
       "    <text dy=\"1.25em\" style=\"font-size: 0.8em; letter-spacing: 1px\">\n",
       "        <textPath xlink:href=\"#arrow-2a50671553474d17b997d56eea5ca23e-0-7\" class=\"displacy-label\" startOffset=\"50%\" side=\"left\" fill=\"currentColor\" text-anchor=\"middle\">aux</textPath>\n",
       "    </text>\n",
       "    <path class=\"displacy-arrowhead\" d=\"M840,224.0 L832,212.0 848,212.0\" fill=\"currentColor\"/>\n",
       "</g>\n",
       "\n",
       "<g class=\"displacy-arrow\">\n",
       "    <path class=\"displacy-arc\" id=\"arrow-2a50671553474d17b997d56eea5ca23e-0-8\" stroke-width=\"2px\" d=\"M730,222.0 C730,112.0 920.0,112.0 920.0,222.0\" fill=\"none\" stroke=\"currentColor\"/>\n",
       "    <text dy=\"1.25em\" style=\"font-size: 0.8em; letter-spacing: 1px\">\n",
       "        <textPath xlink:href=\"#arrow-2a50671553474d17b997d56eea5ca23e-0-8\" class=\"displacy-label\" startOffset=\"50%\" side=\"left\" fill=\"currentColor\" text-anchor=\"middle\">xcomp</textPath>\n",
       "    </text>\n",
       "    <path class=\"displacy-arrowhead\" d=\"M920.0,224.0 L928.0,212.0 912.0,212.0\" fill=\"currentColor\"/>\n",
       "</g>\n",
       "\n",
       "<g class=\"displacy-arrow\">\n",
       "    <path class=\"displacy-arc\" id=\"arrow-2a50671553474d17b997d56eea5ca23e-0-9\" stroke-width=\"2px\" d=\"M1060,222.0 C1060,167.0 1135.0,167.0 1135.0,222.0\" fill=\"none\" stroke=\"currentColor\"/>\n",
       "    <text dy=\"1.25em\" style=\"font-size: 0.8em; letter-spacing: 1px\">\n",
       "        <textPath xlink:href=\"#arrow-2a50671553474d17b997d56eea5ca23e-0-9\" class=\"displacy-label\" startOffset=\"50%\" side=\"left\" fill=\"currentColor\" text-anchor=\"middle\">compound</textPath>\n",
       "    </text>\n",
       "    <path class=\"displacy-arrowhead\" d=\"M1060,224.0 L1052,212.0 1068,212.0\" fill=\"currentColor\"/>\n",
       "</g>\n",
       "\n",
       "<g class=\"displacy-arrow\">\n",
       "    <path class=\"displacy-arc\" id=\"arrow-2a50671553474d17b997d56eea5ca23e-0-10\" stroke-width=\"2px\" d=\"M1170,222.0 C1170,167.0 1245.0,167.0 1245.0,222.0\" fill=\"none\" stroke=\"currentColor\"/>\n",
       "    <text dy=\"1.25em\" style=\"font-size: 0.8em; letter-spacing: 1px\">\n",
       "        <textPath xlink:href=\"#arrow-2a50671553474d17b997d56eea5ca23e-0-10\" class=\"displacy-label\" startOffset=\"50%\" side=\"left\" fill=\"currentColor\" text-anchor=\"middle\">compound</textPath>\n",
       "    </text>\n",
       "    <path class=\"displacy-arrowhead\" d=\"M1170,224.0 L1162,212.0 1178,212.0\" fill=\"currentColor\"/>\n",
       "</g>\n",
       "\n",
       "<g class=\"displacy-arrow\">\n",
       "    <path class=\"displacy-arc\" id=\"arrow-2a50671553474d17b997d56eea5ca23e-0-11\" stroke-width=\"2px\" d=\"M1280,222.0 C1280,167.0 1355.0,167.0 1355.0,222.0\" fill=\"none\" stroke=\"currentColor\"/>\n",
       "    <text dy=\"1.25em\" style=\"font-size: 0.8em; letter-spacing: 1px\">\n",
       "        <textPath xlink:href=\"#arrow-2a50671553474d17b997d56eea5ca23e-0-11\" class=\"displacy-label\" startOffset=\"50%\" side=\"left\" fill=\"currentColor\" text-anchor=\"middle\">nsubj</textPath>\n",
       "    </text>\n",
       "    <path class=\"displacy-arrowhead\" d=\"M1280,224.0 L1272,212.0 1288,212.0\" fill=\"currentColor\"/>\n",
       "</g>\n",
       "\n",
       "<g class=\"displacy-arrow\">\n",
       "    <path class=\"displacy-arc\" id=\"arrow-2a50671553474d17b997d56eea5ca23e-0-12\" stroke-width=\"2px\" d=\"M1390,222.0 C1390,167.0 1465.0,167.0 1465.0,222.0\" fill=\"none\" stroke=\"currentColor\"/>\n",
       "    <text dy=\"1.25em\" style=\"font-size: 0.8em; letter-spacing: 1px\">\n",
       "        <textPath xlink:href=\"#arrow-2a50671553474d17b997d56eea5ca23e-0-12\" class=\"displacy-label\" startOffset=\"50%\" side=\"left\" fill=\"currentColor\" text-anchor=\"middle\">dobj</textPath>\n",
       "    </text>\n",
       "    <path class=\"displacy-arrowhead\" d=\"M1465.0,224.0 L1473.0,212.0 1457.0,212.0\" fill=\"currentColor\"/>\n",
       "</g>\n",
       "\n",
       "<g class=\"displacy-arrow\">\n",
       "    <path class=\"displacy-arc\" id=\"arrow-2a50671553474d17b997d56eea5ca23e-0-13\" stroke-width=\"2px\" d=\"M1390,222.0 C1390,112.0 1580.0,112.0 1580.0,222.0\" fill=\"none\" stroke=\"currentColor\"/>\n",
       "    <text dy=\"1.25em\" style=\"font-size: 0.8em; letter-spacing: 1px\">\n",
       "        <textPath xlink:href=\"#arrow-2a50671553474d17b997d56eea5ca23e-0-13\" class=\"displacy-label\" startOffset=\"50%\" side=\"left\" fill=\"currentColor\" text-anchor=\"middle\">prep</textPath>\n",
       "    </text>\n",
       "    <path class=\"displacy-arrowhead\" d=\"M1580.0,224.0 L1588.0,212.0 1572.0,212.0\" fill=\"currentColor\"/>\n",
       "</g>\n",
       "\n",
       "<g class=\"displacy-arrow\">\n",
       "    <path class=\"displacy-arc\" id=\"arrow-2a50671553474d17b997d56eea5ca23e-0-14\" stroke-width=\"2px\" d=\"M1720,222.0 C1720,112.0 1910.0,112.0 1910.0,222.0\" fill=\"none\" stroke=\"currentColor\"/>\n",
       "    <text dy=\"1.25em\" style=\"font-size: 0.8em; letter-spacing: 1px\">\n",
       "        <textPath xlink:href=\"#arrow-2a50671553474d17b997d56eea5ca23e-0-14\" class=\"displacy-label\" startOffset=\"50%\" side=\"left\" fill=\"currentColor\" text-anchor=\"middle\">amod</textPath>\n",
       "    </text>\n",
       "    <path class=\"displacy-arrowhead\" d=\"M1720,224.0 L1712,212.0 1728,212.0\" fill=\"currentColor\"/>\n",
       "</g>\n",
       "\n",
       "<g class=\"displacy-arrow\">\n",
       "    <path class=\"displacy-arc\" id=\"arrow-2a50671553474d17b997d56eea5ca23e-0-15\" stroke-width=\"2px\" d=\"M1830,222.0 C1830,167.0 1905.0,167.0 1905.0,222.0\" fill=\"none\" stroke=\"currentColor\"/>\n",
       "    <text dy=\"1.25em\" style=\"font-size: 0.8em; letter-spacing: 1px\">\n",
       "        <textPath xlink:href=\"#arrow-2a50671553474d17b997d56eea5ca23e-0-15\" class=\"displacy-label\" startOffset=\"50%\" side=\"left\" fill=\"currentColor\" text-anchor=\"middle\">compound</textPath>\n",
       "    </text>\n",
       "    <path class=\"displacy-arrowhead\" d=\"M1830,224.0 L1822,212.0 1838,212.0\" fill=\"currentColor\"/>\n",
       "</g>\n",
       "\n",
       "<g class=\"displacy-arrow\">\n",
       "    <path class=\"displacy-arc\" id=\"arrow-2a50671553474d17b997d56eea5ca23e-0-16\" stroke-width=\"2px\" d=\"M1610,222.0 C1610,57.0 1915.0,57.0 1915.0,222.0\" fill=\"none\" stroke=\"currentColor\"/>\n",
       "    <text dy=\"1.25em\" style=\"font-size: 0.8em; letter-spacing: 1px\">\n",
       "        <textPath xlink:href=\"#arrow-2a50671553474d17b997d56eea5ca23e-0-16\" class=\"displacy-label\" startOffset=\"50%\" side=\"left\" fill=\"currentColor\" text-anchor=\"middle\">pobj</textPath>\n",
       "    </text>\n",
       "    <path class=\"displacy-arrowhead\" d=\"M1915.0,224.0 L1923.0,212.0 1907.0,212.0\" fill=\"currentColor\"/>\n",
       "</g>\n",
       "</svg></span>"
      ],
      "text/plain": [
       "<IPython.core.display.HTML object>"
      ]
     },
     "metadata": {},
     "output_type": "display_data"
    }
   ],
   "source": [
    "# See the dependencies\n",
    "spacy.displacy.render(processed_hline, style='dep', jupyter=True, options={'distance': 110}) "
   ]
  },
  {
   "cell_type": "code",
   "execution_count": 11,
   "metadata": {},
   "outputs": [
    {
     "data": {
      "text/html": [
       "<span class=\"tex2jax_ignore\"><div class=\"entities\" style=\"line-height: 2.5; direction: ltr\">\n",
       "<mark class=\"entity\" style=\"background: #7aecec; padding: 0.45em 0.6em; margin: 0 0.25em; line-height: 1; border-radius: 0.35em;\">\n",
       "    Darden\n",
       "    <span style=\"font-size: 0.8em; font-weight: bold; line-height: 1; border-radius: 0.35em; vertical-align: middle; margin-left: 0.5rem\">ORG</span>\n",
       "</mark>\n",
       " shares fall as CEO announces plans to retire; \n",
       "<mark class=\"entity\" style=\"background: #7aecec; padding: 0.45em 0.6em; margin: 0 0.25em; line-height: 1; border-radius: 0.35em;\">\n",
       "    Olive Garden\n",
       "    <span style=\"font-size: 0.8em; font-weight: bold; line-height: 1; border-radius: 0.35em; vertical-align: middle; margin-left: 0.5rem\">ORG</span>\n",
       "</mark>\n",
       " parent raises forecast despite planned wage hike</div></span>"
      ],
      "text/plain": [
       "<IPython.core.display.HTML object>"
      ]
     },
     "metadata": {},
     "output_type": "display_data"
    }
   ],
   "source": [
    "# Show important entities; tag ORG = Companies\n",
    "spacy.displacy.render(processed_hline, style='ent', jupyter=True, options={'distance': 120}) "
   ]
  },
  {
   "cell_type": "code",
   "execution_count": 12,
   "metadata": {},
   "outputs": [
    {
     "data": {
      "text/plain": [
       "['Darden',\n",
       " 'Olive Garden',\n",
       " 'Lowe',\n",
       " 'Mirror',\n",
       " 'Runway',\n",
       " 'Kay Jewelers',\n",
       " 'Nordstrom',\n",
       " \"Dick's Sporting Goods\",\n",
       " 'Macy',\n",
       " 'Lowe',\n",
       " 'Target',\n",
       " 'Home Depot',\n",
       " 'EV']"
      ]
     },
     "execution_count": 12,
     "metadata": {},
     "output_type": "execute_result"
    }
   ],
   "source": [
    "# Extract ORG from headlines\n",
    "companies = []\n",
    "for title in TC:\n",
    "    doc = nlp(title.text)\n",
    "    for token in doc.ents:\n",
    "        if token.label_ == 'ORG':\n",
    "            companies.append(token.text)\n",
    "        else: \n",
    "            pass\n",
    "        \n",
    "companies"
   ]
  },
  {
   "cell_type": "code",
   "execution_count": 18,
   "metadata": {},
   "outputs": [],
   "source": [
    "# Which data will be displayed for the stock\n",
    "Stock_info = {\n",
    "    'Org': [],\n",
    "    'Symbol': [],\n",
    "    'currentPrice': [],\n",
    "    'dayHigh': [],\n",
    "    'dayLow': [],\n",
    "    'forwardPE': [],\n",
    "    'dividendYield': []\n",
    "}"
   ]
  }
 ],
 "metadata": {
  "kernelspec": {
   "display_name": "Python 3",
   "language": "python",
   "name": "python3"
  },
  "language_info": {
   "codemirror_mode": {
    "name": "ipython",
    "version": 3
   },
   "file_extension": ".py",
   "mimetype": "text/x-python",
   "name": "python",
   "nbconvert_exporter": "python",
   "pygments_lexer": "ipython3",
   "version": "3.8.8"
  }
 },
 "nbformat": 4,
 "nbformat_minor": 4
}
