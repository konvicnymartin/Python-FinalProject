{
 "cells": [
  {
   "cell_type": "markdown",
   "metadata": {},
   "source": [
    "# Project"
   ]
  },
  {
   "cell_type": "markdown",
   "metadata": {},
   "source": [
    "## Packages"
   ]
  },
  {
   "cell_type": "code",
   "execution_count": 23,
   "metadata": {},
   "outputs": [],
   "source": [
    "from bs4 import BeautifulSoup # to parse external data\n",
    "import yfinance as yf\n",
    "import pandas as pd # to read CSV files\n",
    "import requests # to get data\n",
    "import spacy #to extraxt entities"
   ]
  },
  {
   "cell_type": "markdown",
   "metadata": {},
   "source": [
    "## RSS feeds"
   ]
  },
  {
   "cell_type": "code",
   "execution_count": 24,
   "metadata": {},
   "outputs": [
    {
     "data": {
      "text/plain": [
       "<Response [200]>"
      ]
     },
     "execution_count": 24,
     "metadata": {},
     "output_type": "execute_result"
    }
   ],
   "source": [
    "# Check if data from the page are downloadable\n",
    "yahoo = requests.get(\"https://finance.yahoo.com/news/rssindex\")\n",
    "yahoo"
   ]
  },
  {
   "cell_type": "code",
   "execution_count": 25,
   "metadata": {
    "scrolled": true
   },
   "outputs": [
    {
     "data": {
      "text/plain": [
       "[<title>Yahoo Finance</title>,\n",
       " <title>Yahoo Finance</title>,\n",
       " <title>Goldman Sachs sees gains of up to 60% in these 3 beaten-down stocks</title>,\n",
       " <title>Jim Cramer: The metaverse is coming — and these 4 stocks will make it real</title>,\n",
       " <title>Walmart heirs to candy conglomerates: Here are the 25 richest families in the US</title>,\n",
       " <title>Strong Insider Buying Could Indicate a Bottom in These 2 Stocks</title>,\n",
       " <title>Ray Dalio says your cash savings are not safe and will be ‘taxed by inflation’ — build a hedge with 3 alternative places to stash your money</title>,\n",
       " <title>Five stocks to buy because company insiders love them as they get hit by year-end tax-loss selling</title>,\n",
       " <title>Cathie Wood says there’s a stock bubble but it’s not in tech</title>,\n",
       " <title>I’ll have $5 million for retirement when I sell my dental practice next year — but my wife and kids don’t want me to retire</title>,\n",
       " <title>3 “Strong Buy” Stocks Raymond James Predicts Will Surge Over 50% in 2022</title>,\n",
       " <title>Is 4% Rule Too High? Rule Inventor Says It Should Be 4.7% Rule</title>,\n",
       " <title>Turkey’s lira leaps by more than 40% in a day after President Erdogan unveils unorthodox plan to lure Turks away from dollars</title>,\n",
       " <title>Germany Is Closing Half of Its Reactors at Worst Possible Time</title>,\n",
       " <title>Husband-and-Wife Team Worth $586 Million After Map Startup’s IPO</title>,\n",
       " <title>The Rise of the Semi-Retired Life</title>,\n",
       " <title>Analysts Say You Should Sell 9 Big Stock Winners Right Now</title>,\n",
       " <title>Dow Jones Falls; Apple Price Target Hiked, Tesla Jumps On Elon Musk Comments</title>,\n",
       " <title>‘I didn’t want this to be my life.’ I’m 38 and have $208K in student loans. I work a job I hate for $47K a year. How can I dig out of debt?</title>,\n",
       " <title>3 “Strong Buy” Stocks Under $10 With Triple-Digit Upside Potential</title>,\n",
       " <title>Top Dividend Stocks for January 2022</title>,\n",
       " <title>20 companies are spending billions to boost their stock prices</title>,\n",
       " <title>Dow Jones Surges 560 Points; Biden Hints At Manchin Deal; Airbnb, Travel Stocks Jump</title>,\n",
       " <title>Terra Becomes Second-Largest DeFi Protocol, Surpassing Binance Smart Chain</title>,\n",
       " <title>American Workers Are Burned Out, and Bosses Are Struggling to Respond</title>,\n",
       " <title>Bitcoin Miner TeraWulf Buys 15,000 Computers for Upstate N.Y. Facility</title>,\n",
       " <title>AT&amp;T Stock: Is It A Buy Right Now? Here's What Earnings, Charts Show</title>,\n",
       " <title>Top REITs for January 2022</title>,\n",
       " <title>Top Natural Gas Stocks for Q1 2022</title>,\n",
       " <title>Investors Pour Nearly $1 Trillion In ETFs; What Are They Buying?</title>,\n",
       " <title>China Tech Shares Pare Rally on Alibaba Cloud Report</title>,\n",
       " <title>Top Utilities Stocks for January 2022</title>,\n",
       " <title>MapmyIndia Shares Soar 54% in First Day of Trading After IPO</title>,\n",
       " <title>9 High-Yield Dividend Stocks to Buy for 2022</title>,\n",
       " <title>What to Do With a Large Inheritance</title>,\n",
       " <title>Confronting Inflation, Biden Administration Turns to Oil Industry It Once Shunned</title>,\n",
       " <title>Is Moderna Stock A Buy Or Sell After Facing Down Omicron In Critical Test?</title>,\n",
       " <title>Cassava Stock to Hit $215? This Analyst Thinks It’s Possible</title>,\n",
       " <title>Is Nio Stock A Buy After China's Tesla Sees High Interest In New ET5 Electric Sedan?</title>,\n",
       " <title>Qualcomm, AMAT Stock Among The 5 Best Tech Stocks To Buy Or Watch Now</title>,\n",
       " <title>How Moderna Is Leading The Omicron Battle As Novavax Marks A Key Win</title>,\n",
       " <title>If Biden’s Spending Package Is Toast, Then So Are These Tax Hikes</title>,\n",
       " <title>Enphase Energy Looks Enticing After a Recent Slide</title>,\n",
       " <title>Funds Shunning India Turns Rupee Into EM Asia’s Worst Currency</title>,\n",
       " <title>China Hits Top Influencer With $210 Million Fine Over Taxes</title>,\n",
       " <title>Bonus Tax Rate in 2021: How Bonuses Are Taxed</title>,\n",
       " <title>CarMax Sells a Lot of Used Cars. But the Stock Is Falling.</title>,\n",
       " <title>Europe’s Gas Prices Jump To Record As Key Pipeline From Russia Halts Flows</title>,\n",
       " <title>How to Invest in the S&amp;P 500</title>,\n",
       " <title>Turkish Lira Swings After Its Biggest Rally in 38 Years</title>,\n",
       " <title>5 Reasons Apple Stock Can Trade Higher From Here</title>,\n",
       " <title>GM Wants to Electrify Your Old, Gas-Powered Truck</title>]"
      ]
     },
     "execution_count": 25,
     "metadata": {},
     "output_type": "execute_result"
    }
   ],
   "source": [
    "# Get headlines\n",
    "Tyahoo = BeautifulSoup(yahoo.content, features='xml')\n",
    "TY = Tyahoo.findAll('title')\n",
    "TY # list of titles"
   ]
  },
  {
   "cell_type": "code",
   "execution_count": 26,
   "metadata": {},
   "outputs": [
    {
     "data": {
      "text/plain": [
       "<Response [200]>"
      ]
     },
     "execution_count": 26,
     "metadata": {},
     "output_type": "execute_result"
    }
   ],
   "source": [
    "wsj = requests.get(\"https://feeds.a.dj.com/rss/RSSMarketsMain.xml?fbclid=IwAR17gY8vV2SdoTLP_35v7zGYmPireg5xIX_y1VEgPYRoXVd5jVouoKRlXAc\")\n",
    "wsj"
   ]
  },
  {
   "cell_type": "code",
   "execution_count": 27,
   "metadata": {
    "scrolled": true
   },
   "outputs": [
    {
     "data": {
      "text/plain": [
       "[<title>WSJ.com: Markets</title>,\n",
       " <title>WSJ.com: Markets</title>,\n",
       " <title>Stocks Add Gains After S&amp;P 500, Dow Rally</title>,\n",
       " <title>China Evergrande Says State-Backed Risk Team Will Engage With Creditors</title>,\n",
       " <title>Private-Equity Boss's Win in Virginia Stokes Political Dreams on Wall Street</title>,\n",
       " <title>Turkey's Plan to Save the Lira Is a Risky Bluff</title>,\n",
       " <title>Fed Regulatory Agenda Could Swing Bank Stocks</title>,\n",
       " <title>European Banks Prepare for Pullback in ECB Stimulus</title>,\n",
       " <title>BlackBerry, Tesla, Cassava Sciences, Paychex: What to Watch When the Stock Market Opens Today</title>,\n",
       " <title>Death Business Is Booming---For Now</title>,\n",
       " <title>China's Tech-Investment Paradox</title>,\n",
       " <title>SoftBank Finalizing $4 Billion Loan From Apollo-Led Group</title>,\n",
       " <title>Five Big Tech Stocks Are Driving Markets. That Worries Some Investors</title>,\n",
       " <title>U.S. Stocks Finish Sharply Higher, Ending Losing Streak</title>,\n",
       " <title>Wall Street Had a Red-Hot Year, But Can It Last?</title>,\n",
       " <title>IRS Says Tax-Free Maltese Pensions Are Too Good To Be True</title>,\n",
       " <title>NatWest Pleads Guilty to Manipulating Treasury Markets</title>,\n",
       " <title>Cruise Industry Keeps Calm and Sails On</title>,\n",
       " <title>Hedge Fund D1 Capital's Public Bets Fall 12% in December</title>,\n",
       " <title>Turkey Rolls Out Economic Rescue Plan, Reversing Lira's Spiral</title>,\n",
       " <title>New Micron Still Grapples With Old Image</title>,\n",
       " <title>SEC Taps Academic to Oversee Mutual Funds Amid Push for Stricter Rules</title>]"
      ]
     },
     "execution_count": 27,
     "metadata": {},
     "output_type": "execute_result"
    }
   ],
   "source": [
    "Twsj = BeautifulSoup(wsj.content, features='xml')\n",
    "TW = Twsj.findAll('title')\n",
    "TW"
   ]
  },
  {
   "cell_type": "code",
   "execution_count": 28,
   "metadata": {},
   "outputs": [
    {
     "data": {
      "text/plain": [
       "<Response [200]>"
      ]
     },
     "execution_count": 28,
     "metadata": {},
     "output_type": "execute_result"
    }
   ],
   "source": [
    "cnbc = requests.get(\"https://www.cnbc.com/id/15839135/device/rss/rss.html?fbclid=IwAR2o0zeWtmgEwZob45_F6e02pkTVo9uBGL0VI1GQv8mPyScEFY-hn9t089Y\")\n",
    "cnbc"
   ]
  },
  {
   "cell_type": "code",
   "execution_count": 29,
   "metadata": {
    "scrolled": true
   },
   "outputs": [
    {
     "data": {
      "text/plain": [
       "[<title>Earnings</title>,\n",
       " <title>Nike shares rise as earnings, sales top estimates, fueled by strong North American demand</title>,\n",
       " <title>Darden shares fall as CEO announces plans to retire; Olive Garden parent raises forecast despite planned wage hike</title>,\n",
       " <title>Adobe plunges 10% and has second-worst day in past decade on weak guidance</title>,\n",
       " <title>Lowe's says pandemic-fueled home improvement demand could cool in year ahead</title>,\n",
       " <title>Lululemon earnings top estimates, but shares fall after retailer cuts forecast for Mirror sales</title>,\n",
       " <title>Oracle swings to loss because of payment tied to dispute over former CEO Hurd's employment</title>,\n",
       " <title>GameStop shares fall as video game retailer reports widening losses in third quarter</title>,\n",
       " <title>Rent the Runway posts widening losses, as subscribers have yet to return to pre-pandemic levels</title>,\n",
       " <title>Stitch Fix shares crater as retailer cuts forecast, despite topping earnings estimates</title>,\n",
       " <title>MongoDB shares jump as revenue growth accelerates</title>,\n",
       " <title>DocuSign plunges almost 30% after e-signature company issues weak fourth-quarter guidance</title>,\n",
       " <title>Kay Jewelers parent Signet shares down as investors fear retailer will have trouble sustaining strong growth </title>,\n",
       " <title>Dollar General tested a store for wealthier shoppers. Now, it will grow to 1,000 locations</title>,\n",
       " <title>Snowflake stock soars on strong revenue and Q4 guidance</title>,\n",
       " <title>Salesforce fourth quarter guidance misses Wall Street expectations</title>,\n",
       " <title>Eco-friendly shoemaker Allbirds posts wider loss despite 33% gain in quarterly sales; shares fall</title>,\n",
       " <title>Gap shares crater 15% after retailer sees millions in lost sales from delayed product shipments, cuts its forecast</title>,\n",
       " <title>Nordstrom shares tumble more than 20% as earnings fall short, hurt by higher labor costs, weak Nordstrom Rack sales </title>,\n",
       " <title>Dick's Sporting Goods shares fall despite earnings beat and hiked outlook</title>,\n",
       " <title>Best Buy earnings top estimates but retailer's stock tumbles amid weakening demand, shipping bottlenecks</title>,\n",
       " <title>Zoom beats estimates even as revenue growth is poised to slow after pandemic</title>,\n",
       " <title>Kohl's shares jump after retailer reports 16% sales increase as shoppers buy clothes and makeup</title>,\n",
       " <title>Macy's shares surge on upbeat earnings, decision to hire AlixPartners to review business</title>,\n",
       " <title>Alibaba shares drop 11% as its slashes guidance and earnings plunge on China's slowdown</title>,\n",
       " <title>Nvidia data center sales grew 55% on demand for artificial intelligence chips</title>,\n",
       " <title>Cisco reports disappointing revenue and issues forecast that misses estimates</title>,\n",
       " <title>Lowe's tops estimates as customers invest more in bigger home projects, retailer lifts sales forecast</title>,\n",
       " <title>Target tops earnings estimates, but shares fall as retailer focuses on keeping customer prices low</title>,\n",
       " <title>Walmart tops earnings estimates, wins back grocery shoppers as inflation heats up</title>,\n",
       " <title>Home Depot earnings top estimates fueled by 9.8% jump in sales as consumers fix up homes</title>]"
      ]
     },
     "execution_count": 29,
     "metadata": {},
     "output_type": "execute_result"
    }
   ],
   "source": [
    "Tcnbc = BeautifulSoup(cnbc.content, features='xml')\n",
    "TC = Tcnbc.findAll('title')\n",
    "TC"
   ]
  },
  {
   "cell_type": "markdown",
   "metadata": {},
   "source": [
    "## Extract entities"
   ]
  },
  {
   "cell_type": "code",
   "execution_count": 30,
   "metadata": {},
   "outputs": [],
   "source": [
    "# python -m spacy download en_core_web_sm\n",
    "nlp = spacy.load(\"en_core_web_sm\") # en_core_web_sm - basic NLP task (to process extracted text data)"
   ]
  },
  {
   "cell_type": "code",
   "execution_count": 34,
   "metadata": {},
   "outputs": [
    {
     "name": "stdout",
     "output_type": "stream",
     "text": [
      "<title>Nike shares rise as earnings, sales top estimates, fueled by strong North American demand</title>\n",
      "Nike ----- proper noun ----- compound\n",
      "shares ----- noun ----- nominal subject\n",
      "rise ----- verb ----- None\n",
      "as ----- adposition ----- prepositional modifier\n",
      "earnings ----- noun ----- object of preposition\n",
      ", ----- punctuation ----- punctuation\n",
      "sales ----- noun ----- modifier of nominal\n",
      "top ----- adjective ----- adjectival modifier\n",
      "estimates ----- noun ----- noun phrase as adverbial modifier\n",
      ", ----- punctuation ----- punctuation\n",
      "fueled ----- verb ----- clausal modifier of noun (adjectival clause)\n",
      "by ----- adposition ----- agent\n",
      "strong ----- adjective ----- adjectival modifier\n",
      "North ----- adjective ----- adjectival modifier\n",
      "American ----- adjective ----- adjectival modifier\n",
      "demand ----- noun ----- object of preposition\n"
     ]
    }
   ],
   "source": [
    "processed_hline = nlp(TC[1].text) #Get first headline\n",
    "print(TC[1])\n",
    "for token in processed_hline:\n",
    "    print(token.text, \"-----\", spacy.explain(token.pos_),'-----', spacy.explain(token.dep_)) # tokens + tags + dependencies"
   ]
  },
  {
   "cell_type": "code",
   "execution_count": 35,
   "metadata": {},
   "outputs": [
    {
     "data": {
      "text/html": [
       "<span class=\"tex2jax_ignore\"><svg xmlns=\"http://www.w3.org/2000/svg\" xmlns:xlink=\"http://www.w3.org/1999/xlink\" xml:lang=\"en\" id=\"ae37ef9b55ef4e6c9021f63a77976bf0-0\" class=\"displacy\" width=\"1590\" height=\"412.0\" direction=\"ltr\" style=\"max-width: none; height: 412.0px; color: #000000; background: #ffffff; font-family: Arial; direction: ltr\">\n",
       "<text class=\"displacy-token\" fill=\"currentColor\" text-anchor=\"middle\" y=\"322.0\">\n",
       "    <tspan class=\"displacy-word\" fill=\"currentColor\" x=\"50\">Nike</tspan>\n",
       "    <tspan class=\"displacy-tag\" dy=\"2em\" fill=\"currentColor\" x=\"50\">PROPN</tspan>\n",
       "</text>\n",
       "\n",
       "<text class=\"displacy-token\" fill=\"currentColor\" text-anchor=\"middle\" y=\"322.0\">\n",
       "    <tspan class=\"displacy-word\" fill=\"currentColor\" x=\"160\">shares</tspan>\n",
       "    <tspan class=\"displacy-tag\" dy=\"2em\" fill=\"currentColor\" x=\"160\">NOUN</tspan>\n",
       "</text>\n",
       "\n",
       "<text class=\"displacy-token\" fill=\"currentColor\" text-anchor=\"middle\" y=\"322.0\">\n",
       "    <tspan class=\"displacy-word\" fill=\"currentColor\" x=\"270\">rise</tspan>\n",
       "    <tspan class=\"displacy-tag\" dy=\"2em\" fill=\"currentColor\" x=\"270\">VERB</tspan>\n",
       "</text>\n",
       "\n",
       "<text class=\"displacy-token\" fill=\"currentColor\" text-anchor=\"middle\" y=\"322.0\">\n",
       "    <tspan class=\"displacy-word\" fill=\"currentColor\" x=\"380\">as</tspan>\n",
       "    <tspan class=\"displacy-tag\" dy=\"2em\" fill=\"currentColor\" x=\"380\">ADP</tspan>\n",
       "</text>\n",
       "\n",
       "<text class=\"displacy-token\" fill=\"currentColor\" text-anchor=\"middle\" y=\"322.0\">\n",
       "    <tspan class=\"displacy-word\" fill=\"currentColor\" x=\"490\">earnings,</tspan>\n",
       "    <tspan class=\"displacy-tag\" dy=\"2em\" fill=\"currentColor\" x=\"490\">NOUN</tspan>\n",
       "</text>\n",
       "\n",
       "<text class=\"displacy-token\" fill=\"currentColor\" text-anchor=\"middle\" y=\"322.0\">\n",
       "    <tspan class=\"displacy-word\" fill=\"currentColor\" x=\"600\">sales</tspan>\n",
       "    <tspan class=\"displacy-tag\" dy=\"2em\" fill=\"currentColor\" x=\"600\">NOUN</tspan>\n",
       "</text>\n",
       "\n",
       "<text class=\"displacy-token\" fill=\"currentColor\" text-anchor=\"middle\" y=\"322.0\">\n",
       "    <tspan class=\"displacy-word\" fill=\"currentColor\" x=\"710\">top</tspan>\n",
       "    <tspan class=\"displacy-tag\" dy=\"2em\" fill=\"currentColor\" x=\"710\">ADJ</tspan>\n",
       "</text>\n",
       "\n",
       "<text class=\"displacy-token\" fill=\"currentColor\" text-anchor=\"middle\" y=\"322.0\">\n",
       "    <tspan class=\"displacy-word\" fill=\"currentColor\" x=\"820\">estimates,</tspan>\n",
       "    <tspan class=\"displacy-tag\" dy=\"2em\" fill=\"currentColor\" x=\"820\">NOUN</tspan>\n",
       "</text>\n",
       "\n",
       "<text class=\"displacy-token\" fill=\"currentColor\" text-anchor=\"middle\" y=\"322.0\">\n",
       "    <tspan class=\"displacy-word\" fill=\"currentColor\" x=\"930\">fueled</tspan>\n",
       "    <tspan class=\"displacy-tag\" dy=\"2em\" fill=\"currentColor\" x=\"930\">VERB</tspan>\n",
       "</text>\n",
       "\n",
       "<text class=\"displacy-token\" fill=\"currentColor\" text-anchor=\"middle\" y=\"322.0\">\n",
       "    <tspan class=\"displacy-word\" fill=\"currentColor\" x=\"1040\">by</tspan>\n",
       "    <tspan class=\"displacy-tag\" dy=\"2em\" fill=\"currentColor\" x=\"1040\">ADP</tspan>\n",
       "</text>\n",
       "\n",
       "<text class=\"displacy-token\" fill=\"currentColor\" text-anchor=\"middle\" y=\"322.0\">\n",
       "    <tspan class=\"displacy-word\" fill=\"currentColor\" x=\"1150\">strong</tspan>\n",
       "    <tspan class=\"displacy-tag\" dy=\"2em\" fill=\"currentColor\" x=\"1150\">ADJ</tspan>\n",
       "</text>\n",
       "\n",
       "<text class=\"displacy-token\" fill=\"currentColor\" text-anchor=\"middle\" y=\"322.0\">\n",
       "    <tspan class=\"displacy-word\" fill=\"currentColor\" x=\"1260\">North</tspan>\n",
       "    <tspan class=\"displacy-tag\" dy=\"2em\" fill=\"currentColor\" x=\"1260\">ADJ</tspan>\n",
       "</text>\n",
       "\n",
       "<text class=\"displacy-token\" fill=\"currentColor\" text-anchor=\"middle\" y=\"322.0\">\n",
       "    <tspan class=\"displacy-word\" fill=\"currentColor\" x=\"1370\">American</tspan>\n",
       "    <tspan class=\"displacy-tag\" dy=\"2em\" fill=\"currentColor\" x=\"1370\">ADJ</tspan>\n",
       "</text>\n",
       "\n",
       "<text class=\"displacy-token\" fill=\"currentColor\" text-anchor=\"middle\" y=\"322.0\">\n",
       "    <tspan class=\"displacy-word\" fill=\"currentColor\" x=\"1480\">demand</tspan>\n",
       "    <tspan class=\"displacy-tag\" dy=\"2em\" fill=\"currentColor\" x=\"1480\">NOUN</tspan>\n",
       "</text>\n",
       "\n",
       "<g class=\"displacy-arrow\">\n",
       "    <path class=\"displacy-arc\" id=\"arrow-ae37ef9b55ef4e6c9021f63a77976bf0-0-0\" stroke-width=\"2px\" d=\"M70,277.0 C70,222.0 140.0,222.0 140.0,277.0\" fill=\"none\" stroke=\"currentColor\"/>\n",
       "    <text dy=\"1.25em\" style=\"font-size: 0.8em; letter-spacing: 1px\">\n",
       "        <textPath xlink:href=\"#arrow-ae37ef9b55ef4e6c9021f63a77976bf0-0-0\" class=\"displacy-label\" startOffset=\"50%\" side=\"left\" fill=\"currentColor\" text-anchor=\"middle\">compound</textPath>\n",
       "    </text>\n",
       "    <path class=\"displacy-arrowhead\" d=\"M70,279.0 L62,267.0 78,267.0\" fill=\"currentColor\"/>\n",
       "</g>\n",
       "\n",
       "<g class=\"displacy-arrow\">\n",
       "    <path class=\"displacy-arc\" id=\"arrow-ae37ef9b55ef4e6c9021f63a77976bf0-0-1\" stroke-width=\"2px\" d=\"M180,277.0 C180,222.0 250.0,222.0 250.0,277.0\" fill=\"none\" stroke=\"currentColor\"/>\n",
       "    <text dy=\"1.25em\" style=\"font-size: 0.8em; letter-spacing: 1px\">\n",
       "        <textPath xlink:href=\"#arrow-ae37ef9b55ef4e6c9021f63a77976bf0-0-1\" class=\"displacy-label\" startOffset=\"50%\" side=\"left\" fill=\"currentColor\" text-anchor=\"middle\">nsubj</textPath>\n",
       "    </text>\n",
       "    <path class=\"displacy-arrowhead\" d=\"M180,279.0 L172,267.0 188,267.0\" fill=\"currentColor\"/>\n",
       "</g>\n",
       "\n",
       "<g class=\"displacy-arrow\">\n",
       "    <path class=\"displacy-arc\" id=\"arrow-ae37ef9b55ef4e6c9021f63a77976bf0-0-2\" stroke-width=\"2px\" d=\"M290,277.0 C290,222.0 360.0,222.0 360.0,277.0\" fill=\"none\" stroke=\"currentColor\"/>\n",
       "    <text dy=\"1.25em\" style=\"font-size: 0.8em; letter-spacing: 1px\">\n",
       "        <textPath xlink:href=\"#arrow-ae37ef9b55ef4e6c9021f63a77976bf0-0-2\" class=\"displacy-label\" startOffset=\"50%\" side=\"left\" fill=\"currentColor\" text-anchor=\"middle\">prep</textPath>\n",
       "    </text>\n",
       "    <path class=\"displacy-arrowhead\" d=\"M360.0,279.0 L368.0,267.0 352.0,267.0\" fill=\"currentColor\"/>\n",
       "</g>\n",
       "\n",
       "<g class=\"displacy-arrow\">\n",
       "    <path class=\"displacy-arc\" id=\"arrow-ae37ef9b55ef4e6c9021f63a77976bf0-0-3\" stroke-width=\"2px\" d=\"M400,277.0 C400,222.0 470.0,222.0 470.0,277.0\" fill=\"none\" stroke=\"currentColor\"/>\n",
       "    <text dy=\"1.25em\" style=\"font-size: 0.8em; letter-spacing: 1px\">\n",
       "        <textPath xlink:href=\"#arrow-ae37ef9b55ef4e6c9021f63a77976bf0-0-3\" class=\"displacy-label\" startOffset=\"50%\" side=\"left\" fill=\"currentColor\" text-anchor=\"middle\">pobj</textPath>\n",
       "    </text>\n",
       "    <path class=\"displacy-arrowhead\" d=\"M470.0,279.0 L478.0,267.0 462.0,267.0\" fill=\"currentColor\"/>\n",
       "</g>\n",
       "\n",
       "<g class=\"displacy-arrow\">\n",
       "    <path class=\"displacy-arc\" id=\"arrow-ae37ef9b55ef4e6c9021f63a77976bf0-0-4\" stroke-width=\"2px\" d=\"M620,277.0 C620,167.0 805.0,167.0 805.0,277.0\" fill=\"none\" stroke=\"currentColor\"/>\n",
       "    <text dy=\"1.25em\" style=\"font-size: 0.8em; letter-spacing: 1px\">\n",
       "        <textPath xlink:href=\"#arrow-ae37ef9b55ef4e6c9021f63a77976bf0-0-4\" class=\"displacy-label\" startOffset=\"50%\" side=\"left\" fill=\"currentColor\" text-anchor=\"middle\">nmod</textPath>\n",
       "    </text>\n",
       "    <path class=\"displacy-arrowhead\" d=\"M620,279.0 L612,267.0 628,267.0\" fill=\"currentColor\"/>\n",
       "</g>\n",
       "\n",
       "<g class=\"displacy-arrow\">\n",
       "    <path class=\"displacy-arc\" id=\"arrow-ae37ef9b55ef4e6c9021f63a77976bf0-0-5\" stroke-width=\"2px\" d=\"M730,277.0 C730,222.0 800.0,222.0 800.0,277.0\" fill=\"none\" stroke=\"currentColor\"/>\n",
       "    <text dy=\"1.25em\" style=\"font-size: 0.8em; letter-spacing: 1px\">\n",
       "        <textPath xlink:href=\"#arrow-ae37ef9b55ef4e6c9021f63a77976bf0-0-5\" class=\"displacy-label\" startOffset=\"50%\" side=\"left\" fill=\"currentColor\" text-anchor=\"middle\">amod</textPath>\n",
       "    </text>\n",
       "    <path class=\"displacy-arrowhead\" d=\"M730,279.0 L722,267.0 738,267.0\" fill=\"currentColor\"/>\n",
       "</g>\n",
       "\n",
       "<g class=\"displacy-arrow\">\n",
       "    <path class=\"displacy-arc\" id=\"arrow-ae37ef9b55ef4e6c9021f63a77976bf0-0-6\" stroke-width=\"2px\" d=\"M290,277.0 C290,2.0 820.0,2.0 820.0,277.0\" fill=\"none\" stroke=\"currentColor\"/>\n",
       "    <text dy=\"1.25em\" style=\"font-size: 0.8em; letter-spacing: 1px\">\n",
       "        <textPath xlink:href=\"#arrow-ae37ef9b55ef4e6c9021f63a77976bf0-0-6\" class=\"displacy-label\" startOffset=\"50%\" side=\"left\" fill=\"currentColor\" text-anchor=\"middle\">npadvmod</textPath>\n",
       "    </text>\n",
       "    <path class=\"displacy-arrowhead\" d=\"M820.0,279.0 L828.0,267.0 812.0,267.0\" fill=\"currentColor\"/>\n",
       "</g>\n",
       "\n",
       "<g class=\"displacy-arrow\">\n",
       "    <path class=\"displacy-arc\" id=\"arrow-ae37ef9b55ef4e6c9021f63a77976bf0-0-7\" stroke-width=\"2px\" d=\"M840,277.0 C840,222.0 910.0,222.0 910.0,277.0\" fill=\"none\" stroke=\"currentColor\"/>\n",
       "    <text dy=\"1.25em\" style=\"font-size: 0.8em; letter-spacing: 1px\">\n",
       "        <textPath xlink:href=\"#arrow-ae37ef9b55ef4e6c9021f63a77976bf0-0-7\" class=\"displacy-label\" startOffset=\"50%\" side=\"left\" fill=\"currentColor\" text-anchor=\"middle\">acl</textPath>\n",
       "    </text>\n",
       "    <path class=\"displacy-arrowhead\" d=\"M910.0,279.0 L918.0,267.0 902.0,267.0\" fill=\"currentColor\"/>\n",
       "</g>\n",
       "\n",
       "<g class=\"displacy-arrow\">\n",
       "    <path class=\"displacy-arc\" id=\"arrow-ae37ef9b55ef4e6c9021f63a77976bf0-0-8\" stroke-width=\"2px\" d=\"M950,277.0 C950,222.0 1020.0,222.0 1020.0,277.0\" fill=\"none\" stroke=\"currentColor\"/>\n",
       "    <text dy=\"1.25em\" style=\"font-size: 0.8em; letter-spacing: 1px\">\n",
       "        <textPath xlink:href=\"#arrow-ae37ef9b55ef4e6c9021f63a77976bf0-0-8\" class=\"displacy-label\" startOffset=\"50%\" side=\"left\" fill=\"currentColor\" text-anchor=\"middle\">agent</textPath>\n",
       "    </text>\n",
       "    <path class=\"displacy-arrowhead\" d=\"M1020.0,279.0 L1028.0,267.0 1012.0,267.0\" fill=\"currentColor\"/>\n",
       "</g>\n",
       "\n",
       "<g class=\"displacy-arrow\">\n",
       "    <path class=\"displacy-arc\" id=\"arrow-ae37ef9b55ef4e6c9021f63a77976bf0-0-9\" stroke-width=\"2px\" d=\"M1170,277.0 C1170,112.0 1470.0,112.0 1470.0,277.0\" fill=\"none\" stroke=\"currentColor\"/>\n",
       "    <text dy=\"1.25em\" style=\"font-size: 0.8em; letter-spacing: 1px\">\n",
       "        <textPath xlink:href=\"#arrow-ae37ef9b55ef4e6c9021f63a77976bf0-0-9\" class=\"displacy-label\" startOffset=\"50%\" side=\"left\" fill=\"currentColor\" text-anchor=\"middle\">amod</textPath>\n",
       "    </text>\n",
       "    <path class=\"displacy-arrowhead\" d=\"M1170,279.0 L1162,267.0 1178,267.0\" fill=\"currentColor\"/>\n",
       "</g>\n",
       "\n",
       "<g class=\"displacy-arrow\">\n",
       "    <path class=\"displacy-arc\" id=\"arrow-ae37ef9b55ef4e6c9021f63a77976bf0-0-10\" stroke-width=\"2px\" d=\"M1280,277.0 C1280,222.0 1350.0,222.0 1350.0,277.0\" fill=\"none\" stroke=\"currentColor\"/>\n",
       "    <text dy=\"1.25em\" style=\"font-size: 0.8em; letter-spacing: 1px\">\n",
       "        <textPath xlink:href=\"#arrow-ae37ef9b55ef4e6c9021f63a77976bf0-0-10\" class=\"displacy-label\" startOffset=\"50%\" side=\"left\" fill=\"currentColor\" text-anchor=\"middle\">amod</textPath>\n",
       "    </text>\n",
       "    <path class=\"displacy-arrowhead\" d=\"M1280,279.0 L1272,267.0 1288,267.0\" fill=\"currentColor\"/>\n",
       "</g>\n",
       "\n",
       "<g class=\"displacy-arrow\">\n",
       "    <path class=\"displacy-arc\" id=\"arrow-ae37ef9b55ef4e6c9021f63a77976bf0-0-11\" stroke-width=\"2px\" d=\"M1390,277.0 C1390,222.0 1460.0,222.0 1460.0,277.0\" fill=\"none\" stroke=\"currentColor\"/>\n",
       "    <text dy=\"1.25em\" style=\"font-size: 0.8em; letter-spacing: 1px\">\n",
       "        <textPath xlink:href=\"#arrow-ae37ef9b55ef4e6c9021f63a77976bf0-0-11\" class=\"displacy-label\" startOffset=\"50%\" side=\"left\" fill=\"currentColor\" text-anchor=\"middle\">amod</textPath>\n",
       "    </text>\n",
       "    <path class=\"displacy-arrowhead\" d=\"M1390,279.0 L1382,267.0 1398,267.0\" fill=\"currentColor\"/>\n",
       "</g>\n",
       "\n",
       "<g class=\"displacy-arrow\">\n",
       "    <path class=\"displacy-arc\" id=\"arrow-ae37ef9b55ef4e6c9021f63a77976bf0-0-12\" stroke-width=\"2px\" d=\"M1060,277.0 C1060,57.0 1475.0,57.0 1475.0,277.0\" fill=\"none\" stroke=\"currentColor\"/>\n",
       "    <text dy=\"1.25em\" style=\"font-size: 0.8em; letter-spacing: 1px\">\n",
       "        <textPath xlink:href=\"#arrow-ae37ef9b55ef4e6c9021f63a77976bf0-0-12\" class=\"displacy-label\" startOffset=\"50%\" side=\"left\" fill=\"currentColor\" text-anchor=\"middle\">pobj</textPath>\n",
       "    </text>\n",
       "    <path class=\"displacy-arrowhead\" d=\"M1475.0,279.0 L1483.0,267.0 1467.0,267.0\" fill=\"currentColor\"/>\n",
       "</g>\n",
       "</svg></span>"
      ],
      "text/plain": [
       "<IPython.core.display.HTML object>"
      ]
     },
     "metadata": {},
     "output_type": "display_data"
    }
   ],
   "source": [
    "# See the dependencies\n",
    "spacy.displacy.render(processed_hline, style='dep', jupyter=True, options={'distance': 110}) "
   ]
  },
  {
   "cell_type": "code",
   "execution_count": 36,
   "metadata": {},
   "outputs": [
    {
     "data": {
      "text/html": [
       "<span class=\"tex2jax_ignore\"><div class=\"entities\" style=\"line-height: 2.5; direction: ltr\">\n",
       "<mark class=\"entity\" style=\"background: #7aecec; padding: 0.45em 0.6em; margin: 0 0.25em; line-height: 1; border-radius: 0.35em;\">\n",
       "    Nike\n",
       "    <span style=\"font-size: 0.8em; font-weight: bold; line-height: 1; border-radius: 0.35em; vertical-align: middle; margin-left: 0.5rem\">ORG</span>\n",
       "</mark>\n",
       " shares rise as earnings, sales top estimates, fueled by strong \n",
       "<mark class=\"entity\" style=\"background: #c887fb; padding: 0.45em 0.6em; margin: 0 0.25em; line-height: 1; border-radius: 0.35em;\">\n",
       "    North American\n",
       "    <span style=\"font-size: 0.8em; font-weight: bold; line-height: 1; border-radius: 0.35em; vertical-align: middle; margin-left: 0.5rem\">NORP</span>\n",
       "</mark>\n",
       " demand</div></span>"
      ],
      "text/plain": [
       "<IPython.core.display.HTML object>"
      ]
     },
     "metadata": {},
     "output_type": "display_data"
    }
   ],
   "source": [
    "# Show important entities; tag ORG = Companies\n",
    "spacy.displacy.render(processed_hline, style='ent', jupyter=True, options={'distance': 120}) "
   ]
  },
  {
   "cell_type": "code",
   "execution_count": 37,
   "metadata": {},
   "outputs": [
    {
     "data": {
      "text/plain": [
       "['Nike',\n",
       " 'Darden',\n",
       " 'Olive Garden',\n",
       " 'Lowe',\n",
       " 'Mirror',\n",
       " 'Runway',\n",
       " 'Kay Jewelers',\n",
       " 'Nordstrom',\n",
       " \"Dick's Sporting Goods\",\n",
       " 'Macy',\n",
       " 'Lowe',\n",
       " 'Target',\n",
       " 'Home Depot']"
      ]
     },
     "execution_count": 37,
     "metadata": {},
     "output_type": "execute_result"
    }
   ],
   "source": [
    "# Extract ORG from headlines\n",
    "companies = []\n",
    "for title in TC:\n",
    "    doc = nlp(title.text)\n",
    "    for token in doc.ents:\n",
    "        if token.label_ == 'ORG':\n",
    "            companies.append(token.text)\n",
    "        else: \n",
    "            pass\n",
    "        \n",
    "companies"
   ]
  },
  {
   "cell_type": "code",
   "execution_count": 18,
   "metadata": {},
   "outputs": [
    {
     "data": {
      "text/html": [
       "<div>\n",
       "<style scoped>\n",
       "    .dataframe tbody tr th:only-of-type {\n",
       "        vertical-align: middle;\n",
       "    }\n",
       "\n",
       "    .dataframe tbody tr th {\n",
       "        vertical-align: top;\n",
       "    }\n",
       "\n",
       "    .dataframe thead th {\n",
       "        text-align: right;\n",
       "    }\n",
       "</style>\n",
       "<table border=\"1\" class=\"dataframe\">\n",
       "  <thead>\n",
       "    <tr style=\"text-align: right;\">\n",
       "      <th></th>\n",
       "      <th>Symbol</th>\n",
       "      <th>Name</th>\n",
       "      <th>Sector</th>\n",
       "    </tr>\n",
       "  </thead>\n",
       "  <tbody>\n",
       "    <tr>\n",
       "      <th>0</th>\n",
       "      <td>MMM</td>\n",
       "      <td>3M</td>\n",
       "      <td>Industrials</td>\n",
       "    </tr>\n",
       "    <tr>\n",
       "      <th>1</th>\n",
       "      <td>AOS</td>\n",
       "      <td>A. O. Smith</td>\n",
       "      <td>Industrials</td>\n",
       "    </tr>\n",
       "    <tr>\n",
       "      <th>2</th>\n",
       "      <td>ABT</td>\n",
       "      <td>Abbott Laboratories</td>\n",
       "      <td>Health Care</td>\n",
       "    </tr>\n",
       "    <tr>\n",
       "      <th>3</th>\n",
       "      <td>ABBV</td>\n",
       "      <td>AbbVie</td>\n",
       "      <td>Health Care</td>\n",
       "    </tr>\n",
       "    <tr>\n",
       "      <th>4</th>\n",
       "      <td>ABMD</td>\n",
       "      <td>Abiomed</td>\n",
       "      <td>Health Care</td>\n",
       "    </tr>\n",
       "  </tbody>\n",
       "</table>\n",
       "</div>"
      ],
      "text/plain": [
       "  Symbol                 Name       Sector\n",
       "0    MMM                   3M  Industrials\n",
       "1    AOS          A. O. Smith  Industrials\n",
       "2    ABT  Abbott Laboratories  Health Care\n",
       "3   ABBV               AbbVie  Health Care\n",
       "4   ABMD              Abiomed  Health Care"
      ]
     },
     "execution_count": 18,
     "metadata": {},
     "output_type": "execute_result"
    }
   ],
   "source": [
    "stocks_df = pd.read_csv('./SP500.csv') ## https://github.com/datasets/s-and-p-500-companies\n",
    "stocks_df.head() "
   ]
  },
  {
   "cell_type": "code",
   "execution_count": 40,
   "metadata": {},
   "outputs": [
    {
     "data": {
      "text/html": [
       "<div>\n",
       "<style scoped>\n",
       "    .dataframe tbody tr th:only-of-type {\n",
       "        vertical-align: middle;\n",
       "    }\n",
       "\n",
       "    .dataframe tbody tr th {\n",
       "        vertical-align: top;\n",
       "    }\n",
       "\n",
       "    .dataframe thead th {\n",
       "        text-align: right;\n",
       "    }\n",
       "</style>\n",
       "<table border=\"1\" class=\"dataframe\">\n",
       "  <thead>\n",
       "    <tr style=\"text-align: right;\">\n",
       "      <th></th>\n",
       "      <th>Org</th>\n",
       "      <th>Symbol</th>\n",
       "      <th>currentPrice</th>\n",
       "      <th>dayHigh</th>\n",
       "      <th>dayLow</th>\n",
       "      <th>forwardPE</th>\n",
       "      <th>dividendYield</th>\n",
       "    </tr>\n",
       "  </thead>\n",
       "  <tbody>\n",
       "    <tr>\n",
       "      <th>0</th>\n",
       "      <td>Nike</td>\n",
       "      <td>NKE</td>\n",
       "      <td>165.200</td>\n",
       "      <td>168.9997</td>\n",
       "      <td>164.1000</td>\n",
       "      <td>34.345116</td>\n",
       "      <td>0.0073</td>\n",
       "    </tr>\n",
       "    <tr>\n",
       "      <th>1</th>\n",
       "      <td>Darden Restaurants</td>\n",
       "      <td>DRI</td>\n",
       "      <td>144.830</td>\n",
       "      <td>146.2700</td>\n",
       "      <td>143.2350</td>\n",
       "      <td>17.159954</td>\n",
       "      <td>0.0308</td>\n",
       "    </tr>\n",
       "    <tr>\n",
       "      <th>2</th>\n",
       "      <td>Lowe's</td>\n",
       "      <td>LOW</td>\n",
       "      <td>249.630</td>\n",
       "      <td>249.7890</td>\n",
       "      <td>246.1400</td>\n",
       "      <td>19.351164</td>\n",
       "      <td>0.0130</td>\n",
       "    </tr>\n",
       "    <tr>\n",
       "      <th>3</th>\n",
       "      <td>Lowe's</td>\n",
       "      <td>LOW</td>\n",
       "      <td>249.630</td>\n",
       "      <td>249.7890</td>\n",
       "      <td>246.1400</td>\n",
       "      <td>19.351164</td>\n",
       "      <td>0.0130</td>\n",
       "    </tr>\n",
       "    <tr>\n",
       "      <th>4</th>\n",
       "      <td>Target Corporation</td>\n",
       "      <td>TGT</td>\n",
       "      <td>217.505</td>\n",
       "      <td>221.2700</td>\n",
       "      <td>217.0100</td>\n",
       "      <td>16.255980</td>\n",
       "      <td>0.0164</td>\n",
       "    </tr>\n",
       "    <tr>\n",
       "      <th>5</th>\n",
       "      <td>Home Depot</td>\n",
       "      <td>HD</td>\n",
       "      <td>394.980</td>\n",
       "      <td>395.6700</td>\n",
       "      <td>388.8567</td>\n",
       "      <td>24.396542</td>\n",
       "      <td>0.0169</td>\n",
       "    </tr>\n",
       "  </tbody>\n",
       "</table>\n",
       "</div>"
      ],
      "text/plain": [
       "                  Org Symbol  currentPrice   dayHigh    dayLow  forwardPE  \\\n",
       "0                Nike    NKE       165.200  168.9997  164.1000  34.345116   \n",
       "1  Darden Restaurants    DRI       144.830  146.2700  143.2350  17.159954   \n",
       "2              Lowe's    LOW       249.630  249.7890  246.1400  19.351164   \n",
       "3              Lowe's    LOW       249.630  249.7890  246.1400  19.351164   \n",
       "4  Target Corporation    TGT       217.505  221.2700  217.0100  16.255980   \n",
       "5          Home Depot     HD       394.980  395.6700  388.8567  24.396542   \n",
       "\n",
       "   dividendYield  \n",
       "0         0.0073  \n",
       "1         0.0308  \n",
       "2         0.0130  \n",
       "3         0.0130  \n",
       "4         0.0164  \n",
       "5         0.0169  "
      ]
     },
     "execution_count": 40,
     "metadata": {},
     "output_type": "execute_result"
    }
   ],
   "source": [
    "# attributes of stocks\n",
    "stock_dict = {\n",
    "    'Org': [],\n",
    "    'Symbol': [],\n",
    "    'currentPrice': [],\n",
    "    'dayHigh': [],\n",
    "    'dayLow': [],\n",
    "    'forwardPE': [],\n",
    "    'dividendYield': []\n",
    "}\n",
    "\n",
    "# collecting information\n",
    "for company in companies:\n",
    "    try:\n",
    "        if stocks_df['Name'].str.contains(company).sum():\n",
    "            symbol = stocks_df[stocks_df['Name'].\\\n",
    "                                str.contains(company)]['Symbol'].values[0]\n",
    "            org_name = stocks_df[stocks_df['Name'].\\\n",
    "                                str.contains(company)]['Name'].values[0]\n",
    "            stock_dict['Org'].append(org_name)\n",
    "            stock_dict['Symbol'].append(symbol)\n",
    "            stock_info = yf.Ticker(symbol).info\n",
    "            stock_dict['currentPrice'].append(stock_info['currentPrice'])\n",
    "            stock_dict['dayHigh'].append(stock_info['dayHigh'])\n",
    "            stock_dict['dayLow'].append(stock_info['dayLow'])\n",
    "            stock_dict['forwardPE'].append(stock_info['forwardPE'])\n",
    "            stock_dict['dividendYield'].append(stock_info['dividendYield'])\n",
    "        else:\n",
    "            pass\n",
    "    except:\n",
    "        pass\n",
    "\n",
    "# dataframe\n",
    "pd.DataFrame(stock_dict)"
   ]
  }
 ],
 "metadata": {
  "kernelspec": {
   "display_name": "Python 3",
   "language": "python",
   "name": "python3"
  },
  "language_info": {
   "codemirror_mode": {
    "name": "ipython",
    "version": 3
   },
   "file_extension": ".py",
   "mimetype": "text/x-python",
   "name": "python",
   "nbconvert_exporter": "python",
   "pygments_lexer": "ipython3",
   "version": "3.8.5"
  }
 },
 "nbformat": 4,
 "nbformat_minor": 4
}
