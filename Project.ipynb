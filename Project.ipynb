{
 "cells": [
  {
   "cell_type": "markdown",
   "metadata": {},
   "source": [
    "# Project"
   ]
  },
  {
   "cell_type": "markdown",
   "metadata": {},
   "source": [
    "## Packages"
   ]
  },
  {
   "cell_type": "code",
   "execution_count": 4,
   "metadata": {},
   "outputs": [],
   "source": [
    "from bs4 import BeautifulSoup\n",
    "import yfinance as yf\n",
    "import pandas as pd\n",
    "import requests\n",
    "import spacy\n",
    "import streamlit as st"
   ]
  },
  {
   "cell_type": "markdown",
   "metadata": {},
   "source": [
    "## RSS feeds"
   ]
  },
  {
   "cell_type": "code",
   "execution_count": 8,
   "metadata": {},
   "outputs": [
    {
     "data": {
      "text/plain": [
       "<Response [200]>"
      ]
     },
     "execution_count": 8,
     "metadata": {},
     "output_type": "execute_result"
    }
   ],
   "source": [
    "yahoo = requests.get(\"https://finance.yahoo.com/news/rssindex\")\n",
    "yahoo"
   ]
  },
  {
   "cell_type": "code",
   "execution_count": 38,
   "metadata": {},
   "outputs": [
    {
     "data": {
      "text/plain": [
       "[<title>Yahoo Finance</title>,\n",
       " <title>Yahoo Finance</title>,\n",
       " <title>Warren Buffett says these are the absolute best stocks to own — check out 3 choice picks from his collection</title>,\n",
       " <title>Converting an IRA to Roth After Age 60</title>,\n",
       " <title>Despite the big plunge, Cathie Wood sees her plan returning 40% annually in the next 5 years — here are Ark Invest’s latest buys</title>,\n",
       " <title>‘He is the most computer-illiterate person I know’: I was my husband’s research analyst, caregiver, cook and housekeeper. Now he wants a divorce after 38 years.</title>,\n",
       " <title>Elon Musk says he will pay more taxes than any other American in history</title>,\n",
       " <title>What It Takes To Save $2 Million For Retirement</title>,\n",
       " <title>My daughter, 29, will inherit a ‘substantial sum’ from her late grandfather. But my husband maintains a tight grip on her trust.</title>,\n",
       " <title>How Is Social Security Taxed?</title>,\n",
       " <title>These are the types of companies Warren Buffett says you should invest in during times of inflation</title>,\n",
       " <title>3 Stocks That Are Flirting With a Bottom; Analysts Say ‘Buy’</title>,\n",
       " <title>Ray Dalio warns Fed’s hands are tied and higher U.S. inflation is sticking around. Democracy, maybe not.</title>,\n",
       " <title>Contribution Limits for IRAs, 401(k)s in 2022</title>,\n",
       " <title>Chanel’s Leena Nair joins an expanding tribe of global CEOs with Indian roots</title>,\n",
       " <title>What the Fed decision means for your wallet, your credit-card bill — and mortgage rates</title>,\n",
       " <title>2 “Strong Buy” Penny Stocks That Can Deliver Over 200% Gains Next Year</title>,\n",
       " <title>QuantumScape CEO wins 'staggering' Elon Musk-like pay package</title>,\n",
       " <title>Cathie Wood’s ARK Funds Bought Roblox and Roku Stock. What They Sold.</title>,\n",
       " <title>The Fed May Have to Kill the Stock Market’s Rally to Quash Inflation</title>,\n",
       " <title>Summers Warns Markets Are at Risk of a ‘Spontaneous Deflating’</title>,\n",
       " <title>2 “Strong Buy” Dividend Stocks Yielding at Least 7%</title>,\n",
       " <title>Boeing Loses Qantas Business to Airbus. But There’s Good News, Too.</title>,\n",
       " <title>Nasdaq Composite gets shredded Thursday afternoon, heads for worst day in over 2 months</title>,\n",
       " <title>Dow Jones Falls; Tesla Stock Slips On Elon Musk Move; Senate Approves Debt Ceiling Hike</title>,\n",
       " <title>A tax break for charitable donations is slated to end soon, and most employers say they won’t require vaccines if courts block Biden’s mandate</title>,\n",
       " <title>What Is the Average 401(k) Match?</title>,\n",
       " <title>Jim Cramer's Philadelphia lightning round: 3 local stocks he likes (and 2 that he doesn't)</title>,\n",
       " <title>Buy NIO Stock Ahead of This Event, Says Analyst</title>,\n",
       " <title>Affirm stock slides after CFPB launches inquiry into buy-now-pay-later companies</title>,\n",
       " <title>Many affluent millennials are now ‘lifestyle renting’ instead of buying homes. ‘It’s the best option for now,’ some say — but is it really?</title>,\n",
       " <title>AT&amp;T’s ‘clearer’ story could give new life to beaten-down stock, analyst says in upgrade</title>,\n",
       " <title>Ryan Popple, former CEO of Proterra and venture investor at Kleiner, has died at age 44</title>,\n",
       " <title>Stock market news live updates: Markets extend losses, paring relief rally gains</title>,\n",
       " <title>Suddenly embattled AMC Entertainment CEO Adam Aron tells investors they oughta see the other guy</title>,\n",
       " <title>DraftKings Stock: Is It A Buy Right Now After Hitting A 52-Week Low?</title>,\n",
       " <title>AMD, Nvidia Stock Reverse Course After Hearty Climb</title>,\n",
       " <title>China’s Bubble Bursting Has Wall Street Eyeing a 2022 Rally</title>,\n",
       " <title>Why one economist says the 401(k) is still not ‘a true retirement plan’</title>,\n",
       " <title>AT&amp;T Stock Has Fallen to a Multi-Decade Low. Why It Could Be an Opportune Time to Buy.</title>,\n",
       " <title>Samsara hits top of IPO targets, raises $805M at $11.5B valuation</title>,\n",
       " <title>Why the Selloff in Solar Stocks Looks Overdone</title>,\n",
       " <title>CEO of Battery Startup Awarded ‘Staggering’ Elon Musk-Like Pay Package</title>,\n",
       " <title>Best Oversold Stocks to Buy for December 2021</title>,\n",
       " <title>Is Ford Stock the New Tesla?</title>,\n",
       " <title>The EU isn’t thrilled about the US’s investigation into rare earth magnets</title>,\n",
       " <title>These Are The 5 Best EV Stocks To Buy And Watch Now</title>,\n",
       " <title>Roku Slips After Universal Electronics Claims Win in Patent Case</title>,\n",
       " <title>What Income Reduces Social Security Benefits?</title>,\n",
       " <title>Are Any Marijuana Stocks On U.S. Exchanges Buys As Canada's Struggles Continue?</title>,\n",
       " <title>These 3 Stocks Are Top Picks for 2022, Say Analysts</title>,\n",
       " <title>Cheap Stocks To Buy: Should You Watch These 5 Growth Stocks?</title>]"
      ]
     },
     "execution_count": 38,
     "metadata": {},
     "output_type": "execute_result"
    }
   ],
   "source": [
    "Tyahoo = BeautifulSoup(yahoo.content, features='xml')\n",
    "TY = Tyahoo.findAll('title')\n",
    "TY"
   ]
  },
  {
   "cell_type": "code",
   "execution_count": 10,
   "metadata": {},
   "outputs": [
    {
     "data": {
      "text/plain": [
       "<Response [200]>"
      ]
     },
     "execution_count": 10,
     "metadata": {},
     "output_type": "execute_result"
    }
   ],
   "source": [
    "wsj = requests.get(\"https://feeds.a.dj.com/rss/RSSMarketsMain.xml?fbclid=IwAR17gY8vV2SdoTLP_35v7zGYmPireg5xIX_y1VEgPYRoXVd5jVouoKRlXAc\")\n",
    "wsj"
   ]
  },
  {
   "cell_type": "code",
   "execution_count": 40,
   "metadata": {},
   "outputs": [
    {
     "data": {
      "text/plain": [
       "[<title>WSJ.com: Markets</title>,\n",
       " <title>WSJ.com: Markets</title>,\n",
       " <title>Stocks Fall Amid Decisions From Central Banks</title>,\n",
       " <title>Auditors at Citi Never Sleep</title>,\n",
       " <title>The Risk for Markets Isn't Higher Interest Rates</title>,\n",
       " <title>Investors Bargain Hunt in Evergrande Bonds</title>,\n",
       " <title>U.S. Economy Gets Some Out-of-Season Cheer</title>,\n",
       " <title>YOLO Bets, Deconstructed</title>,\n",
       " <title>Plug Power, Rivian, Roblox, Adobe: What to Watch When the Stock Market Opens Today</title>,\n",
       " <title>Turkey's Currency Crisis Escalates After Central Bank Cuts Rates</title>,\n",
       " <title>H&amp;R Block Sues Block, Formerly Square, for Trademark Infringement</title>,\n",
       " <title>U.K. Fines Fund Manager Who Invested in Greensill Loans</title>,\n",
       " <title>How Banks Win When Interest Rates Rise</title>,\n",
       " <title>Rubicon Going Public in $2 Billion SPAC Deal</title>,\n",
       " <title>SEC Floats Money-Fund, Stock Rules</title>,\n",
       " <title>Stocks Rally as Investors Welcome Fed Decision</title>,\n",
       " <title>Treasury Yields Rise After Fed Signals Turn to Tighter Monetary Policy</title>,\n",
       " <title>There Are Scarier Things Than a Hawkish Fed</title>,\n",
       " <title>Anchorage Capital Is Closing $7.4 Billion Flagship Hedge Fund</title>,\n",
       " <title>SEC Proposes Tighter Rules on Insider Trading, Stock Buybacks</title>,\n",
       " <title>Holiday Cheer Came too Early for Retailers</title>,\n",
       " <title>Energy Crisis in Europe Intensifies</title>]"
      ]
     },
     "execution_count": 40,
     "metadata": {},
     "output_type": "execute_result"
    }
   ],
   "source": [
    "Twsj = BeautifulSoup(wsj.content, features='xml')\n",
    "TW = Twsj.findAll('title')\n",
    "TW"
   ]
  },
  {
   "cell_type": "code",
   "execution_count": 12,
   "metadata": {},
   "outputs": [
    {
     "data": {
      "text/plain": [
       "<Response [200]>"
      ]
     },
     "execution_count": 12,
     "metadata": {},
     "output_type": "execute_result"
    }
   ],
   "source": [
    "cnbc = requests.get(\"https://www.cnbc.com/id/15839135/device/rss/rss.html?fbclid=IwAR2o0zeWtmgEwZob45_F6e02pkTVo9uBGL0VI1GQv8mPyScEFY-hn9t089Y\")\n",
    "cnbc"
   ]
  },
  {
   "cell_type": "code",
   "execution_count": 41,
   "metadata": {},
   "outputs": [
    {
     "data": {
      "text/plain": [
       "[<title>Earnings</title>,\n",
       " <title>Lowe's says pandemic-fueled home improvement demand could cool in year ahead</title>,\n",
       " <title>Lululemon earnings top estimates, but shares fall after retailer cuts forecast for Mirror sales</title>,\n",
       " <title>Oracle swings to loss because of payment tied to dispute over former CEO Hurd's employment</title>,\n",
       " <title>GameStop shares fall as video game retailer reports widening losses in third quarter</title>,\n",
       " <title>Rent the Runway posts widening losses, as subscribers have yet to return to pre-pandemic levels</title>,\n",
       " <title>Stitch Fix shares crater as retailer cuts forecast, despite topping earnings estimates</title>,\n",
       " <title>MongoDB shares jump as revenue growth accelerates</title>,\n",
       " <title>DocuSign plunges almost 30% after e-signature company issues weak fourth-quarter guidance</title>,\n",
       " <title>Kay Jewelers parent Signet shares down as investors fear retailer will have trouble sustaining strong growth </title>,\n",
       " <title>Dollar General tested a store for wealthier shoppers. Now, it will grow to 1,000 locations</title>,\n",
       " <title>Snowflake stock soars on strong revenue and Q4 guidance</title>,\n",
       " <title>Salesforce fourth quarter guidance misses Wall Street expectations</title>,\n",
       " <title>Eco-friendly shoemaker Allbirds posts wider loss despite 33% gain in quarterly sales; shares fall</title>,\n",
       " <title>Gap shares crater 15% after retailer sees millions in lost sales from delayed product shipments, cuts its forecast</title>,\n",
       " <title>Nordstrom shares tumble more than 20% as earnings fall short, hurt by higher labor costs, weak Nordstrom Rack sales </title>,\n",
       " <title>Dick's Sporting Goods shares fall despite earnings beat and hiked outlook</title>,\n",
       " <title>Best Buy earnings top estimates but retailer's stock tumbles amid weakening demand, shipping bottlenecks</title>,\n",
       " <title>Zoom beats estimates even as revenue growth is poised to slow after pandemic</title>,\n",
       " <title>Kohl's shares jump after retailer reports 16% sales increase as shoppers buy clothes and makeup</title>,\n",
       " <title>Macy's shares surge on upbeat earnings, decision to hire AlixPartners to review business</title>,\n",
       " <title>Alibaba shares drop 11% as its slashes guidance and earnings plunge on China's slowdown</title>,\n",
       " <title>Nvidia data center sales grew 55% on demand for artificial intelligence chips</title>,\n",
       " <title>Cisco reports disappointing revenue and issues forecast that misses estimates</title>,\n",
       " <title>Lowe's tops estimates as customers invest more in bigger home projects, retailer lifts sales forecast</title>,\n",
       " <title>Target tops earnings estimates, but shares fall as retailer focuses on keeping customer prices low</title>,\n",
       " <title>Walmart tops earnings estimates, wins back grocery shoppers as inflation heats up</title>,\n",
       " <title>Home Depot earnings top estimates fueled by 9.8% jump in sales as consumers fix up homes</title>,\n",
       " <title>Shares of EV start-up Lucid rise after executives confirm new reservations, 2022 vehicle production</title>,\n",
       " <title>WeWork shows more losses in its first quarterly report as a public company</title>,\n",
       " <title>Warby Parker sales rise 32% as eyeglass retailer's losses widen in third quarter</title>]"
      ]
     },
     "execution_count": 41,
     "metadata": {},
     "output_type": "execute_result"
    }
   ],
   "source": [
    "Tcnbc = BeautifulSoup(cnbc.content, features='xml')\n",
    "TC = Tcnbc.findAll('title')\n",
    "TC"
   ]
  },
  {
   "cell_type": "markdown",
   "metadata": {},
   "source": [
    "## Extract entities"
   ]
  },
  {
   "cell_type": "code",
   "execution_count": 15,
   "metadata": {},
   "outputs": [],
   "source": [
    "# python -m spacy download en_core_web_sm\n",
    "nlp = spacy.load(\"en_core_web_sm\")"
   ]
  },
  {
   "cell_type": "code",
   "execution_count": 64,
   "metadata": {},
   "outputs": [
    {
     "name": "stdout",
     "output_type": "stream",
     "text": [
      "<title>Lowe's says pandemic-fueled home improvement demand could cool in year ahead</title>\n",
      "Lowe ----- PROPN\n",
      "'s ----- PART\n",
      "says ----- VERB\n",
      "pandemic ----- ADV\n",
      "- ----- PUNCT\n",
      "fueled ----- VERB\n",
      "home ----- NOUN\n",
      "improvement ----- NOUN\n",
      "demand ----- NOUN\n",
      "could ----- AUX\n",
      "cool ----- VERB\n",
      "in ----- ADP\n",
      "year ----- NOUN\n",
      "ahead ----- ADV\n"
     ]
    }
   ],
   "source": [
    "processed_hline = nlp(TC[1].text)\n",
    "print(TC[1])\n",
    "for token in processed_hline:\n",
    "    print(token.text, \"-----\", token.pos_)"
   ]
  },
  {
   "cell_type": "code",
   "execution_count": 65,
   "metadata": {},
   "outputs": [
    {
     "data": {
      "text/html": [
       "<span class=\"tex2jax_ignore\"><svg xmlns=\"http://www.w3.org/2000/svg\" xmlns:xlink=\"http://www.w3.org/1999/xlink\" xml:lang=\"en\" id=\"9d97cdddf41a49ecab89d8554cc449d0-0\" class=\"displacy\" width=\"1610\" height=\"377.0\" direction=\"ltr\" style=\"max-width: none; height: 377.0px; color: #000000; background: #ffffff; font-family: Arial; direction: ltr\">\n",
       "<text class=\"displacy-token\" fill=\"currentColor\" text-anchor=\"middle\" y=\"287.0\">\n",
       "    <tspan class=\"displacy-word\" fill=\"currentColor\" x=\"50\">Lowe</tspan>\n",
       "    <tspan class=\"displacy-tag\" dy=\"2em\" fill=\"currentColor\" x=\"50\">PROPN</tspan>\n",
       "</text>\n",
       "\n",
       "<text class=\"displacy-token\" fill=\"currentColor\" text-anchor=\"middle\" y=\"287.0\">\n",
       "    <tspan class=\"displacy-word\" fill=\"currentColor\" x=\"170\">'s</tspan>\n",
       "    <tspan class=\"displacy-tag\" dy=\"2em\" fill=\"currentColor\" x=\"170\">PART</tspan>\n",
       "</text>\n",
       "\n",
       "<text class=\"displacy-token\" fill=\"currentColor\" text-anchor=\"middle\" y=\"287.0\">\n",
       "    <tspan class=\"displacy-word\" fill=\"currentColor\" x=\"290\">says</tspan>\n",
       "    <tspan class=\"displacy-tag\" dy=\"2em\" fill=\"currentColor\" x=\"290\">VERB</tspan>\n",
       "</text>\n",
       "\n",
       "<text class=\"displacy-token\" fill=\"currentColor\" text-anchor=\"middle\" y=\"287.0\">\n",
       "    <tspan class=\"displacy-word\" fill=\"currentColor\" x=\"410\">pandemic-</tspan>\n",
       "    <tspan class=\"displacy-tag\" dy=\"2em\" fill=\"currentColor\" x=\"410\">ADV</tspan>\n",
       "</text>\n",
       "\n",
       "<text class=\"displacy-token\" fill=\"currentColor\" text-anchor=\"middle\" y=\"287.0\">\n",
       "    <tspan class=\"displacy-word\" fill=\"currentColor\" x=\"530\">fueled</tspan>\n",
       "    <tspan class=\"displacy-tag\" dy=\"2em\" fill=\"currentColor\" x=\"530\">VERB</tspan>\n",
       "</text>\n",
       "\n",
       "<text class=\"displacy-token\" fill=\"currentColor\" text-anchor=\"middle\" y=\"287.0\">\n",
       "    <tspan class=\"displacy-word\" fill=\"currentColor\" x=\"650\">home</tspan>\n",
       "    <tspan class=\"displacy-tag\" dy=\"2em\" fill=\"currentColor\" x=\"650\">NOUN</tspan>\n",
       "</text>\n",
       "\n",
       "<text class=\"displacy-token\" fill=\"currentColor\" text-anchor=\"middle\" y=\"287.0\">\n",
       "    <tspan class=\"displacy-word\" fill=\"currentColor\" x=\"770\">improvement</tspan>\n",
       "    <tspan class=\"displacy-tag\" dy=\"2em\" fill=\"currentColor\" x=\"770\">NOUN</tspan>\n",
       "</text>\n",
       "\n",
       "<text class=\"displacy-token\" fill=\"currentColor\" text-anchor=\"middle\" y=\"287.0\">\n",
       "    <tspan class=\"displacy-word\" fill=\"currentColor\" x=\"890\">demand</tspan>\n",
       "    <tspan class=\"displacy-tag\" dy=\"2em\" fill=\"currentColor\" x=\"890\">NOUN</tspan>\n",
       "</text>\n",
       "\n",
       "<text class=\"displacy-token\" fill=\"currentColor\" text-anchor=\"middle\" y=\"287.0\">\n",
       "    <tspan class=\"displacy-word\" fill=\"currentColor\" x=\"1010\">could</tspan>\n",
       "    <tspan class=\"displacy-tag\" dy=\"2em\" fill=\"currentColor\" x=\"1010\">AUX</tspan>\n",
       "</text>\n",
       "\n",
       "<text class=\"displacy-token\" fill=\"currentColor\" text-anchor=\"middle\" y=\"287.0\">\n",
       "    <tspan class=\"displacy-word\" fill=\"currentColor\" x=\"1130\">cool</tspan>\n",
       "    <tspan class=\"displacy-tag\" dy=\"2em\" fill=\"currentColor\" x=\"1130\">VERB</tspan>\n",
       "</text>\n",
       "\n",
       "<text class=\"displacy-token\" fill=\"currentColor\" text-anchor=\"middle\" y=\"287.0\">\n",
       "    <tspan class=\"displacy-word\" fill=\"currentColor\" x=\"1250\">in</tspan>\n",
       "    <tspan class=\"displacy-tag\" dy=\"2em\" fill=\"currentColor\" x=\"1250\">ADP</tspan>\n",
       "</text>\n",
       "\n",
       "<text class=\"displacy-token\" fill=\"currentColor\" text-anchor=\"middle\" y=\"287.0\">\n",
       "    <tspan class=\"displacy-word\" fill=\"currentColor\" x=\"1370\">year</tspan>\n",
       "    <tspan class=\"displacy-tag\" dy=\"2em\" fill=\"currentColor\" x=\"1370\">NOUN</tspan>\n",
       "</text>\n",
       "\n",
       "<text class=\"displacy-token\" fill=\"currentColor\" text-anchor=\"middle\" y=\"287.0\">\n",
       "    <tspan class=\"displacy-word\" fill=\"currentColor\" x=\"1490\">ahead</tspan>\n",
       "    <tspan class=\"displacy-tag\" dy=\"2em\" fill=\"currentColor\" x=\"1490\">ADV</tspan>\n",
       "</text>\n",
       "\n",
       "<g class=\"displacy-arrow\">\n",
       "    <path class=\"displacy-arc\" id=\"arrow-9d97cdddf41a49ecab89d8554cc449d0-0-0\" stroke-width=\"2px\" d=\"M70,242.0 C70,122.0 280.0,122.0 280.0,242.0\" fill=\"none\" stroke=\"currentColor\"/>\n",
       "    <text dy=\"1.25em\" style=\"font-size: 0.8em; letter-spacing: 1px\">\n",
       "        <textPath xlink:href=\"#arrow-9d97cdddf41a49ecab89d8554cc449d0-0-0\" class=\"displacy-label\" startOffset=\"50%\" side=\"left\" fill=\"currentColor\" text-anchor=\"middle\">nsubj</textPath>\n",
       "    </text>\n",
       "    <path class=\"displacy-arrowhead\" d=\"M70,244.0 L62,232.0 78,232.0\" fill=\"currentColor\"/>\n",
       "</g>\n",
       "\n",
       "<g class=\"displacy-arrow\">\n",
       "    <path class=\"displacy-arc\" id=\"arrow-9d97cdddf41a49ecab89d8554cc449d0-0-1\" stroke-width=\"2px\" d=\"M70,242.0 C70,182.0 155.0,182.0 155.0,242.0\" fill=\"none\" stroke=\"currentColor\"/>\n",
       "    <text dy=\"1.25em\" style=\"font-size: 0.8em; letter-spacing: 1px\">\n",
       "        <textPath xlink:href=\"#arrow-9d97cdddf41a49ecab89d8554cc449d0-0-1\" class=\"displacy-label\" startOffset=\"50%\" side=\"left\" fill=\"currentColor\" text-anchor=\"middle\">case</textPath>\n",
       "    </text>\n",
       "    <path class=\"displacy-arrowhead\" d=\"M155.0,244.0 L163.0,232.0 147.0,232.0\" fill=\"currentColor\"/>\n",
       "</g>\n",
       "\n",
       "<g class=\"displacy-arrow\">\n",
       "    <path class=\"displacy-arc\" id=\"arrow-9d97cdddf41a49ecab89d8554cc449d0-0-2\" stroke-width=\"2px\" d=\"M430,242.0 C430,182.0 515.0,182.0 515.0,242.0\" fill=\"none\" stroke=\"currentColor\"/>\n",
       "    <text dy=\"1.25em\" style=\"font-size: 0.8em; letter-spacing: 1px\">\n",
       "        <textPath xlink:href=\"#arrow-9d97cdddf41a49ecab89d8554cc449d0-0-2\" class=\"displacy-label\" startOffset=\"50%\" side=\"left\" fill=\"currentColor\" text-anchor=\"middle\">advmod</textPath>\n",
       "    </text>\n",
       "    <path class=\"displacy-arrowhead\" d=\"M430,244.0 L422,232.0 438,232.0\" fill=\"currentColor\"/>\n",
       "</g>\n",
       "\n",
       "<g class=\"displacy-arrow\">\n",
       "    <path class=\"displacy-arc\" id=\"arrow-9d97cdddf41a49ecab89d8554cc449d0-0-3\" stroke-width=\"2px\" d=\"M550,242.0 C550,62.0 885.0,62.0 885.0,242.0\" fill=\"none\" stroke=\"currentColor\"/>\n",
       "    <text dy=\"1.25em\" style=\"font-size: 0.8em; letter-spacing: 1px\">\n",
       "        <textPath xlink:href=\"#arrow-9d97cdddf41a49ecab89d8554cc449d0-0-3\" class=\"displacy-label\" startOffset=\"50%\" side=\"left\" fill=\"currentColor\" text-anchor=\"middle\">amod</textPath>\n",
       "    </text>\n",
       "    <path class=\"displacy-arrowhead\" d=\"M550,244.0 L542,232.0 558,232.0\" fill=\"currentColor\"/>\n",
       "</g>\n",
       "\n",
       "<g class=\"displacy-arrow\">\n",
       "    <path class=\"displacy-arc\" id=\"arrow-9d97cdddf41a49ecab89d8554cc449d0-0-4\" stroke-width=\"2px\" d=\"M670,242.0 C670,182.0 755.0,182.0 755.0,242.0\" fill=\"none\" stroke=\"currentColor\"/>\n",
       "    <text dy=\"1.25em\" style=\"font-size: 0.8em; letter-spacing: 1px\">\n",
       "        <textPath xlink:href=\"#arrow-9d97cdddf41a49ecab89d8554cc449d0-0-4\" class=\"displacy-label\" startOffset=\"50%\" side=\"left\" fill=\"currentColor\" text-anchor=\"middle\">compound</textPath>\n",
       "    </text>\n",
       "    <path class=\"displacy-arrowhead\" d=\"M670,244.0 L662,232.0 678,232.0\" fill=\"currentColor\"/>\n",
       "</g>\n",
       "\n",
       "<g class=\"displacy-arrow\">\n",
       "    <path class=\"displacy-arc\" id=\"arrow-9d97cdddf41a49ecab89d8554cc449d0-0-5\" stroke-width=\"2px\" d=\"M790,242.0 C790,182.0 875.0,182.0 875.0,242.0\" fill=\"none\" stroke=\"currentColor\"/>\n",
       "    <text dy=\"1.25em\" style=\"font-size: 0.8em; letter-spacing: 1px\">\n",
       "        <textPath xlink:href=\"#arrow-9d97cdddf41a49ecab89d8554cc449d0-0-5\" class=\"displacy-label\" startOffset=\"50%\" side=\"left\" fill=\"currentColor\" text-anchor=\"middle\">compound</textPath>\n",
       "    </text>\n",
       "    <path class=\"displacy-arrowhead\" d=\"M790,244.0 L782,232.0 798,232.0\" fill=\"currentColor\"/>\n",
       "</g>\n",
       "\n",
       "<g class=\"displacy-arrow\">\n",
       "    <path class=\"displacy-arc\" id=\"arrow-9d97cdddf41a49ecab89d8554cc449d0-0-6\" stroke-width=\"2px\" d=\"M910,242.0 C910,122.0 1120.0,122.0 1120.0,242.0\" fill=\"none\" stroke=\"currentColor\"/>\n",
       "    <text dy=\"1.25em\" style=\"font-size: 0.8em; letter-spacing: 1px\">\n",
       "        <textPath xlink:href=\"#arrow-9d97cdddf41a49ecab89d8554cc449d0-0-6\" class=\"displacy-label\" startOffset=\"50%\" side=\"left\" fill=\"currentColor\" text-anchor=\"middle\">nsubj</textPath>\n",
       "    </text>\n",
       "    <path class=\"displacy-arrowhead\" d=\"M910,244.0 L902,232.0 918,232.0\" fill=\"currentColor\"/>\n",
       "</g>\n",
       "\n",
       "<g class=\"displacy-arrow\">\n",
       "    <path class=\"displacy-arc\" id=\"arrow-9d97cdddf41a49ecab89d8554cc449d0-0-7\" stroke-width=\"2px\" d=\"M1030,242.0 C1030,182.0 1115.0,182.0 1115.0,242.0\" fill=\"none\" stroke=\"currentColor\"/>\n",
       "    <text dy=\"1.25em\" style=\"font-size: 0.8em; letter-spacing: 1px\">\n",
       "        <textPath xlink:href=\"#arrow-9d97cdddf41a49ecab89d8554cc449d0-0-7\" class=\"displacy-label\" startOffset=\"50%\" side=\"left\" fill=\"currentColor\" text-anchor=\"middle\">aux</textPath>\n",
       "    </text>\n",
       "    <path class=\"displacy-arrowhead\" d=\"M1030,244.0 L1022,232.0 1038,232.0\" fill=\"currentColor\"/>\n",
       "</g>\n",
       "\n",
       "<g class=\"displacy-arrow\">\n",
       "    <path class=\"displacy-arc\" id=\"arrow-9d97cdddf41a49ecab89d8554cc449d0-0-8\" stroke-width=\"2px\" d=\"M310,242.0 C310,2.0 1130.0,2.0 1130.0,242.0\" fill=\"none\" stroke=\"currentColor\"/>\n",
       "    <text dy=\"1.25em\" style=\"font-size: 0.8em; letter-spacing: 1px\">\n",
       "        <textPath xlink:href=\"#arrow-9d97cdddf41a49ecab89d8554cc449d0-0-8\" class=\"displacy-label\" startOffset=\"50%\" side=\"left\" fill=\"currentColor\" text-anchor=\"middle\">ccomp</textPath>\n",
       "    </text>\n",
       "    <path class=\"displacy-arrowhead\" d=\"M1130.0,244.0 L1138.0,232.0 1122.0,232.0\" fill=\"currentColor\"/>\n",
       "</g>\n",
       "\n",
       "<g class=\"displacy-arrow\">\n",
       "    <path class=\"displacy-arc\" id=\"arrow-9d97cdddf41a49ecab89d8554cc449d0-0-9\" stroke-width=\"2px\" d=\"M1150,242.0 C1150,182.0 1235.0,182.0 1235.0,242.0\" fill=\"none\" stroke=\"currentColor\"/>\n",
       "    <text dy=\"1.25em\" style=\"font-size: 0.8em; letter-spacing: 1px\">\n",
       "        <textPath xlink:href=\"#arrow-9d97cdddf41a49ecab89d8554cc449d0-0-9\" class=\"displacy-label\" startOffset=\"50%\" side=\"left\" fill=\"currentColor\" text-anchor=\"middle\">prep</textPath>\n",
       "    </text>\n",
       "    <path class=\"displacy-arrowhead\" d=\"M1235.0,244.0 L1243.0,232.0 1227.0,232.0\" fill=\"currentColor\"/>\n",
       "</g>\n",
       "\n",
       "<g class=\"displacy-arrow\">\n",
       "    <path class=\"displacy-arc\" id=\"arrow-9d97cdddf41a49ecab89d8554cc449d0-0-10\" stroke-width=\"2px\" d=\"M1270,242.0 C1270,182.0 1355.0,182.0 1355.0,242.0\" fill=\"none\" stroke=\"currentColor\"/>\n",
       "    <text dy=\"1.25em\" style=\"font-size: 0.8em; letter-spacing: 1px\">\n",
       "        <textPath xlink:href=\"#arrow-9d97cdddf41a49ecab89d8554cc449d0-0-10\" class=\"displacy-label\" startOffset=\"50%\" side=\"left\" fill=\"currentColor\" text-anchor=\"middle\">pobj</textPath>\n",
       "    </text>\n",
       "    <path class=\"displacy-arrowhead\" d=\"M1355.0,244.0 L1363.0,232.0 1347.0,232.0\" fill=\"currentColor\"/>\n",
       "</g>\n",
       "\n",
       "<g class=\"displacy-arrow\">\n",
       "    <path class=\"displacy-arc\" id=\"arrow-9d97cdddf41a49ecab89d8554cc449d0-0-11\" stroke-width=\"2px\" d=\"M1150,242.0 C1150,62.0 1485.0,62.0 1485.0,242.0\" fill=\"none\" stroke=\"currentColor\"/>\n",
       "    <text dy=\"1.25em\" style=\"font-size: 0.8em; letter-spacing: 1px\">\n",
       "        <textPath xlink:href=\"#arrow-9d97cdddf41a49ecab89d8554cc449d0-0-11\" class=\"displacy-label\" startOffset=\"50%\" side=\"left\" fill=\"currentColor\" text-anchor=\"middle\">advmod</textPath>\n",
       "    </text>\n",
       "    <path class=\"displacy-arrowhead\" d=\"M1485.0,244.0 L1493.0,232.0 1477.0,232.0\" fill=\"currentColor\"/>\n",
       "</g>\n",
       "</svg></span>"
      ],
      "text/plain": [
       "<IPython.core.display.HTML object>"
      ]
     },
     "metadata": {},
     "output_type": "display_data"
    }
   ],
   "source": [
    "spacy.displacy.render(processed_hline, style='dep',\n",
    "jupyter=True, options={'distance': 120})"
   ]
  },
  {
   "cell_type": "code",
   "execution_count": 66,
   "metadata": {},
   "outputs": [
    {
     "data": {
      "text/html": [
       "<span class=\"tex2jax_ignore\"><div class=\"entities\" style=\"line-height: 2.5; direction: ltr\">\n",
       "<mark class=\"entity\" style=\"background: #7aecec; padding: 0.45em 0.6em; margin: 0 0.25em; line-height: 1; border-radius: 0.35em;\">\n",
       "    Lowe\n",
       "    <span style=\"font-size: 0.8em; font-weight: bold; line-height: 1; border-radius: 0.35em; vertical-align: middle; margin-left: 0.5rem\">ORG</span>\n",
       "</mark>\n",
       "'s says pandemic-fueled home improvement demand could cool in \n",
       "<mark class=\"entity\" style=\"background: #bfe1d9; padding: 0.45em 0.6em; margin: 0 0.25em; line-height: 1; border-radius: 0.35em;\">\n",
       "    year ahead\n",
       "    <span style=\"font-size: 0.8em; font-weight: bold; line-height: 1; border-radius: 0.35em; vertical-align: middle; margin-left: 0.5rem\">DATE</span>\n",
       "</mark>\n",
       "</div></span>"
      ],
      "text/plain": [
       "<IPython.core.display.HTML object>"
      ]
     },
     "metadata": {},
     "output_type": "display_data"
    }
   ],
   "source": [
    "spacy.displacy.render(processed_hline, style='ent',\n",
    "jupyter=True, options={'distance': 120})"
   ]
  },
  {
   "cell_type": "code",
   "execution_count": 63,
   "metadata": {},
   "outputs": [
    {
     "data": {
      "text/plain": [
       "['Lowe',\n",
       " 'Mirror',\n",
       " 'Runway',\n",
       " 'Kay Jewelers',\n",
       " 'Nordstrom',\n",
       " \"Dick's Sporting Goods\",\n",
       " 'Macy',\n",
       " 'Lowe',\n",
       " 'Target',\n",
       " 'Home Depot',\n",
       " 'EV']"
      ]
     },
     "execution_count": 63,
     "metadata": {},
     "output_type": "execute_result"
    }
   ],
   "source": [
    "companies = []\n",
    "for title in TC:\n",
    "    doc = nlp(title.text)\n",
    "    for token in doc.ents:\n",
    "        if token.label_ == 'ORG':\n",
    "            companies.append(token.text)\n",
    "        else: \n",
    "            pass\n",
    "        \n",
    "companies"
   ]
  },
  {
   "cell_type": "code",
   "execution_count": null,
   "metadata": {},
   "outputs": [],
   "source": []
  },
  {
   "cell_type": "code",
   "execution_count": null,
   "metadata": {},
   "outputs": [],
   "source": []
  }
 ],
 "metadata": {
  "kernelspec": {
   "display_name": "Python 3",
   "language": "python",
   "name": "python3"
  },
  "language_info": {
   "codemirror_mode": {
    "name": "ipython",
    "version": 3
   },
   "file_extension": ".py",
   "mimetype": "text/x-python",
   "name": "python",
   "nbconvert_exporter": "python",
   "pygments_lexer": "ipython3",
   "version": "3.8.5"
  }
 },
 "nbformat": 4,
 "nbformat_minor": 4
}
