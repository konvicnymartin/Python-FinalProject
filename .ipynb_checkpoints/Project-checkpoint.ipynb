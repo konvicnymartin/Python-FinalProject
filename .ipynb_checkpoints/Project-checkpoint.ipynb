{
 "cells": [
  {
   "cell_type": "markdown",
   "metadata": {},
   "source": [
    "# Project"
   ]
  },
  {
   "cell_type": "markdown",
   "metadata": {},
   "source": [
    "## Packages"
   ]
  },
  {
   "cell_type": "code",
   "execution_count": 1,
   "metadata": {},
   "outputs": [],
   "source": [
    "from bs4 import BeautifulSoup # to parse external data\n",
    "import yfinance as yf\n",
    "import pandas as pd # to read CSV files\n",
    "import requests # to get data\n",
    "import spacy #to extraxt entities\n",
    "import streamlit as st"
   ]
  },
  {
   "cell_type": "markdown",
   "metadata": {},
   "source": [
    "## RSS feeds"
   ]
  },
  {
   "cell_type": "code",
   "execution_count": 2,
   "metadata": {},
   "outputs": [
    {
     "data": {
      "text/plain": [
       "<Response [200]>"
      ]
     },
     "execution_count": 2,
     "metadata": {},
     "output_type": "execute_result"
    }
   ],
   "source": [
    "# Check if data from the page are downloadable\n",
    "yahoo = requests.get(\"https://finance.yahoo.com/news/rssindex\")\n",
    "yahoo"
   ]
  },
  {
   "cell_type": "code",
   "execution_count": 3,
   "metadata": {
    "scrolled": true
   },
   "outputs": [
    {
     "data": {
      "text/plain": [
       "[<title>Yahoo Finance</title>,\n",
       " <title>Yahoo Finance</title>,\n",
       " <title>Why a Wave of Mergers Next Year Could Lift Drug and Biotech Stocks</title>,\n",
       " <title>It's no stimulus check, but millions are passing up $2,000 in free government money</title>,\n",
       " <title>Cathie Wood says stocks have corrected into ‘deep value territory’ and won’t let benchmarks ‘hold our strategies hostage’</title>,\n",
       " <title>Retirees Aren’t Spending Enough of Their Nest Eggs. Here’s Why.</title>,\n",
       " <title>Tech Stocks Face a Tough Road in 2022. Here Are the Likely Exceptions.</title>,\n",
       " <title>I just got a huge dividend payout from a mutual fund and my investment value dropped — what’s going on?</title>,\n",
       " <title>Bill Ackman says inflation could actually be a ‘raging’ 10% — here are 3 creative ways to hedge</title>,\n",
       " <title>Insiders Sense a Bottom in These 2 Stocks; Analysts Say ‘Buy’</title>,\n",
       " <title>REITs Are Poised to Outperform Stocks Next Year. Here Are 3 Picks.</title>,\n",
       " <title>You could be a landlord for Amazon, FedEx and Walmart with these REITs that net up to a 4.4% yield — you can even collect on a monthly basis</title>,\n",
       " <title>So many people are buying Teslas — but are they ready for the costly insurance?</title>,\n",
       " <title>Mohamed El-Erian: Calling inflation transitory is probably the worst call in the Fed's history — but his firm uses these 3 stocks to take advantage</title>,\n",
       " <title>EV-Charging Firm ChargePoint Sees Big Insider Stock Buy</title>,\n",
       " <title>Cheap Stocks To Buy: Should You Watch These 5 Growth Stocks?</title>,\n",
       " <title>Looking to Invest in Oil? Consider the Vanguard Energy ETF</title>,\n",
       " <title>Don’t Expect Big Returns From the Stock Market Next Year as Interest Rates Rise</title>,\n",
       " <title>The Stock Market Could Be Headed for a Boom and a Bust in 2022—Just Not in That Order</title>,\n",
       " <title>Here’s what stock-market experts are blaming Friday’s wild price swings—and it’s not just quadruple witching</title>,\n",
       " <title>Slim Chance U.S. Stocks Will Rack Up Another Year of Gains</title>,\n",
       " <title>Elizabeth Holmes' lawyer argues wealthy investors like DeVos family knew Theranos' risks</title>,\n",
       " <title>Your financial planner wants to manage all your retirement assets. Is that a good idea?</title>,\n",
       " <title>China, US regulators start talks on audit inspection of Chinese companies on American exchanges amid moves to delist these firms</title>,\n",
       " <title>Warren Buffett scored 3,000% gains in electric car stock without Rivian or Tesla — here are 3 EV stocks flying under Wall Street's radar</title>,\n",
       " <title>Sell the Rumor Fails in China Biotech as It Roars Back</title>,\n",
       " <title>Is Rivian Stock A Buy After It Reports Strong Q3 Sales But Steep Losses?</title>,\n",
       " <title>Penny Stocks to Watch for January 2022</title>,\n",
       " <title>Barron’s Hall of Famer Jim Stack: Preparing for a Bear Market</title>,\n",
       " <title>Oracle’s Rally Takes a Short Pause. There’s Still More to Come.</title>,\n",
       " <title>Higher mortgage rates are coming. What could it mean for homebuyers?</title>,\n",
       " <title>Oil Prices Are Rising. Look For Bigger Returns in 2022.</title>,\n",
       " <title>Crypto Goes Briefly Haywire. That’s No Joke.</title>,\n",
       " <title>Was The Move In Pfizer Stock Too Good To Last?</title>,\n",
       " <title>3 Reasons the Stock Market Is Down — Again</title>,\n",
       " <title>Ark Picks Advance While JPMorgan Predicts ‘Short Squeeze Rally’</title>,\n",
       " <title>Dow Jones Futures: Why This Market Rally Is So Dangerous; Omicron Fears Swell, Tesla Rival Nio Touts Big Ambitions</title>,\n",
       " <title>Apple stock is smack in the middle of a perfect storm: strategist</title>,\n",
       " <title>MicroStrategy’s Saylor Lays Out Ways Firm Could Generate Yield From Its Massive Bitcoin Holdings</title>,\n",
       " <title>Take that, meme stocks!</title>,\n",
       " <title>Pimco Ousted as Harbor Fund’s Manager After 34 Years Over Fees</title>,\n",
       " <title>GM and Nikola Are Now Delivering Electric Trucks. The EV Transition Is Getting Real.</title>,\n",
       " <title>10 Important Cryptocurrencies Other than Bitcoin</title>,\n",
       " <title>Tesla Stock Vs. BYD Stock: Tesla Growing Fast, But EV Rival Is Catching Up</title>,\n",
       " <title>The Fed Could Be Shifting Gears at Just the Wrong Time</title>,\n",
       " <title>Micron Earnings: A Strong Quarter on the Way</title>,\n",
       " <title>Is Nvidia Stock A Buy? Chip Giant Skids To Key Support After Frenzied Metaverse Rally</title>,\n",
       " <title>Airbnb Stock: Is It A Buy? Here's What Fundamentals, ABNB Stock Chart Action Say</title>,\n",
       " <title>Is BlackBerry Stock A Buy? What Fundamentals, Fund Metrics, Chart Say</title>,\n",
       " <title>ViacomCBS Shareholder Notice</title>,\n",
       " <title>Argentina Limits Grain Exports in Fight Against Food Inflation</title>,\n",
       " <title>5 Best Chinese Stocks To Buy And Watch</title>]"
      ]
     },
     "execution_count": 3,
     "metadata": {},
     "output_type": "execute_result"
    }
   ],
   "source": [
    "# Get headlines\n",
    "Tyahoo = BeautifulSoup(yahoo.content, features='xml')\n",
    "TY = Tyahoo.findAll('title')\n",
    "TY # list of titles"
   ]
  },
  {
   "cell_type": "code",
   "execution_count": 4,
   "metadata": {},
   "outputs": [
    {
     "data": {
      "text/plain": [
       "<Response [200]>"
      ]
     },
     "execution_count": 4,
     "metadata": {},
     "output_type": "execute_result"
    }
   ],
   "source": [
    "wsj = requests.get(\"https://feeds.a.dj.com/rss/RSSMarketsMain.xml?fbclid=IwAR17gY8vV2SdoTLP_35v7zGYmPireg5xIX_y1VEgPYRoXVd5jVouoKRlXAc\")\n",
    "wsj"
   ]
  },
  {
   "cell_type": "code",
   "execution_count": 5,
   "metadata": {
    "scrolled": true
   },
   "outputs": [
    {
     "data": {
      "text/plain": [
       "[<title>WSJ.com: Markets</title>,\n",
       " <title>WSJ.com: Markets</title>,\n",
       " <title>Inflation Adds to Cost of Clean Energy Transition</title>,\n",
       " <title>Equifax to Add More 'Buy Now, Pay Later' Plans to Credit Reports</title>,\n",
       " <title>Sky-High Lumber Prices Are Back</title>,\n",
       " <title>U.S. Gas Exports Likely More Trickle Than Flood</title>,\n",
       " <title>Investors Balk at Plan to Buy Coal Mines and Close Them</title>,\n",
       " <title>Crypto and Its Many Fees: What to Know About the Hidden Costs</title>,\n",
       " <title>Johnson &amp; Johnson, McDonald's, Toyota: Stocks That Defined the Week</title>,\n",
       " <title>Stocks Fall Amid Rate-Rise Worries</title>,\n",
       " <title>U.S. Regulators Raise Concern With Stablecoin Digital Currency</title>,\n",
       " <title>Turkish Lira, Stocks Sink Amid Inflation Concerns</title>,\n",
       " <title>What's Not to Like About a Fund With a 7% Yield</title>,\n",
       " <title>Holiday Tipping Guide for 2021</title>,\n",
       " <title>Chinese Broker to Conduct Review Into Short-Seller's Fraud Allegations</title>,\n",
       " <title>Rivian, FedEx, Cerner, Oracle: What to Watch in the Stock Market Today</title>,\n",
       " <title>JPMorgan Fined $200 Million Over Employees' Use Messaging Apps</title>,\n",
       " <title>HSBC Fined $85 Million for Lax Anti-Money-Laundering Controls</title>,\n",
       " <title>Family Business Deals Fuel Carvana's Explosive Growth</title>,\n",
       " <title>S&amp;P Joins Major Credit Raters in Declaring China Evergrande in Default</title>,\n",
       " <title>Will the Reddit Army Show Up for Reddit Stock?</title>,\n",
       " <title>Tornado Insurance Payouts On Track to Hit $5 Billion</title>]"
      ]
     },
     "execution_count": 5,
     "metadata": {},
     "output_type": "execute_result"
    }
   ],
   "source": [
    "Twsj = BeautifulSoup(wsj.content, features='xml')\n",
    "TW = Twsj.findAll('title')\n",
    "TW"
   ]
  },
  {
   "cell_type": "code",
   "execution_count": 6,
   "metadata": {},
   "outputs": [
    {
     "data": {
      "text/plain": [
       "<Response [200]>"
      ]
     },
     "execution_count": 6,
     "metadata": {},
     "output_type": "execute_result"
    }
   ],
   "source": [
    "cnbc = requests.get(\"https://www.cnbc.com/id/15839135/device/rss/rss.html?fbclid=IwAR2o0zeWtmgEwZob45_F6e02pkTVo9uBGL0VI1GQv8mPyScEFY-hn9t089Y\")\n",
    "cnbc"
   ]
  },
  {
   "cell_type": "code",
   "execution_count": 7,
   "metadata": {
    "scrolled": true
   },
   "outputs": [
    {
     "data": {
      "text/plain": [
       "[<title>Earnings</title>,\n",
       " <title>Darden shares fall as CEO announces plans to retire; Olive Garden parent raises forecast despite planned wage hike</title>,\n",
       " <title>Adobe plunges 10% and has second-worst day in past decade on weak guidance</title>,\n",
       " <title>Lowe's says pandemic-fueled home improvement demand could cool in year ahead</title>,\n",
       " <title>Lululemon earnings top estimates, but shares fall after retailer cuts forecast for Mirror sales</title>,\n",
       " <title>Oracle swings to loss because of payment tied to dispute over former CEO Hurd's employment</title>,\n",
       " <title>GameStop shares fall as video game retailer reports widening losses in third quarter</title>,\n",
       " <title>Rent the Runway posts widening losses, as subscribers have yet to return to pre-pandemic levels</title>,\n",
       " <title>Stitch Fix shares crater as retailer cuts forecast, despite topping earnings estimates</title>,\n",
       " <title>MongoDB shares jump as revenue growth accelerates</title>,\n",
       " <title>DocuSign plunges almost 30% after e-signature company issues weak fourth-quarter guidance</title>,\n",
       " <title>Kay Jewelers parent Signet shares down as investors fear retailer will have trouble sustaining strong growth </title>,\n",
       " <title>Dollar General tested a store for wealthier shoppers. Now, it will grow to 1,000 locations</title>,\n",
       " <title>Snowflake stock soars on strong revenue and Q4 guidance</title>,\n",
       " <title>Salesforce fourth quarter guidance misses Wall Street expectations</title>,\n",
       " <title>Eco-friendly shoemaker Allbirds posts wider loss despite 33% gain in quarterly sales; shares fall</title>,\n",
       " <title>Gap shares crater 15% after retailer sees millions in lost sales from delayed product shipments, cuts its forecast</title>,\n",
       " <title>Nordstrom shares tumble more than 20% as earnings fall short, hurt by higher labor costs, weak Nordstrom Rack sales </title>,\n",
       " <title>Dick's Sporting Goods shares fall despite earnings beat and hiked outlook</title>,\n",
       " <title>Best Buy earnings top estimates but retailer's stock tumbles amid weakening demand, shipping bottlenecks</title>,\n",
       " <title>Zoom beats estimates even as revenue growth is poised to slow after pandemic</title>,\n",
       " <title>Kohl's shares jump after retailer reports 16% sales increase as shoppers buy clothes and makeup</title>,\n",
       " <title>Macy's shares surge on upbeat earnings, decision to hire AlixPartners to review business</title>,\n",
       " <title>Alibaba shares drop 11% as its slashes guidance and earnings plunge on China's slowdown</title>,\n",
       " <title>Nvidia data center sales grew 55% on demand for artificial intelligence chips</title>,\n",
       " <title>Cisco reports disappointing revenue and issues forecast that misses estimates</title>,\n",
       " <title>Lowe's tops estimates as customers invest more in bigger home projects, retailer lifts sales forecast</title>,\n",
       " <title>Target tops earnings estimates, but shares fall as retailer focuses on keeping customer prices low</title>,\n",
       " <title>Walmart tops earnings estimates, wins back grocery shoppers as inflation heats up</title>,\n",
       " <title>Home Depot earnings top estimates fueled by 9.8% jump in sales as consumers fix up homes</title>,\n",
       " <title>Shares of EV start-up Lucid rise after executives confirm new reservations, 2022 vehicle production</title>]"
      ]
     },
     "execution_count": 7,
     "metadata": {},
     "output_type": "execute_result"
    }
   ],
   "source": [
    "Tcnbc = BeautifulSoup(cnbc.content, features='xml')\n",
    "TC = Tcnbc.findAll('title')\n",
    "TC"
   ]
  },
  {
   "cell_type": "markdown",
   "metadata": {},
   "source": [
    "## Extract entities"
   ]
  },
  {
   "cell_type": "code",
   "execution_count": 8,
   "metadata": {},
   "outputs": [],
   "source": [
    "# python -m spacy download en_core_web_sm\n",
    "nlp = spacy.load(\"en_core_web_sm\") # en_core_web_sm - basic NLP task (to process extracted text data)"
   ]
  },
  {
   "cell_type": "code",
   "execution_count": 9,
   "metadata": {},
   "outputs": [
    {
     "name": "stdout",
     "output_type": "stream",
     "text": [
      "<title>Darden shares fall as CEO announces plans to retire; Olive Garden parent raises forecast despite planned wage hike</title>\n",
      "Darden ----- adjective ----- adjectival modifier\n",
      "shares ----- noun ----- nominal subject\n",
      "fall ----- verb ----- clausal complement\n",
      "as ----- subordinating conjunction ----- marker\n",
      "CEO ----- noun ----- nominal subject\n",
      "announces ----- verb ----- adverbial clause modifier\n",
      "plans ----- noun ----- direct object\n",
      "to ----- particle ----- auxiliary\n",
      "retire ----- verb ----- open clausal complement\n",
      "; ----- punctuation ----- punctuation\n",
      "Olive ----- proper noun ----- compound\n",
      "Garden ----- proper noun ----- compound\n",
      "parent ----- noun ----- nominal subject\n",
      "raises ----- verb ----- None\n",
      "forecast ----- noun ----- direct object\n",
      "despite ----- subordinating conjunction ----- prepositional modifier\n",
      "planned ----- verb ----- adjectival modifier\n",
      "wage ----- noun ----- compound\n",
      "hike ----- noun ----- object of preposition\n"
     ]
    }
   ],
   "source": [
    "processed_hline = nlp(TC[1].text) #Get first headline\n",
    "print(TC[1])\n",
    "for token in processed_hline:\n",
    "    print(token.text, \"-----\", spacy.explain(token.pos_),'-----', spacy.explain(token.dep_)) # tokens + tags + dependencies"
   ]
  },
  {
   "cell_type": "code",
   "execution_count": 10,
   "metadata": {},
   "outputs": [
    {
     "data": {
      "text/html": [
       "<span class=\"tex2jax_ignore\"><svg xmlns=\"http://www.w3.org/2000/svg\" xmlns:xlink=\"http://www.w3.org/1999/xlink\" xml:lang=\"en\" id=\"29a6e016518c4e8db141bdb09653de35-0\" class=\"displacy\" width=\"2030\" height=\"357.0\" direction=\"ltr\" style=\"max-width: none; height: 357.0px; color: #000000; background: #ffffff; font-family: Arial; direction: ltr\">\n",
       "<text class=\"displacy-token\" fill=\"currentColor\" text-anchor=\"middle\" y=\"267.0\">\n",
       "    <tspan class=\"displacy-word\" fill=\"currentColor\" x=\"50\">Darden</tspan>\n",
       "    <tspan class=\"displacy-tag\" dy=\"2em\" fill=\"currentColor\" x=\"50\">ADJ</tspan>\n",
       "</text>\n",
       "\n",
       "<text class=\"displacy-token\" fill=\"currentColor\" text-anchor=\"middle\" y=\"267.0\">\n",
       "    <tspan class=\"displacy-word\" fill=\"currentColor\" x=\"160\">shares</tspan>\n",
       "    <tspan class=\"displacy-tag\" dy=\"2em\" fill=\"currentColor\" x=\"160\">NOUN</tspan>\n",
       "</text>\n",
       "\n",
       "<text class=\"displacy-token\" fill=\"currentColor\" text-anchor=\"middle\" y=\"267.0\">\n",
       "    <tspan class=\"displacy-word\" fill=\"currentColor\" x=\"270\">fall</tspan>\n",
       "    <tspan class=\"displacy-tag\" dy=\"2em\" fill=\"currentColor\" x=\"270\">VERB</tspan>\n",
       "</text>\n",
       "\n",
       "<text class=\"displacy-token\" fill=\"currentColor\" text-anchor=\"middle\" y=\"267.0\">\n",
       "    <tspan class=\"displacy-word\" fill=\"currentColor\" x=\"380\">as</tspan>\n",
       "    <tspan class=\"displacy-tag\" dy=\"2em\" fill=\"currentColor\" x=\"380\">SCONJ</tspan>\n",
       "</text>\n",
       "\n",
       "<text class=\"displacy-token\" fill=\"currentColor\" text-anchor=\"middle\" y=\"267.0\">\n",
       "    <tspan class=\"displacy-word\" fill=\"currentColor\" x=\"490\">CEO</tspan>\n",
       "    <tspan class=\"displacy-tag\" dy=\"2em\" fill=\"currentColor\" x=\"490\">NOUN</tspan>\n",
       "</text>\n",
       "\n",
       "<text class=\"displacy-token\" fill=\"currentColor\" text-anchor=\"middle\" y=\"267.0\">\n",
       "    <tspan class=\"displacy-word\" fill=\"currentColor\" x=\"600\">announces</tspan>\n",
       "    <tspan class=\"displacy-tag\" dy=\"2em\" fill=\"currentColor\" x=\"600\">VERB</tspan>\n",
       "</text>\n",
       "\n",
       "<text class=\"displacy-token\" fill=\"currentColor\" text-anchor=\"middle\" y=\"267.0\">\n",
       "    <tspan class=\"displacy-word\" fill=\"currentColor\" x=\"710\">plans</tspan>\n",
       "    <tspan class=\"displacy-tag\" dy=\"2em\" fill=\"currentColor\" x=\"710\">NOUN</tspan>\n",
       "</text>\n",
       "\n",
       "<text class=\"displacy-token\" fill=\"currentColor\" text-anchor=\"middle\" y=\"267.0\">\n",
       "    <tspan class=\"displacy-word\" fill=\"currentColor\" x=\"820\">to</tspan>\n",
       "    <tspan class=\"displacy-tag\" dy=\"2em\" fill=\"currentColor\" x=\"820\">PART</tspan>\n",
       "</text>\n",
       "\n",
       "<text class=\"displacy-token\" fill=\"currentColor\" text-anchor=\"middle\" y=\"267.0\">\n",
       "    <tspan class=\"displacy-word\" fill=\"currentColor\" x=\"930\">retire;</tspan>\n",
       "    <tspan class=\"displacy-tag\" dy=\"2em\" fill=\"currentColor\" x=\"930\">VERB</tspan>\n",
       "</text>\n",
       "\n",
       "<text class=\"displacy-token\" fill=\"currentColor\" text-anchor=\"middle\" y=\"267.0\">\n",
       "    <tspan class=\"displacy-word\" fill=\"currentColor\" x=\"1040\">Olive</tspan>\n",
       "    <tspan class=\"displacy-tag\" dy=\"2em\" fill=\"currentColor\" x=\"1040\">PROPN</tspan>\n",
       "</text>\n",
       "\n",
       "<text class=\"displacy-token\" fill=\"currentColor\" text-anchor=\"middle\" y=\"267.0\">\n",
       "    <tspan class=\"displacy-word\" fill=\"currentColor\" x=\"1150\">Garden</tspan>\n",
       "    <tspan class=\"displacy-tag\" dy=\"2em\" fill=\"currentColor\" x=\"1150\">PROPN</tspan>\n",
       "</text>\n",
       "\n",
       "<text class=\"displacy-token\" fill=\"currentColor\" text-anchor=\"middle\" y=\"267.0\">\n",
       "    <tspan class=\"displacy-word\" fill=\"currentColor\" x=\"1260\">parent</tspan>\n",
       "    <tspan class=\"displacy-tag\" dy=\"2em\" fill=\"currentColor\" x=\"1260\">NOUN</tspan>\n",
       "</text>\n",
       "\n",
       "<text class=\"displacy-token\" fill=\"currentColor\" text-anchor=\"middle\" y=\"267.0\">\n",
       "    <tspan class=\"displacy-word\" fill=\"currentColor\" x=\"1370\">raises</tspan>\n",
       "    <tspan class=\"displacy-tag\" dy=\"2em\" fill=\"currentColor\" x=\"1370\">VERB</tspan>\n",
       "</text>\n",
       "\n",
       "<text class=\"displacy-token\" fill=\"currentColor\" text-anchor=\"middle\" y=\"267.0\">\n",
       "    <tspan class=\"displacy-word\" fill=\"currentColor\" x=\"1480\">forecast</tspan>\n",
       "    <tspan class=\"displacy-tag\" dy=\"2em\" fill=\"currentColor\" x=\"1480\">NOUN</tspan>\n",
       "</text>\n",
       "\n",
       "<text class=\"displacy-token\" fill=\"currentColor\" text-anchor=\"middle\" y=\"267.0\">\n",
       "    <tspan class=\"displacy-word\" fill=\"currentColor\" x=\"1590\">despite</tspan>\n",
       "    <tspan class=\"displacy-tag\" dy=\"2em\" fill=\"currentColor\" x=\"1590\">SCONJ</tspan>\n",
       "</text>\n",
       "\n",
       "<text class=\"displacy-token\" fill=\"currentColor\" text-anchor=\"middle\" y=\"267.0\">\n",
       "    <tspan class=\"displacy-word\" fill=\"currentColor\" x=\"1700\">planned</tspan>\n",
       "    <tspan class=\"displacy-tag\" dy=\"2em\" fill=\"currentColor\" x=\"1700\">VERB</tspan>\n",
       "</text>\n",
       "\n",
       "<text class=\"displacy-token\" fill=\"currentColor\" text-anchor=\"middle\" y=\"267.0\">\n",
       "    <tspan class=\"displacy-word\" fill=\"currentColor\" x=\"1810\">wage</tspan>\n",
       "    <tspan class=\"displacy-tag\" dy=\"2em\" fill=\"currentColor\" x=\"1810\">NOUN</tspan>\n",
       "</text>\n",
       "\n",
       "<text class=\"displacy-token\" fill=\"currentColor\" text-anchor=\"middle\" y=\"267.0\">\n",
       "    <tspan class=\"displacy-word\" fill=\"currentColor\" x=\"1920\">hike</tspan>\n",
       "    <tspan class=\"displacy-tag\" dy=\"2em\" fill=\"currentColor\" x=\"1920\">NOUN</tspan>\n",
       "</text>\n",
       "\n",
       "<g class=\"displacy-arrow\">\n",
       "    <path class=\"displacy-arc\" id=\"arrow-29a6e016518c4e8db141bdb09653de35-0-0\" stroke-width=\"2px\" d=\"M70,222.0 C70,167.0 145.0,167.0 145.0,222.0\" fill=\"none\" stroke=\"currentColor\"/>\n",
       "    <text dy=\"1.25em\" style=\"font-size: 0.8em; letter-spacing: 1px\">\n",
       "        <textPath xlink:href=\"#arrow-29a6e016518c4e8db141bdb09653de35-0-0\" class=\"displacy-label\" startOffset=\"50%\" side=\"left\" fill=\"currentColor\" text-anchor=\"middle\">amod</textPath>\n",
       "    </text>\n",
       "    <path class=\"displacy-arrowhead\" d=\"M70,224.0 L62,212.0 78,212.0\" fill=\"currentColor\"/>\n",
       "</g>\n",
       "\n",
       "<g class=\"displacy-arrow\">\n",
       "    <path class=\"displacy-arc\" id=\"arrow-29a6e016518c4e8db141bdb09653de35-0-1\" stroke-width=\"2px\" d=\"M180,222.0 C180,167.0 255.0,167.0 255.0,222.0\" fill=\"none\" stroke=\"currentColor\"/>\n",
       "    <text dy=\"1.25em\" style=\"font-size: 0.8em; letter-spacing: 1px\">\n",
       "        <textPath xlink:href=\"#arrow-29a6e016518c4e8db141bdb09653de35-0-1\" class=\"displacy-label\" startOffset=\"50%\" side=\"left\" fill=\"currentColor\" text-anchor=\"middle\">nsubj</textPath>\n",
       "    </text>\n",
       "    <path class=\"displacy-arrowhead\" d=\"M180,224.0 L172,212.0 188,212.0\" fill=\"currentColor\"/>\n",
       "</g>\n",
       "\n",
       "<g class=\"displacy-arrow\">\n",
       "    <path class=\"displacy-arc\" id=\"arrow-29a6e016518c4e8db141bdb09653de35-0-2\" stroke-width=\"2px\" d=\"M290,222.0 C290,2.0 1370.0,2.0 1370.0,222.0\" fill=\"none\" stroke=\"currentColor\"/>\n",
       "    <text dy=\"1.25em\" style=\"font-size: 0.8em; letter-spacing: 1px\">\n",
       "        <textPath xlink:href=\"#arrow-29a6e016518c4e8db141bdb09653de35-0-2\" class=\"displacy-label\" startOffset=\"50%\" side=\"left\" fill=\"currentColor\" text-anchor=\"middle\">ccomp</textPath>\n",
       "    </text>\n",
       "    <path class=\"displacy-arrowhead\" d=\"M290,224.0 L282,212.0 298,212.0\" fill=\"currentColor\"/>\n",
       "</g>\n",
       "\n",
       "<g class=\"displacy-arrow\">\n",
       "    <path class=\"displacy-arc\" id=\"arrow-29a6e016518c4e8db141bdb09653de35-0-3\" stroke-width=\"2px\" d=\"M400,222.0 C400,112.0 590.0,112.0 590.0,222.0\" fill=\"none\" stroke=\"currentColor\"/>\n",
       "    <text dy=\"1.25em\" style=\"font-size: 0.8em; letter-spacing: 1px\">\n",
       "        <textPath xlink:href=\"#arrow-29a6e016518c4e8db141bdb09653de35-0-3\" class=\"displacy-label\" startOffset=\"50%\" side=\"left\" fill=\"currentColor\" text-anchor=\"middle\">mark</textPath>\n",
       "    </text>\n",
       "    <path class=\"displacy-arrowhead\" d=\"M400,224.0 L392,212.0 408,212.0\" fill=\"currentColor\"/>\n",
       "</g>\n",
       "\n",
       "<g class=\"displacy-arrow\">\n",
       "    <path class=\"displacy-arc\" id=\"arrow-29a6e016518c4e8db141bdb09653de35-0-4\" stroke-width=\"2px\" d=\"M510,222.0 C510,167.0 585.0,167.0 585.0,222.0\" fill=\"none\" stroke=\"currentColor\"/>\n",
       "    <text dy=\"1.25em\" style=\"font-size: 0.8em; letter-spacing: 1px\">\n",
       "        <textPath xlink:href=\"#arrow-29a6e016518c4e8db141bdb09653de35-0-4\" class=\"displacy-label\" startOffset=\"50%\" side=\"left\" fill=\"currentColor\" text-anchor=\"middle\">nsubj</textPath>\n",
       "    </text>\n",
       "    <path class=\"displacy-arrowhead\" d=\"M510,224.0 L502,212.0 518,212.0\" fill=\"currentColor\"/>\n",
       "</g>\n",
       "\n",
       "<g class=\"displacy-arrow\">\n",
       "    <path class=\"displacy-arc\" id=\"arrow-29a6e016518c4e8db141bdb09653de35-0-5\" stroke-width=\"2px\" d=\"M290,222.0 C290,57.0 595.0,57.0 595.0,222.0\" fill=\"none\" stroke=\"currentColor\"/>\n",
       "    <text dy=\"1.25em\" style=\"font-size: 0.8em; letter-spacing: 1px\">\n",
       "        <textPath xlink:href=\"#arrow-29a6e016518c4e8db141bdb09653de35-0-5\" class=\"displacy-label\" startOffset=\"50%\" side=\"left\" fill=\"currentColor\" text-anchor=\"middle\">advcl</textPath>\n",
       "    </text>\n",
       "    <path class=\"displacy-arrowhead\" d=\"M595.0,224.0 L603.0,212.0 587.0,212.0\" fill=\"currentColor\"/>\n",
       "</g>\n",
       "\n",
       "<g class=\"displacy-arrow\">\n",
       "    <path class=\"displacy-arc\" id=\"arrow-29a6e016518c4e8db141bdb09653de35-0-6\" stroke-width=\"2px\" d=\"M620,222.0 C620,167.0 695.0,167.0 695.0,222.0\" fill=\"none\" stroke=\"currentColor\"/>\n",
       "    <text dy=\"1.25em\" style=\"font-size: 0.8em; letter-spacing: 1px\">\n",
       "        <textPath xlink:href=\"#arrow-29a6e016518c4e8db141bdb09653de35-0-6\" class=\"displacy-label\" startOffset=\"50%\" side=\"left\" fill=\"currentColor\" text-anchor=\"middle\">dobj</textPath>\n",
       "    </text>\n",
       "    <path class=\"displacy-arrowhead\" d=\"M695.0,224.0 L703.0,212.0 687.0,212.0\" fill=\"currentColor\"/>\n",
       "</g>\n",
       "\n",
       "<g class=\"displacy-arrow\">\n",
       "    <path class=\"displacy-arc\" id=\"arrow-29a6e016518c4e8db141bdb09653de35-0-7\" stroke-width=\"2px\" d=\"M840,222.0 C840,167.0 915.0,167.0 915.0,222.0\" fill=\"none\" stroke=\"currentColor\"/>\n",
       "    <text dy=\"1.25em\" style=\"font-size: 0.8em; letter-spacing: 1px\">\n",
       "        <textPath xlink:href=\"#arrow-29a6e016518c4e8db141bdb09653de35-0-7\" class=\"displacy-label\" startOffset=\"50%\" side=\"left\" fill=\"currentColor\" text-anchor=\"middle\">aux</textPath>\n",
       "    </text>\n",
       "    <path class=\"displacy-arrowhead\" d=\"M840,224.0 L832,212.0 848,212.0\" fill=\"currentColor\"/>\n",
       "</g>\n",
       "\n",
       "<g class=\"displacy-arrow\">\n",
       "    <path class=\"displacy-arc\" id=\"arrow-29a6e016518c4e8db141bdb09653de35-0-8\" stroke-width=\"2px\" d=\"M730,222.0 C730,112.0 920.0,112.0 920.0,222.0\" fill=\"none\" stroke=\"currentColor\"/>\n",
       "    <text dy=\"1.25em\" style=\"font-size: 0.8em; letter-spacing: 1px\">\n",
       "        <textPath xlink:href=\"#arrow-29a6e016518c4e8db141bdb09653de35-0-8\" class=\"displacy-label\" startOffset=\"50%\" side=\"left\" fill=\"currentColor\" text-anchor=\"middle\">xcomp</textPath>\n",
       "    </text>\n",
       "    <path class=\"displacy-arrowhead\" d=\"M920.0,224.0 L928.0,212.0 912.0,212.0\" fill=\"currentColor\"/>\n",
       "</g>\n",
       "\n",
       "<g class=\"displacy-arrow\">\n",
       "    <path class=\"displacy-arc\" id=\"arrow-29a6e016518c4e8db141bdb09653de35-0-9\" stroke-width=\"2px\" d=\"M1060,222.0 C1060,167.0 1135.0,167.0 1135.0,222.0\" fill=\"none\" stroke=\"currentColor\"/>\n",
       "    <text dy=\"1.25em\" style=\"font-size: 0.8em; letter-spacing: 1px\">\n",
       "        <textPath xlink:href=\"#arrow-29a6e016518c4e8db141bdb09653de35-0-9\" class=\"displacy-label\" startOffset=\"50%\" side=\"left\" fill=\"currentColor\" text-anchor=\"middle\">compound</textPath>\n",
       "    </text>\n",
       "    <path class=\"displacy-arrowhead\" d=\"M1060,224.0 L1052,212.0 1068,212.0\" fill=\"currentColor\"/>\n",
       "</g>\n",
       "\n",
       "<g class=\"displacy-arrow\">\n",
       "    <path class=\"displacy-arc\" id=\"arrow-29a6e016518c4e8db141bdb09653de35-0-10\" stroke-width=\"2px\" d=\"M1170,222.0 C1170,167.0 1245.0,167.0 1245.0,222.0\" fill=\"none\" stroke=\"currentColor\"/>\n",
       "    <text dy=\"1.25em\" style=\"font-size: 0.8em; letter-spacing: 1px\">\n",
       "        <textPath xlink:href=\"#arrow-29a6e016518c4e8db141bdb09653de35-0-10\" class=\"displacy-label\" startOffset=\"50%\" side=\"left\" fill=\"currentColor\" text-anchor=\"middle\">compound</textPath>\n",
       "    </text>\n",
       "    <path class=\"displacy-arrowhead\" d=\"M1170,224.0 L1162,212.0 1178,212.0\" fill=\"currentColor\"/>\n",
       "</g>\n",
       "\n",
       "<g class=\"displacy-arrow\">\n",
       "    <path class=\"displacy-arc\" id=\"arrow-29a6e016518c4e8db141bdb09653de35-0-11\" stroke-width=\"2px\" d=\"M1280,222.0 C1280,167.0 1355.0,167.0 1355.0,222.0\" fill=\"none\" stroke=\"currentColor\"/>\n",
       "    <text dy=\"1.25em\" style=\"font-size: 0.8em; letter-spacing: 1px\">\n",
       "        <textPath xlink:href=\"#arrow-29a6e016518c4e8db141bdb09653de35-0-11\" class=\"displacy-label\" startOffset=\"50%\" side=\"left\" fill=\"currentColor\" text-anchor=\"middle\">nsubj</textPath>\n",
       "    </text>\n",
       "    <path class=\"displacy-arrowhead\" d=\"M1280,224.0 L1272,212.0 1288,212.0\" fill=\"currentColor\"/>\n",
       "</g>\n",
       "\n",
       "<g class=\"displacy-arrow\">\n",
       "    <path class=\"displacy-arc\" id=\"arrow-29a6e016518c4e8db141bdb09653de35-0-12\" stroke-width=\"2px\" d=\"M1390,222.0 C1390,167.0 1465.0,167.0 1465.0,222.0\" fill=\"none\" stroke=\"currentColor\"/>\n",
       "    <text dy=\"1.25em\" style=\"font-size: 0.8em; letter-spacing: 1px\">\n",
       "        <textPath xlink:href=\"#arrow-29a6e016518c4e8db141bdb09653de35-0-12\" class=\"displacy-label\" startOffset=\"50%\" side=\"left\" fill=\"currentColor\" text-anchor=\"middle\">dobj</textPath>\n",
       "    </text>\n",
       "    <path class=\"displacy-arrowhead\" d=\"M1465.0,224.0 L1473.0,212.0 1457.0,212.0\" fill=\"currentColor\"/>\n",
       "</g>\n",
       "\n",
       "<g class=\"displacy-arrow\">\n",
       "    <path class=\"displacy-arc\" id=\"arrow-29a6e016518c4e8db141bdb09653de35-0-13\" stroke-width=\"2px\" d=\"M1390,222.0 C1390,112.0 1580.0,112.0 1580.0,222.0\" fill=\"none\" stroke=\"currentColor\"/>\n",
       "    <text dy=\"1.25em\" style=\"font-size: 0.8em; letter-spacing: 1px\">\n",
       "        <textPath xlink:href=\"#arrow-29a6e016518c4e8db141bdb09653de35-0-13\" class=\"displacy-label\" startOffset=\"50%\" side=\"left\" fill=\"currentColor\" text-anchor=\"middle\">prep</textPath>\n",
       "    </text>\n",
       "    <path class=\"displacy-arrowhead\" d=\"M1580.0,224.0 L1588.0,212.0 1572.0,212.0\" fill=\"currentColor\"/>\n",
       "</g>\n",
       "\n",
       "<g class=\"displacy-arrow\">\n",
       "    <path class=\"displacy-arc\" id=\"arrow-29a6e016518c4e8db141bdb09653de35-0-14\" stroke-width=\"2px\" d=\"M1720,222.0 C1720,112.0 1910.0,112.0 1910.0,222.0\" fill=\"none\" stroke=\"currentColor\"/>\n",
       "    <text dy=\"1.25em\" style=\"font-size: 0.8em; letter-spacing: 1px\">\n",
       "        <textPath xlink:href=\"#arrow-29a6e016518c4e8db141bdb09653de35-0-14\" class=\"displacy-label\" startOffset=\"50%\" side=\"left\" fill=\"currentColor\" text-anchor=\"middle\">amod</textPath>\n",
       "    </text>\n",
       "    <path class=\"displacy-arrowhead\" d=\"M1720,224.0 L1712,212.0 1728,212.0\" fill=\"currentColor\"/>\n",
       "</g>\n",
       "\n",
       "<g class=\"displacy-arrow\">\n",
       "    <path class=\"displacy-arc\" id=\"arrow-29a6e016518c4e8db141bdb09653de35-0-15\" stroke-width=\"2px\" d=\"M1830,222.0 C1830,167.0 1905.0,167.0 1905.0,222.0\" fill=\"none\" stroke=\"currentColor\"/>\n",
       "    <text dy=\"1.25em\" style=\"font-size: 0.8em; letter-spacing: 1px\">\n",
       "        <textPath xlink:href=\"#arrow-29a6e016518c4e8db141bdb09653de35-0-15\" class=\"displacy-label\" startOffset=\"50%\" side=\"left\" fill=\"currentColor\" text-anchor=\"middle\">compound</textPath>\n",
       "    </text>\n",
       "    <path class=\"displacy-arrowhead\" d=\"M1830,224.0 L1822,212.0 1838,212.0\" fill=\"currentColor\"/>\n",
       "</g>\n",
       "\n",
       "<g class=\"displacy-arrow\">\n",
       "    <path class=\"displacy-arc\" id=\"arrow-29a6e016518c4e8db141bdb09653de35-0-16\" stroke-width=\"2px\" d=\"M1610,222.0 C1610,57.0 1915.0,57.0 1915.0,222.0\" fill=\"none\" stroke=\"currentColor\"/>\n",
       "    <text dy=\"1.25em\" style=\"font-size: 0.8em; letter-spacing: 1px\">\n",
       "        <textPath xlink:href=\"#arrow-29a6e016518c4e8db141bdb09653de35-0-16\" class=\"displacy-label\" startOffset=\"50%\" side=\"left\" fill=\"currentColor\" text-anchor=\"middle\">pobj</textPath>\n",
       "    </text>\n",
       "    <path class=\"displacy-arrowhead\" d=\"M1915.0,224.0 L1923.0,212.0 1907.0,212.0\" fill=\"currentColor\"/>\n",
       "</g>\n",
       "</svg></span>"
      ],
      "text/plain": [
       "<IPython.core.display.HTML object>"
      ]
     },
     "metadata": {},
     "output_type": "display_data"
    }
   ],
   "source": [
    "# See the dependencies\n",
    "spacy.displacy.render(processed_hline, style='dep', jupyter=True, options={'distance': 110}) "
   ]
  },
  {
   "cell_type": "code",
   "execution_count": 11,
   "metadata": {},
   "outputs": [
    {
     "data": {
      "text/html": [
       "<span class=\"tex2jax_ignore\"><div class=\"entities\" style=\"line-height: 2.5; direction: ltr\">\n",
       "<mark class=\"entity\" style=\"background: #7aecec; padding: 0.45em 0.6em; margin: 0 0.25em; line-height: 1; border-radius: 0.35em;\">\n",
       "    Darden\n",
       "    <span style=\"font-size: 0.8em; font-weight: bold; line-height: 1; border-radius: 0.35em; vertical-align: middle; margin-left: 0.5rem\">ORG</span>\n",
       "</mark>\n",
       " shares fall as CEO announces plans to retire; \n",
       "<mark class=\"entity\" style=\"background: #7aecec; padding: 0.45em 0.6em; margin: 0 0.25em; line-height: 1; border-radius: 0.35em;\">\n",
       "    Olive Garden\n",
       "    <span style=\"font-size: 0.8em; font-weight: bold; line-height: 1; border-radius: 0.35em; vertical-align: middle; margin-left: 0.5rem\">ORG</span>\n",
       "</mark>\n",
       " parent raises forecast despite planned wage hike</div></span>"
      ],
      "text/plain": [
       "<IPython.core.display.HTML object>"
      ]
     },
     "metadata": {},
     "output_type": "display_data"
    }
   ],
   "source": [
    "# Show important entities; tag ORG = Companies\n",
    "spacy.displacy.render(processed_hline, style='ent', jupyter=True, options={'distance': 120}) "
   ]
  },
  {
   "cell_type": "code",
   "execution_count": 12,
   "metadata": {},
   "outputs": [
    {
     "data": {
      "text/plain": [
       "['Darden',\n",
       " 'Olive Garden',\n",
       " 'Lowe',\n",
       " 'Mirror',\n",
       " 'Runway',\n",
       " 'Kay Jewelers',\n",
       " 'Nordstrom',\n",
       " \"Dick's Sporting Goods\",\n",
       " 'Macy',\n",
       " 'Lowe',\n",
       " 'Target',\n",
       " 'Home Depot',\n",
       " 'EV']"
      ]
     },
     "execution_count": 12,
     "metadata": {},
     "output_type": "execute_result"
    }
   ],
   "source": [
    "# Extract ORG from headlines\n",
    "companies = []\n",
    "for title in TC:\n",
    "    doc = nlp(title.text)\n",
    "    for token in doc.ents:\n",
    "        if token.label_ == 'ORG':\n",
    "            companies.append(token.text)\n",
    "        else: \n",
    "            pass\n",
    "        \n",
    "companies"
   ]
  },
  {
   "cell_type": "code",
   "execution_count": 13,
   "metadata": {},
   "outputs": [],
   "source": [
    "# Which data will be displayed for the stock\n",
    "Stock_info = {\n",
    "    'Org': [],\n",
    "    'Symbol': [],\n",
    "    'currentPrice': [],\n",
    "    'dayHigh': [],\n",
    "    'dayLow': [],\n",
    "    'forwardPE': [],\n",
    "    'dividendYield': []\n",
    "}"
   ]
  }
 ],
 "metadata": {
  "kernelspec": {
   "display_name": "Python 3",
   "language": "python",
   "name": "python3"
  },
  "language_info": {
   "codemirror_mode": {
    "name": "ipython",
    "version": 3
   },
   "file_extension": ".py",
   "mimetype": "text/x-python",
   "name": "python",
   "nbconvert_exporter": "python",
   "pygments_lexer": "ipython3",
   "version": "3.8.8"
  }
 },
 "nbformat": 4,
 "nbformat_minor": 4
}
